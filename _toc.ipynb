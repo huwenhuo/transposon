{
 "cells": [
  {
   "cell_type": "markdown",
   "id": "75e9cd32-a0a4-4b75-b0d8-1af8254fe294",
   "metadata": {},
   "source": [
    "# [Bleuprint RNASeq summary & treeplot](notebook/nb_TE_blueprint_HSPC_2024May29.ipynb)\n"
   ]
  },
  {
   "cell_type": "markdown",
   "id": "54de31da-b977-4552-920b-9b7920f6a7fd",
   "metadata": {},
   "source": [
    "- tried a summary of Blueprint RNASeq \n",
    "- tree plot\n",
    "- nb_TE_blueprint_HSPC_2024May29.ipynb"
   ]
  },
  {
   "cell_type": "markdown",
   "id": "c2fa0c69-a571-4594-ab8b-9c17b6fd5cea",
   "metadata": {},
   "source": [
    "# [Cell line and HSPC ChIP-Seq and ATACSeq](notebook/nb_enhancer_resource_list_May25.ipynb)"
   ]
  },
  {
   "cell_type": "markdown",
   "id": "87ea29cc-5380-4685-8065-a3e8aa0d8de4",
   "metadata": {},
   "source": [
    "- cell lines TF ChIPSeq\n",
    "- cell lines Epi ChIPSeq\n",
    "- cell line ATACSeq\n",
    "- nb_enhancer_resource_list_May25.ipynb\n"
   ]
  },
  {
   "cell_type": "markdown",
   "id": "7a419a4a-a241-4af2-8699-b2ee38de2acf",
   "metadata": {},
   "source": [
    "# [HSPC cell ATACSeq](./notebook/nb_TE_HSC_ATAC.ipynb)"
   ]
  },
  {
   "cell_type": "markdown",
   "id": "7ee36a7b-36dd-4219-bd8f-6657a9713d9b",
   "metadata": {},
   "source": [
    "# [ATACSeq summary](./notebook/nb_TE_HSC_ATAC_Jun10.ipynb)\n"
   ]
  },
  {
   "cell_type": "markdown",
   "id": "a2ce8ca2-d41f-47ba-ad70-b021ad4a6787",
   "metadata": {},
   "source": [
    "# Clinical data cohorts realigned to t2t genome for transposon expression analysis"
   ]
  },
  {
   "cell_type": "markdown",
   "id": "8b49083b-0736-48e8-94b6-1837b371f2cb",
   "metadata": {},
   "source": [
    "## [TARGET AML sample](notebook/target.ipynb)\n"
   ]
  },
  {
   "cell_type": "markdown",
   "id": "6613d606-5a2b-40de-960a-3eb0b12c1555",
   "metadata": {},
   "source": [
    "## [TARGET AML sample](notebook/stJude.ipynb)\n"
   ]
  },
  {
   "cell_type": "markdown",
   "id": "1441aeba-7f4a-4668-ac67-24257482ac32",
   "metadata": {},
   "source": [
    "## [BEAT AML](notebook/beataml_myDownload.ipynb)\n",
    "- [BEAT AML: previous data](notebook/beataml.ipynb)"
   ]
  },
  {
   "cell_type": "markdown",
   "id": "f3f78f87-8afd-4d8f-b2df-0633cec2e778",
   "metadata": {},
   "source": [
    "## [TCGA AML RNASeq](notebook/tcga_aml_t2t.ipynb)"
   ]
  },
  {
   "cell_type": "markdown",
   "id": "3cae0ddc-3b98-40eb-ae88-caa1859b70c1",
   "metadata": {},
   "source": [
    "## [Ari Melnick dx and relapse cohort](notebook/dx_relapse.ipynb)"
   ]
  },
  {
   "cell_type": "code",
   "execution_count": null,
   "id": "a99ad489-dd27-42c6-9850-23a893c224c7",
   "metadata": {},
   "outputs": [],
   "source": []
  }
 ],
 "metadata": {
  "kernelspec": {
   "display_name": "Python 3 (ipykernel)",
   "language": "python",
   "name": "python3"
  },
  "language_info": {
   "codemirror_mode": {
    "name": "ipython",
    "version": 3
   },
   "file_extension": ".py",
   "mimetype": "text/x-python",
   "name": "python",
   "nbconvert_exporter": "python",
   "pygments_lexer": "ipython3",
   "version": "3.10.15"
  }
 },
 "nbformat": 4,
 "nbformat_minor": 5
}
