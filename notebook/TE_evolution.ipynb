{
 "cells": [
  {
   "cell_type": "code",
   "execution_count": null,
   "id": "35ac47f3-e2a3-4b1f-9b32-cd4f7961e0ef",
   "metadata": {},
   "outputs": [],
   "source": [
    "We used the program TRsearch from REPET [45] to find the positions of both 5′ and 3′ LTRs from a complete element. \n",
    "We discarded predicted LTRs that did not correspond to the extremity of an element (in a range of 50 bp). Pairs of LTRs were aligned using MUSCLE [75] and insertion dates of LTR-RTs were estimated considering a mutation rate of 1.3 × 10-8 substitutions/site/year [76]. Finally, using R, the distribution of insertion dates was plotted for each family with 20 or more copies with an estimated date. For each distribution, a burst peak date was determined and a period of activity was calculated by considering the shortest period of time containing more than 80% of the dated insertions. Phylogeny was established by computing multiple alignments of all intact LTR-RTs belonging to families RLG_famc1 and RLC_famc2 using MAFFT [70]. A neighbor-joining tree was then built using FasTree [77]. The tree was drawn using figtree 1.4.2 [78].\n",
    "\n",
    "MUSCLE: sequence align, Clustal Omega, PRANK, MEGA\n",
    "MAFFT: phylogeny\n",
    "FasTree: tree build\n",
    "figtree: tree plot"
   ]
  },
  {
   "cell_type": "code",
   "execution_count": null,
   "id": "4027659d-db84-4b2d-ad13-1c331f3dd1f9",
   "metadata": {},
   "outputs": [],
   "source": [
    "PhyML or RaxML"
   ]
  },
  {
   "cell_type": "code",
   "execution_count": null,
   "id": "9c33b175-9bf4-432d-9e32-c81eff77257a",
   "metadata": {},
   "outputs": [],
   "source": [
    "install bioconda::raxml-ng"
   ]
  }
 ],
 "metadata": {
  "kernelspec": {
   "display_name": "feb24R",
   "language": "R",
   "name": "feb24r"
  },
  "language_info": {
   "codemirror_mode": "r",
   "file_extension": ".r",
   "mimetype": "text/x-r-source",
   "name": "R",
   "pygments_lexer": "r",
   "version": "4.3.3"
  }
 },
 "nbformat": 4,
 "nbformat_minor": 5
}
