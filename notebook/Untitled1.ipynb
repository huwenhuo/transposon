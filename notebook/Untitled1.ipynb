{
 "cells": [
  {
   "cell_type": "code",
   "execution_count": null,
   "id": "9b5334f4-43f5-4d55-baec-b8268d310993",
   "metadata": {},
   "outputs": [],
   "source": [
    "library(glue)\n",
    "library(data.table)\n"
   ]
  },
  {
   "cell_type": "code",
   "execution_count": null,
   "id": "0f6869ac-8916-4dd9-8da4-b671b5335fe9",
   "metadata": {},
   "outputs": [],
   "source": [
    "GSM2027310\t1005_D60_Flu10_DC1\n",
    "GSM2027311\t1005_D60_Flu10_DC2\n",
    "GSM2027312\t1005_D60_Flu10_DC3\n",
    "GSM2027313\t1005_D60_Flu10_DC4\n",
    "GSM2027314\t1006_D60_Flu10_DC1\n",
    "GSM2027315\t1006_D60_Flu10_DC2\n",
    "GSM2027316\t1006_D60_Flu10_DC3\n",
    "GSM2027317\t1006_D60_Flu10_DC4\n",
    "GSM2027318\t1009_D60_Flu10_DC1\n",
    "GSM2027319\t1009_D60_Flu10_DC2\n",
    "GSM2027320\t1009_D60_Flu10_DC3\n",
    "GSM2027321\t1009_D60_Flu10_DC4\n"
   ]
  }
 ],
 "metadata": {
  "kernelspec": {
   "display_name": "feb24R",
   "language": "R",
   "name": "feb24r"
  },
  "language_info": {
   "codemirror_mode": "r",
   "file_extension": ".r",
   "mimetype": "text/x-r-source",
   "name": "R",
   "pygments_lexer": "r",
   "version": "4.3.2"
  }
 },
 "nbformat": 4,
 "nbformat_minor": 5
}
