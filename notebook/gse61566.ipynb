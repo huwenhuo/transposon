{
 "cells": [
  {
   "cell_type": "markdown",
   "id": "7524da37-ece1-42c3-a12c-49a42a022e98",
   "metadata": {},
   "source": [
    "# import packges"
   ]
  },
  {
   "cell_type": "markdown",
   "id": "e2af78d3-257e-4f6d-964e-d44b98ea6860",
   "metadata": {},
   "source": [
    "this is continued from dataset/stJude.ipynb"
   ]
  },
  {
   "cell_type": "code",
   "execution_count": 6,
   "id": "5d561f81-5e6e-457e-99f0-79b8cb56f6e9",
   "metadata": {},
   "outputs": [],
   "source": [
    "library(DESeq2)\n",
    "library(data.table)\n",
    "library(dplyr)\n",
    "library(TxDb.Hsapiens.UCSC.hg38.knownGene)\n",
    "library(clusterProfiler)\n",
    "library(AnnotationDbi)\n",
    "library(org.Hs.eg.db)\n",
    "library(GSVA)\n",
    "library(ggplot2)\n",
    "library(gridExtra)\n",
    "library(RColorBrewer)\n",
    "library(IRdisplay)\n",
    "library(GGally)\n",
    "library(ChIPpeakAnno)\n",
    "library(universalmotif)\n",
    "library(IRdisplay)\n",
    "library(ggpubr)\n",
    "library(DiffBind)\n",
    "library(kableExtra)\n",
    "library(tidyverse)\n",
    "library(ggraph)\n",
    "library(tidygraph)\n",
    "library(readxl)\n",
    "library(corrplot)\n",
    "library(ggrepel)\n",
    "library(msigdbr)\n",
    "library(fgsea)\n",
    "library(ggvenn)\n",
    "library(ComplexHeatmap)\n",
    "library(ggVennDiagram)\n",
    "library(venneuler)\n",
    "library(sva)\n",
    "library(DT)\n",
    "library(tools)\n",
    "library(tidyverse)\n",
    "library(RSQLite)\n",
    "\n",
    "library(edgeR)\n",
    "\n",
    "txdb <- TxDb.Hsapiens.UCSC.hg38.knownGene\n",
    "\n",
    "source('~/script/utils.r')\n",
    "base_dir = '/research_jude/rgs01_jude/groups/jxugrp/home/common/Lab_Members/WenhuoHu/dataset/'\n",
    "\n",
    "setwd(base_dir)\n"
   ]
  },
  {
   "cell_type": "markdown",
   "id": "d544c048-e9ee-4b33-94fc-072c36e97891",
   "metadata": {},
   "source": [
    "# design table"
   ]
  },
  {
   "cell_type": "code",
   "execution_count": 13,
   "id": "e704184b-9762-4df9-854a-7441acad0a1e",
   "metadata": {},
   "outputs": [],
   "source": [
    "dsn = fread(text = 'GSE61566 GSM1508256 hs_CD34_1\n",
    "GSE61566 GSM1508257 hs_CD34_2\n",
    "GSE61566 GSM1508258 hs_CD34_3\n",
    "GSE61566 GSM1508259 hs_BFU_1\n",
    "GSE61566 GSM1508260 hs_BFU_2\n",
    "GSE61566 GSM1508261 hs_BFU_3\n",
    "GSE61566 GSM1508262 hs_CFU_1\n",
    "GSE61566 GSM1508263 hs_CFU_2\n",
    "GSE61566 GSM1508264 hs_CFU_3', header = F)\n",
    "setnames(dsn, c('gse_id', 'gsm_id', 'sample_name'))"
   ]
  },
  {
   "cell_type": "code",
   "execution_count": 18,
   "id": "f64d87ac-721b-4d46-b177-36ad93f7253c",
   "metadata": {},
   "outputs": [
    {
     "data": {
      "text/html": [
       "<table class=\"dataframe\">\n",
       "<caption>A data.table: 6 × 4</caption>\n",
       "<thead>\n",
       "\t<tr><th scope=col>gse_id</th><th scope=col>gsm_id</th><th scope=col>sample_name</th><th scope=col>srr_id</th></tr>\n",
       "\t<tr><th scope=col>&lt;chr&gt;</th><th scope=col>&lt;chr&gt;</th><th scope=col>&lt;chr&gt;</th><th scope=col>&lt;chr&gt;</th></tr>\n",
       "</thead>\n",
       "<tbody>\n",
       "\t<tr><td>GSE61566</td><td>GSM1508256</td><td>hs_CD34_1</td><td>SRR1581233</td></tr>\n",
       "\t<tr><td>GSE61566</td><td>GSM1508257</td><td>hs_CD34_2</td><td>SRR1581234</td></tr>\n",
       "\t<tr><td>GSE61566</td><td>GSM1508258</td><td>hs_CD34_3</td><td>SRR1581235</td></tr>\n",
       "\t<tr><td>GSE61566</td><td>GSM1508259</td><td>hs_BFU_1 </td><td>SRR1581236</td></tr>\n",
       "\t<tr><td>GSE61566</td><td>GSM1508260</td><td>hs_BFU_2 </td><td>SRR1581237</td></tr>\n",
       "\t<tr><td>GSE61566</td><td>GSM1508261</td><td>hs_BFU_3 </td><td>SRR1581238</td></tr>\n",
       "</tbody>\n",
       "</table>\n"
      ],
      "text/latex": [
       "A data.table: 6 × 4\n",
       "\\begin{tabular}{llll}\n",
       " gse\\_id & gsm\\_id & sample\\_name & srr\\_id\\\\\n",
       " <chr> & <chr> & <chr> & <chr>\\\\\n",
       "\\hline\n",
       "\t GSE61566 & GSM1508256 & hs\\_CD34\\_1 & SRR1581233\\\\\n",
       "\t GSE61566 & GSM1508257 & hs\\_CD34\\_2 & SRR1581234\\\\\n",
       "\t GSE61566 & GSM1508258 & hs\\_CD34\\_3 & SRR1581235\\\\\n",
       "\t GSE61566 & GSM1508259 & hs\\_BFU\\_1  & SRR1581236\\\\\n",
       "\t GSE61566 & GSM1508260 & hs\\_BFU\\_2  & SRR1581237\\\\\n",
       "\t GSE61566 & GSM1508261 & hs\\_BFU\\_3  & SRR1581238\\\\\n",
       "\\end{tabular}\n"
      ],
      "text/markdown": [
       "\n",
       "A data.table: 6 × 4\n",
       "\n",
       "| gse_id &lt;chr&gt; | gsm_id &lt;chr&gt; | sample_name &lt;chr&gt; | srr_id &lt;chr&gt; |\n",
       "|---|---|---|---|\n",
       "| GSE61566 | GSM1508256 | hs_CD34_1 | SRR1581233 |\n",
       "| GSE61566 | GSM1508257 | hs_CD34_2 | SRR1581234 |\n",
       "| GSE61566 | GSM1508258 | hs_CD34_3 | SRR1581235 |\n",
       "| GSE61566 | GSM1508259 | hs_BFU_1  | SRR1581236 |\n",
       "| GSE61566 | GSM1508260 | hs_BFU_2  | SRR1581237 |\n",
       "| GSE61566 | GSM1508261 | hs_BFU_3  | SRR1581238 |\n",
       "\n"
      ],
      "text/plain": [
       "  gse_id   gsm_id     sample_name srr_id    \n",
       "1 GSE61566 GSM1508256 hs_CD34_1   SRR1581233\n",
       "2 GSE61566 GSM1508257 hs_CD34_2   SRR1581234\n",
       "3 GSE61566 GSM1508258 hs_CD34_3   SRR1581235\n",
       "4 GSE61566 GSM1508259 hs_BFU_1    SRR1581236\n",
       "5 GSE61566 GSM1508260 hs_BFU_2    SRR1581237\n",
       "6 GSE61566 GSM1508261 hs_BFU_3    SRR1581238"
      ]
     },
     "metadata": {},
     "output_type": "display_data"
    }
   ],
   "source": [
    "head(dsn)"
   ]
  },
  {
   "cell_type": "code",
   "execution_count": 15,
   "id": "565ef3e0-f974-450e-aca7-9ebc402367d8",
   "metadata": {},
   "outputs": [],
   "source": [
    "dsn[, srr_id := {system(paste0('esearch -db sra -query \"', gsm_id, '\" | efetch -format docsum | accn-at-a-time | grep -i srr | tr [:lower:] [:upper:] | tr \"\\n\" \",\" '), intern = T)}, by = 1:nrow(dsn) ]\n"
   ]
  },
  {
   "cell_type": "code",
   "execution_count": 17,
   "id": "74e7314d-b85f-432a-b3b0-6c0db6d1619f",
   "metadata": {},
   "outputs": [],
   "source": [
    "dsn[, srr_id := sub(',', '', srr_id) ]"
   ]
  },
  {
   "cell_type": "code",
   "execution_count": null,
   "id": "c2e7f789-7820-4c3c-9bbd-11e109e818ab",
   "metadata": {},
   "outputs": [],
   "source": [
    "data_dir = '/home/whu78/WenhuoHu/dataset/gse616566/'\n",
    "dsn[, sample_dir := paste0(data_dir, 'data/', gsm_id, '/') ]\n",
    "inv = dsn[, {dir.create(sample_dir, recursive = T)}, by = 1:nrow(dsn) ]\n"
   ]
  },
  {
   "cell_type": "code",
   "execution_count": 23,
   "id": "247f4c93-cd6a-4402-b3c3-71df3e973919",
   "metadata": {},
   "outputs": [],
   "source": [
    "setwd(data_dir)"
   ]
  },
  {
   "cell_type": "code",
   "execution_count": 27,
   "id": "ecaccab9-63f2-4fb6-9946-f1923dace157",
   "metadata": {},
   "outputs": [],
   "source": [
    "source('~/script/utils.r')"
   ]
  },
  {
   "cell_type": "code",
   "execution_count": 42,
   "id": "c44cca68-eb7e-443b-8cb8-1edc921576dd",
   "metadata": {},
   "outputs": [],
   "source": [
    "dsn[, prefetch_cmd := paste0('singularity exec ', sif$sratool, ' prefetch ', srr_id, ' -O ', sample_dir, ' --max-size 40g')]\n",
    "dsn[, fastqdump_cmd := paste0('singularity exec ', sif$sratool, ' fasterq-dump ', sample_dir, srr_id,  ' --outdir ', sample_dir)]\n"
   ]
  },
  {
   "cell_type": "code",
   "execution_count": 33,
   "id": "b34cc7d0-5595-466c-8783-d3122e7badea",
   "metadata": {},
   "outputs": [],
   "source": [
    "write(dsn$prefetch_cmd, file = 'run_fetch.sh') \n",
    "write(dsn$fastqdump_cmd, file = 'run_fetch.sh', append = T)\n"
   ]
  },
  {
   "cell_type": "code",
   "execution_count": 43,
   "id": "1d0f3cea-bc16-44dc-8a53-a58ba3d865a8",
   "metadata": {},
   "outputs": [
    {
     "data": {
      "text/html": [
       "TRUE"
      ],
      "text/latex": [
       "TRUE"
      ],
      "text/markdown": [
       "TRUE"
      ],
      "text/plain": [
       "[1] TRUE"
      ]
     },
     "metadata": {},
     "output_type": "display_data"
    }
   ],
   "source": [
    "dsn[, fq_name := paste0(sample_dir, srr_id, '.fastq')]\n",
    "file.exists(dsn[1, fq_name])\n"
   ]
  },
  {
   "cell_type": "code",
   "execution_count": 44,
   "id": "73262620-19ec-451c-b9e0-56095a76965a",
   "metadata": {},
   "outputs": [],
   "source": [
    "write.csv(dsn[, .(sample_name, fq_name)], file = 'samplesheet.csv', quote = F, row.names = F)"
   ]
  }
 ],
 "metadata": {
  "kernelspec": {
   "display_name": "novR",
   "language": "R",
   "name": "novr"
  },
  "language_info": {
   "codemirror_mode": "r",
   "file_extension": ".r",
   "mimetype": "text/x-r-source",
   "name": "R",
   "pygments_lexer": "r",
   "version": "4.3.3"
  }
 },
 "nbformat": 4,
 "nbformat_minor": 5
}
