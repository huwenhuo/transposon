{
 "cells": [
  {
   "cell_type": "markdown",
   "id": "8a777eff-baba-4939-a723-2a09d551fd49",
   "metadata": {},
   "source": [
    "# import library"
   ]
  },
  {
   "cell_type": "code",
   "execution_count": 213,
   "id": "b7a1b7f2-0684-4787-8d75-18d68559af04",
   "metadata": {},
   "outputs": [],
   "source": [
    "library(DESeq2)\n",
    "library(data.table)\n",
    "library(dplyr)\n",
    "library(ChIPseeker)\n",
    "library(TxDb.Hsapiens.UCSC.hg38.knownGene)\n",
    "library(EnsDb.Hsapiens.v75)\n",
    "library(clusterProfiler)\n",
    "library(R.utils)\n",
    "library(AnnotationDbi)\n",
    "library(sva)\n",
    "library(org.Hs.eg.db)\n",
    "library(ggplot2)\n",
    "library(gridExtra)\n",
    "library(IRdisplay)\n",
    "library(GGally)\n",
    "library(ChIPpeakAnno)\n",
    "library(IRdisplay)\n",
    "library(ggpubr)\n",
    "library(DiffBind)\n",
    "library(Seurat)\n",
    "library(kableExtra)\n",
    "library(tidyverse)\n",
    "library(ggraph)\n",
    "library(tidygraph)\n",
    "library(clusterProfiler)\n",
    "library(enrichplot)\n",
    "library(readxl)\n",
    "library(umap)\n",
    "library(corrplot)\n",
    "library(ggrepel)\n",
    "library(msigdbr)\n",
    "library(fgsea)\n",
    "library(ggvenn)\n",
    "library(ComplexHeatmap)\n",
    "library(ggVennDiagram)\n",
    "library(venneuler)\n",
    "library(sva)\n",
    "library(DT)\n",
    "library(tools)\n",
    "library(tidyverse)\n",
    "library(maSigPro)\n",
    "library(RSQLite)\n",
    "library(glue)\n",
    "\n",
    "library(edgeR)\n",
    "\n",
    "txdb <- TxDb.Hsapiens.UCSC.hg38.knownGene\n"
   ]
  },
  {
   "cell_type": "code",
   "execution_count": 17,
   "id": "0cffe40e-5701-4279-8828-ce93fdc976e9",
   "metadata": {},
   "outputs": [],
   "source": [
    "dir.create(data_dir)"
   ]
  },
  {
   "cell_type": "code",
   "execution_count": 167,
   "id": "b015a2a5-ba3c-4f28-9b0a-64712aeb6bbd",
   "metadata": {},
   "outputs": [],
   "source": [
    "data_dir = '/research_jude/rgs01_jude/groups/jxugrp/home/common/Data_Public/RNA_seq/DBA/'\n",
    "base_dir = '/research_jude/rgs01_jude/groups/jxugrp/home/common/Lab_Members/WenhuoHu/TE/Macraphge_Monocyte_DC/' \n",
    "setwd(data_dir)\n",
    "source('~/script/utils.r')\n",
    "\n"
   ]
  },
  {
   "cell_type": "markdown",
   "id": "afc7e688-31d5-4b96-827e-bb0b744ef07d",
   "metadata": {},
   "source": [
    "# import design table"
   ]
  },
  {
   "cell_type": "code",
   "execution_count": 72,
   "id": "df85e6c5-698e-4e9d-a747-3c4e8e835884",
   "metadata": {},
   "outputs": [],
   "source": [
    "# GSE119954 \n",
    "# 9 individuals with DBA with putative splice mutations and 5 control individuals were processed for RNA-seq.\n",
    "\n",
    "dsn_gse119954_string = glue(\n",
    "    'GSM3389330\tControl LCL 1\tcontrol1\n",
    "GSM3389331\tControl LCL 2\tcontrol2\n",
    "GSM3389332\tControl LCL 3\tcontrol3\n",
    "GSM3389333\tControl LCL 4\tcontrol4\n",
    "GSM3389334\tControl LCL 5\tcontrol5\n",
    "GSM3389335\tDBA splice mutant LCL 1\tdba1\n",
    "GSM3389336\tDBA splice mutant LCL 2\tdba2\n",
    "GSM3389337\tDBA splice mutant LCL 3\tdba3\n",
    "GSM3389338\tDBA splice mutant LCL 4\tdba4\n",
    "GSM3389339\tDBA splice mutant LCL 5\tdba5\n",
    "GSM3389340\tDBA splice mutant LCL 6\tdba6\n",
    "GSM3389341\tDBA splice mutant LCL 7\tdba7\n",
    "GSM3389342\tDBA splice mutant LCL 8\tdba8\n",
    "GSM3389343\tDBA splice mutant LCL 9\tdba9')\n",
    "\n"
   ]
  },
  {
   "cell_type": "code",
   "execution_count": 73,
   "id": "9edb93d3-3568-4855-a9cb-4df97dd22865",
   "metadata": {},
   "outputs": [],
   "source": [
    "# GSE181830\n",
    "# Directional paired-end bulk RNAseq of CD34-Lin-CD71+GYPA+ erythroblasts FACS-isolated from human bone marrow from healthy controls (n=3) and patients with Diamond- Blackfan anemia (n=3 transfusion-dependent; n=1 transfusion independent and n=1 steroid-dependent)\n",
    "\n",
    "dsn_gse181830_string = glue(\n",
    "'GSM5534068\tCon1\tcontrol6\n",
    "GSM5534069\tCon2\tcontrol7\n",
    "GSM5534070\tCon3\tcontrol8\n",
    "GSM5534071\tDBA1\tdba10\n",
    "GSM5534072\tDBA2\tdba11\n",
    "GSM5534073\tDBA3\tdba12\n",
    "GSM5534074\tDBA4\tdba13\n",
    "GSM5534075\tDBA5\tdba14')\n"
   ]
  },
  {
   "cell_type": "code",
   "execution_count": 180,
   "id": "997c29c8-7d33-4c87-932f-8a0d419244cb",
   "metadata": {},
   "outputs": [
    {
     "data": {
      "text/html": [
       "<table class=\"dataframe\">\n",
       "<caption>A data.table: 22 × 4</caption>\n",
       "<thead>\n",
       "\t<tr><th scope=col>.id</th><th scope=col>gsm_id</th><th scope=col>assay_sample_desc</th><th scope=col>assay_sample_name</th></tr>\n",
       "\t<tr><th scope=col>&lt;chr&gt;</th><th scope=col>&lt;chr&gt;</th><th scope=col>&lt;chr&gt;</th><th scope=col>&lt;chr&gt;</th></tr>\n",
       "</thead>\n",
       "<tbody>\n",
       "\t<tr><td>GSE119954</td><td>GSM3389330</td><td>Control LCL 1          </td><td>control1</td></tr>\n",
       "\t<tr><td>GSE119954</td><td>GSM3389331</td><td>Control LCL 2          </td><td>control2</td></tr>\n",
       "\t<tr><td>GSE119954</td><td>GSM3389332</td><td>Control LCL 3          </td><td>control3</td></tr>\n",
       "\t<tr><td>GSE119954</td><td>GSM3389333</td><td>Control LCL 4          </td><td>control4</td></tr>\n",
       "\t<tr><td>GSE119954</td><td>GSM3389334</td><td>Control LCL 5          </td><td>control5</td></tr>\n",
       "\t<tr><td>GSE119954</td><td>GSM3389335</td><td>DBA splice mutant LCL 1</td><td>dba1    </td></tr>\n",
       "\t<tr><td>GSE119954</td><td>GSM3389336</td><td>DBA splice mutant LCL 2</td><td>dba2    </td></tr>\n",
       "\t<tr><td>GSE119954</td><td>GSM3389337</td><td>DBA splice mutant LCL 3</td><td>dba3    </td></tr>\n",
       "\t<tr><td>GSE119954</td><td>GSM3389338</td><td>DBA splice mutant LCL 4</td><td>dba4    </td></tr>\n",
       "\t<tr><td>GSE119954</td><td>GSM3389339</td><td>DBA splice mutant LCL 5</td><td>dba5    </td></tr>\n",
       "\t<tr><td>GSE119954</td><td>GSM3389340</td><td>DBA splice mutant LCL 6</td><td>dba6    </td></tr>\n",
       "\t<tr><td>GSE119954</td><td>GSM3389341</td><td>DBA splice mutant LCL 7</td><td>dba7    </td></tr>\n",
       "\t<tr><td>GSE119954</td><td>GSM3389342</td><td>DBA splice mutant LCL 8</td><td>dba8    </td></tr>\n",
       "\t<tr><td>GSE119954</td><td>GSM3389343</td><td>DBA splice mutant LCL 9</td><td>dba9    </td></tr>\n",
       "\t<tr><td>GSE181830</td><td>GSM5534068</td><td>Con1                   </td><td>control6</td></tr>\n",
       "\t<tr><td>GSE181830</td><td>GSM5534069</td><td>Con2                   </td><td>control7</td></tr>\n",
       "\t<tr><td>GSE181830</td><td>GSM5534070</td><td>Con3                   </td><td>control8</td></tr>\n",
       "\t<tr><td>GSE181830</td><td>GSM5534071</td><td>DBA1                   </td><td>dba10   </td></tr>\n",
       "\t<tr><td>GSE181830</td><td>GSM5534072</td><td>DBA2                   </td><td>dba11   </td></tr>\n",
       "\t<tr><td>GSE181830</td><td>GSM5534073</td><td>DBA3                   </td><td>dba12   </td></tr>\n",
       "\t<tr><td>GSE181830</td><td>GSM5534074</td><td>DBA4                   </td><td>dba13   </td></tr>\n",
       "\t<tr><td>GSE181830</td><td>GSM5534075</td><td>DBA5                   </td><td>dba14   </td></tr>\n",
       "</tbody>\n",
       "</table>\n"
      ],
      "text/latex": [
       "A data.table: 22 × 4\n",
       "\\begin{tabular}{llll}\n",
       " .id & gsm\\_id & assay\\_sample\\_desc & assay\\_sample\\_name\\\\\n",
       " <chr> & <chr> & <chr> & <chr>\\\\\n",
       "\\hline\n",
       "\t GSE119954 & GSM3389330 & Control LCL 1           & control1\\\\\n",
       "\t GSE119954 & GSM3389331 & Control LCL 2           & control2\\\\\n",
       "\t GSE119954 & GSM3389332 & Control LCL 3           & control3\\\\\n",
       "\t GSE119954 & GSM3389333 & Control LCL 4           & control4\\\\\n",
       "\t GSE119954 & GSM3389334 & Control LCL 5           & control5\\\\\n",
       "\t GSE119954 & GSM3389335 & DBA splice mutant LCL 1 & dba1    \\\\\n",
       "\t GSE119954 & GSM3389336 & DBA splice mutant LCL 2 & dba2    \\\\\n",
       "\t GSE119954 & GSM3389337 & DBA splice mutant LCL 3 & dba3    \\\\\n",
       "\t GSE119954 & GSM3389338 & DBA splice mutant LCL 4 & dba4    \\\\\n",
       "\t GSE119954 & GSM3389339 & DBA splice mutant LCL 5 & dba5    \\\\\n",
       "\t GSE119954 & GSM3389340 & DBA splice mutant LCL 6 & dba6    \\\\\n",
       "\t GSE119954 & GSM3389341 & DBA splice mutant LCL 7 & dba7    \\\\\n",
       "\t GSE119954 & GSM3389342 & DBA splice mutant LCL 8 & dba8    \\\\\n",
       "\t GSE119954 & GSM3389343 & DBA splice mutant LCL 9 & dba9    \\\\\n",
       "\t GSE181830 & GSM5534068 & Con1                    & control6\\\\\n",
       "\t GSE181830 & GSM5534069 & Con2                    & control7\\\\\n",
       "\t GSE181830 & GSM5534070 & Con3                    & control8\\\\\n",
       "\t GSE181830 & GSM5534071 & DBA1                    & dba10   \\\\\n",
       "\t GSE181830 & GSM5534072 & DBA2                    & dba11   \\\\\n",
       "\t GSE181830 & GSM5534073 & DBA3                    & dba12   \\\\\n",
       "\t GSE181830 & GSM5534074 & DBA4                    & dba13   \\\\\n",
       "\t GSE181830 & GSM5534075 & DBA5                    & dba14   \\\\\n",
       "\\end{tabular}\n"
      ],
      "text/markdown": [
       "\n",
       "A data.table: 22 × 4\n",
       "\n",
       "| .id &lt;chr&gt; | gsm_id &lt;chr&gt; | assay_sample_desc &lt;chr&gt; | assay_sample_name &lt;chr&gt; |\n",
       "|---|---|---|---|\n",
       "| GSE119954 | GSM3389330 | Control LCL 1           | control1 |\n",
       "| GSE119954 | GSM3389331 | Control LCL 2           | control2 |\n",
       "| GSE119954 | GSM3389332 | Control LCL 3           | control3 |\n",
       "| GSE119954 | GSM3389333 | Control LCL 4           | control4 |\n",
       "| GSE119954 | GSM3389334 | Control LCL 5           | control5 |\n",
       "| GSE119954 | GSM3389335 | DBA splice mutant LCL 1 | dba1     |\n",
       "| GSE119954 | GSM3389336 | DBA splice mutant LCL 2 | dba2     |\n",
       "| GSE119954 | GSM3389337 | DBA splice mutant LCL 3 | dba3     |\n",
       "| GSE119954 | GSM3389338 | DBA splice mutant LCL 4 | dba4     |\n",
       "| GSE119954 | GSM3389339 | DBA splice mutant LCL 5 | dba5     |\n",
       "| GSE119954 | GSM3389340 | DBA splice mutant LCL 6 | dba6     |\n",
       "| GSE119954 | GSM3389341 | DBA splice mutant LCL 7 | dba7     |\n",
       "| GSE119954 | GSM3389342 | DBA splice mutant LCL 8 | dba8     |\n",
       "| GSE119954 | GSM3389343 | DBA splice mutant LCL 9 | dba9     |\n",
       "| GSE181830 | GSM5534068 | Con1                    | control6 |\n",
       "| GSE181830 | GSM5534069 | Con2                    | control7 |\n",
       "| GSE181830 | GSM5534070 | Con3                    | control8 |\n",
       "| GSE181830 | GSM5534071 | DBA1                    | dba10    |\n",
       "| GSE181830 | GSM5534072 | DBA2                    | dba11    |\n",
       "| GSE181830 | GSM5534073 | DBA3                    | dba12    |\n",
       "| GSE181830 | GSM5534074 | DBA4                    | dba13    |\n",
       "| GSE181830 | GSM5534075 | DBA5                    | dba14    |\n",
       "\n"
      ],
      "text/plain": [
       "   .id       gsm_id     assay_sample_desc       assay_sample_name\n",
       "1  GSE119954 GSM3389330 Control LCL 1           control1         \n",
       "2  GSE119954 GSM3389331 Control LCL 2           control2         \n",
       "3  GSE119954 GSM3389332 Control LCL 3           control3         \n",
       "4  GSE119954 GSM3389333 Control LCL 4           control4         \n",
       "5  GSE119954 GSM3389334 Control LCL 5           control5         \n",
       "6  GSE119954 GSM3389335 DBA splice mutant LCL 1 dba1             \n",
       "7  GSE119954 GSM3389336 DBA splice mutant LCL 2 dba2             \n",
       "8  GSE119954 GSM3389337 DBA splice mutant LCL 3 dba3             \n",
       "9  GSE119954 GSM3389338 DBA splice mutant LCL 4 dba4             \n",
       "10 GSE119954 GSM3389339 DBA splice mutant LCL 5 dba5             \n",
       "11 GSE119954 GSM3389340 DBA splice mutant LCL 6 dba6             \n",
       "12 GSE119954 GSM3389341 DBA splice mutant LCL 7 dba7             \n",
       "13 GSE119954 GSM3389342 DBA splice mutant LCL 8 dba8             \n",
       "14 GSE119954 GSM3389343 DBA splice mutant LCL 9 dba9             \n",
       "15 GSE181830 GSM5534068 Con1                    control6         \n",
       "16 GSE181830 GSM5534069 Con2                    control7         \n",
       "17 GSE181830 GSM5534070 Con3                    control8         \n",
       "18 GSE181830 GSM5534071 DBA1                    dba10            \n",
       "19 GSE181830 GSM5534072 DBA2                    dba11            \n",
       "20 GSE181830 GSM5534073 DBA3                    dba12            \n",
       "21 GSE181830 GSM5534074 DBA4                    dba13            \n",
       "22 GSE181830 GSM5534075 DBA5                    dba14            "
      ]
     },
     "metadata": {},
     "output_type": "display_data"
    }
   ],
   "source": [
    "tmp1 = fread(text = dsn_gse119954_string, sep = '\\t', header = F)\n",
    "tmp2 = fread(text = dsn_gse181830_string, sep = '\\t', header = F)\n",
    "dsn_list = list(tmp1, tmp2)\n",
    "names(dsn_list) = c('GSE119954', 'GSE181830')\n",
    "dsn_dt = rbindlist(dsn_list, idcol = T)\n",
    "setnames(dsn_dt, c('.id', 'gsm_id', 'assay_sample_desc', 'assay_sample_name'))\n",
    "dsn_dt"
   ]
  },
  {
   "cell_type": "markdown",
   "id": "e996fead-7849-483c-9007-6d690799063f",
   "metadata": {},
   "source": [
    "dsn_string = list(tmp1, tmp2)\n",
    "dsn_list = lapply(dsn_string, function(xx){\n",
    "    dsn_dt = fread(text = xx, sep = '\\t', header = F)\n",
    "    dsn_dt = as.data.table(dsn_dt)\n",
    "    dsn_dt = setnames(dsn_dt, c('gsm_id', 'assay_sample_desc', 'assay_sample_name'))\n",
    "    dsn_dt\n",
    "})\n",
    "names(dsn_list) = c('GSE119954', 'GSE181830')\n",
    "dsn_dt = rbindlist(dsn_list, idcol = T)\n"
   ]
  },
  {
   "cell_type": "code",
   "execution_count": 194,
   "id": "902bbe78-05cc-4ffb-8f08-9ac4420225f3",
   "metadata": {},
   "outputs": [],
   "source": [
    "# find SRR ID\n",
    "#dsn_dt[, cmd := paste0('echo \"', gsm_id, '\\n\" && ', '~/edirect/esearch -db sra -query \"', gsm_id)] \n",
    "dsn_dt[, cmd := paste0(' echo ', gsm_id, ' & echo \"\\t\" && ~/edirect/esearch -db sra -query \"', gsm_id)] \n",
    "dsn_dt[, cmd := paste0(cmd, '\" | ~/edirect/efetch -format docsum | ~/edirect/accn-at-a-time | grep -i srr | tr [:lower:] [:upper:] | tr \"\\n\" \",\" && echo \"\\n\"')]\n",
    "#dsn_dt[, srr_id := {system(cmd, intern = T)}, by = 1:nrow(dsn_dt)]\n",
    "write(dsn_dt[, cmd], file = 'runid2.sh')\n",
    "# run in the terminal \n"
   ]
  },
  {
   "cell_type": "code",
   "execution_count": 195,
   "id": "fbfbe44c-7167-4334-9ec5-f9139e0d59ce",
   "metadata": {},
   "outputs": [
    {
     "data": {
      "text/html": [
       "' echo GSM5534068 &amp; echo \"\\t\" &amp;&amp; ~/edirect/esearch -db sra -query \"GSM5534068\" | ~/edirect/efetch -format docsum | ~/edirect/accn-at-a-time | grep -i srr | tr [:lower:] [:upper:] | tr \"\\n\" \",\" &amp;&amp; echo \"\\n\"'"
      ],
      "text/latex": [
       "' echo GSM5534068 \\& echo \"\\textbackslash{}t\" \\&\\& \\textasciitilde{}/edirect/esearch -db sra -query \"GSM5534068\" \\textbar{} \\textasciitilde{}/edirect/efetch -format docsum \\textbar{} \\textasciitilde{}/edirect/accn-at-a-time \\textbar{} grep -i srr \\textbar{} tr {[}:lower:{]} {[}:upper:{]} \\textbar{} tr \"\\textbackslash{}n\" \",\" \\&\\& echo \"\\textbackslash{}n\"'"
      ],
      "text/markdown": [
       "' echo GSM5534068 &amp; echo \"\\t\" &amp;&amp; ~/edirect/esearch -db sra -query \"GSM5534068\" | ~/edirect/efetch -format docsum | ~/edirect/accn-at-a-time | grep -i srr | tr [:lower:] [:upper:] | tr \"\\n\" \",\" &amp;&amp; echo \"\\n\"'"
      ],
      "text/plain": [
       "[1] \" echo GSM5534068 & echo \\\"\\t\\\" && ~/edirect/esearch -db sra -query \\\"GSM5534068\\\" | ~/edirect/efetch -format docsum | ~/edirect/accn-at-a-time | grep -i srr | tr [:lower:] [:upper:] | tr \\\"\\n\\\" \\\",\\\" && echo \\\"\\n\\\"\""
      ]
     },
     "metadata": {},
     "output_type": "display_data"
    }
   ],
   "source": [
    "dsn_dt[15, cmd]"
   ]
  },
  {
   "cell_type": "code",
   "execution_count": 196,
   "id": "da95ff49-58f1-4bcc-8439-34700d8e750e",
   "metadata": {},
   "outputs": [],
   "source": [
    "srr_string = glue('GSM3389330 SRR7828379 \n",
    "GSM3389331 SRR7828380\n",
    "GSM3389332 SRR7828381\n",
    "GSM3389333 SRR7828382\n",
    "GSM3389334 SRR7828383\n",
    "GSM3389335 SRR7828384\n",
    "GSM3389336 SRR7828385\n",
    "GSM3389337 SRR7828386\n",
    "GSM3389338 SRR7828387\n",
    "GSM3389339 SRR7828388\n",
    "GSM3389340 SRR7828389\n",
    "GSM3389341 SRR7828390\n",
    "GSM3389342 SRR7828391\n",
    "GSM3389343 SRR7828392\n",
    "GSM5534068 SRR15594007\n",
    "GSM5534069 SRR15594008\n",
    "GSM5534070 SRR15594009\n",
    "GSM5534071 SRR15594010\n",
    "GSM5534072 SRR15594011\n",
    "GSM5534073 SRR15594012\n",
    "GSM5534074 SRR15594013\n",
    "GSM5534075 SRR15594014')\n",
    "srr_dt = fread(text = srr_string, sep = ' ', header = F)\n"
   ]
  },
  {
   "cell_type": "code",
   "execution_count": 197,
   "id": "ecc9861c-9357-4640-b801-a00ad3b085f9",
   "metadata": {},
   "outputs": [
    {
     "data": {
      "text/html": [
       "<table class=\"dataframe\">\n",
       "<caption>A data.table: 22 × 2</caption>\n",
       "<thead>\n",
       "\t<tr><th scope=col>V1</th><th scope=col>V2</th></tr>\n",
       "\t<tr><th scope=col>&lt;chr&gt;</th><th scope=col>&lt;chr&gt;</th></tr>\n",
       "</thead>\n",
       "<tbody>\n",
       "\t<tr><td>GSM3389330</td><td>SRR7828379 </td></tr>\n",
       "\t<tr><td>GSM3389331</td><td>SRR7828380 </td></tr>\n",
       "\t<tr><td>GSM3389332</td><td>SRR7828381 </td></tr>\n",
       "\t<tr><td>GSM3389333</td><td>SRR7828382 </td></tr>\n",
       "\t<tr><td>GSM3389334</td><td>SRR7828383 </td></tr>\n",
       "\t<tr><td>GSM3389335</td><td>SRR7828384 </td></tr>\n",
       "\t<tr><td>GSM3389336</td><td>SRR7828385 </td></tr>\n",
       "\t<tr><td>GSM3389337</td><td>SRR7828386 </td></tr>\n",
       "\t<tr><td>GSM3389338</td><td>SRR7828387 </td></tr>\n",
       "\t<tr><td>GSM3389339</td><td>SRR7828388 </td></tr>\n",
       "\t<tr><td>GSM3389340</td><td>SRR7828389 </td></tr>\n",
       "\t<tr><td>GSM3389341</td><td>SRR7828390 </td></tr>\n",
       "\t<tr><td>GSM3389342</td><td>SRR7828391 </td></tr>\n",
       "\t<tr><td>GSM3389343</td><td>SRR7828392 </td></tr>\n",
       "\t<tr><td>GSM5534068</td><td>SRR15594007</td></tr>\n",
       "\t<tr><td>GSM5534069</td><td>SRR15594008</td></tr>\n",
       "\t<tr><td>GSM5534070</td><td>SRR15594009</td></tr>\n",
       "\t<tr><td>GSM5534071</td><td>SRR15594010</td></tr>\n",
       "\t<tr><td>GSM5534072</td><td>SRR15594011</td></tr>\n",
       "\t<tr><td>GSM5534073</td><td>SRR15594012</td></tr>\n",
       "\t<tr><td>GSM5534074</td><td>SRR15594013</td></tr>\n",
       "\t<tr><td>GSM5534075</td><td>SRR15594014</td></tr>\n",
       "</tbody>\n",
       "</table>\n"
      ],
      "text/latex": [
       "A data.table: 22 × 2\n",
       "\\begin{tabular}{ll}\n",
       " V1 & V2\\\\\n",
       " <chr> & <chr>\\\\\n",
       "\\hline\n",
       "\t GSM3389330 & SRR7828379 \\\\\n",
       "\t GSM3389331 & SRR7828380 \\\\\n",
       "\t GSM3389332 & SRR7828381 \\\\\n",
       "\t GSM3389333 & SRR7828382 \\\\\n",
       "\t GSM3389334 & SRR7828383 \\\\\n",
       "\t GSM3389335 & SRR7828384 \\\\\n",
       "\t GSM3389336 & SRR7828385 \\\\\n",
       "\t GSM3389337 & SRR7828386 \\\\\n",
       "\t GSM3389338 & SRR7828387 \\\\\n",
       "\t GSM3389339 & SRR7828388 \\\\\n",
       "\t GSM3389340 & SRR7828389 \\\\\n",
       "\t GSM3389341 & SRR7828390 \\\\\n",
       "\t GSM3389342 & SRR7828391 \\\\\n",
       "\t GSM3389343 & SRR7828392 \\\\\n",
       "\t GSM5534068 & SRR15594007\\\\\n",
       "\t GSM5534069 & SRR15594008\\\\\n",
       "\t GSM5534070 & SRR15594009\\\\\n",
       "\t GSM5534071 & SRR15594010\\\\\n",
       "\t GSM5534072 & SRR15594011\\\\\n",
       "\t GSM5534073 & SRR15594012\\\\\n",
       "\t GSM5534074 & SRR15594013\\\\\n",
       "\t GSM5534075 & SRR15594014\\\\\n",
       "\\end{tabular}\n"
      ],
      "text/markdown": [
       "\n",
       "A data.table: 22 × 2\n",
       "\n",
       "| V1 &lt;chr&gt; | V2 &lt;chr&gt; |\n",
       "|---|---|\n",
       "| GSM3389330 | SRR7828379  |\n",
       "| GSM3389331 | SRR7828380  |\n",
       "| GSM3389332 | SRR7828381  |\n",
       "| GSM3389333 | SRR7828382  |\n",
       "| GSM3389334 | SRR7828383  |\n",
       "| GSM3389335 | SRR7828384  |\n",
       "| GSM3389336 | SRR7828385  |\n",
       "| GSM3389337 | SRR7828386  |\n",
       "| GSM3389338 | SRR7828387  |\n",
       "| GSM3389339 | SRR7828388  |\n",
       "| GSM3389340 | SRR7828389  |\n",
       "| GSM3389341 | SRR7828390  |\n",
       "| GSM3389342 | SRR7828391  |\n",
       "| GSM3389343 | SRR7828392  |\n",
       "| GSM5534068 | SRR15594007 |\n",
       "| GSM5534069 | SRR15594008 |\n",
       "| GSM5534070 | SRR15594009 |\n",
       "| GSM5534071 | SRR15594010 |\n",
       "| GSM5534072 | SRR15594011 |\n",
       "| GSM5534073 | SRR15594012 |\n",
       "| GSM5534074 | SRR15594013 |\n",
       "| GSM5534075 | SRR15594014 |\n",
       "\n"
      ],
      "text/plain": [
       "   V1         V2         \n",
       "1  GSM3389330 SRR7828379 \n",
       "2  GSM3389331 SRR7828380 \n",
       "3  GSM3389332 SRR7828381 \n",
       "4  GSM3389333 SRR7828382 \n",
       "5  GSM3389334 SRR7828383 \n",
       "6  GSM3389335 SRR7828384 \n",
       "7  GSM3389336 SRR7828385 \n",
       "8  GSM3389337 SRR7828386 \n",
       "9  GSM3389338 SRR7828387 \n",
       "10 GSM3389339 SRR7828388 \n",
       "11 GSM3389340 SRR7828389 \n",
       "12 GSM3389341 SRR7828390 \n",
       "13 GSM3389342 SRR7828391 \n",
       "14 GSM3389343 SRR7828392 \n",
       "15 GSM5534068 SRR15594007\n",
       "16 GSM5534069 SRR15594008\n",
       "17 GSM5534070 SRR15594009\n",
       "18 GSM5534071 SRR15594010\n",
       "19 GSM5534072 SRR15594011\n",
       "20 GSM5534073 SRR15594012\n",
       "21 GSM5534074 SRR15594013\n",
       "22 GSM5534075 SRR15594014"
      ]
     },
     "metadata": {},
     "output_type": "display_data"
    }
   ],
   "source": [
    "srr_dt"
   ]
  },
  {
   "cell_type": "code",
   "execution_count": 198,
   "id": "f555bd78-ded0-4a11-bf65-6c4e4b1004ce",
   "metadata": {},
   "outputs": [
    {
     "data": {
      "text/html": [
       "<table class=\"dataframe\">\n",
       "<caption>A data.table: 6 × 6</caption>\n",
       "<thead>\n",
       "\t<tr><th scope=col>gsm_id</th><th scope=col>.id</th><th scope=col>assay_sample_desc</th><th scope=col>assay_sample_name</th><th scope=col>cmd</th><th scope=col>srr_id</th></tr>\n",
       "\t<tr><th scope=col>&lt;chr&gt;</th><th scope=col>&lt;chr&gt;</th><th scope=col>&lt;chr&gt;</th><th scope=col>&lt;chr&gt;</th><th scope=col>&lt;chr&gt;</th><th scope=col>&lt;chr&gt;</th></tr>\n",
       "</thead>\n",
       "<tbody>\n",
       "\t<tr><td>GSM3389330</td><td>GSE119954</td><td><span style=white-space:pre-wrap>Control LCL 1          </span></td><td>control1</td><td> echo GSM3389330 &amp; echo \"\t\" &amp;&amp; ~/edirect/esearch -db sra -query \"GSM3389330\" | ~/edirect/efetch -format docsum | ~/edirect/accn-at-a-time | grep -i srr | tr [:lower:] [:upper:] | tr \"\n",
       "\" \",\" &amp;&amp; echo \"\n",
       "\"</td><td>SRR7828379</td></tr>\n",
       "\t<tr><td>GSM3389331</td><td>GSE119954</td><td><span style=white-space:pre-wrap>Control LCL 2          </span></td><td>control2</td><td> echo GSM3389331 &amp; echo \"\t\" &amp;&amp; ~/edirect/esearch -db sra -query \"GSM3389331\" | ~/edirect/efetch -format docsum | ~/edirect/accn-at-a-time | grep -i srr | tr [:lower:] [:upper:] | tr \"\n",
       "\" \",\" &amp;&amp; echo \"\n",
       "\"</td><td>SRR7828380</td></tr>\n",
       "\t<tr><td>GSM3389332</td><td>GSE119954</td><td><span style=white-space:pre-wrap>Control LCL 3          </span></td><td>control3</td><td> echo GSM3389332 &amp; echo \"\t\" &amp;&amp; ~/edirect/esearch -db sra -query \"GSM3389332\" | ~/edirect/efetch -format docsum | ~/edirect/accn-at-a-time | grep -i srr | tr [:lower:] [:upper:] | tr \"\n",
       "\" \",\" &amp;&amp; echo \"\n",
       "\"</td><td>SRR7828381</td></tr>\n",
       "\t<tr><td>GSM3389333</td><td>GSE119954</td><td><span style=white-space:pre-wrap>Control LCL 4          </span></td><td>control4</td><td> echo GSM3389333 &amp; echo \"\t\" &amp;&amp; ~/edirect/esearch -db sra -query \"GSM3389333\" | ~/edirect/efetch -format docsum | ~/edirect/accn-at-a-time | grep -i srr | tr [:lower:] [:upper:] | tr \"\n",
       "\" \",\" &amp;&amp; echo \"\n",
       "\"</td><td>SRR7828382</td></tr>\n",
       "\t<tr><td>GSM3389334</td><td>GSE119954</td><td><span style=white-space:pre-wrap>Control LCL 5          </span></td><td>control5</td><td> echo GSM3389334 &amp; echo \"\t\" &amp;&amp; ~/edirect/esearch -db sra -query \"GSM3389334\" | ~/edirect/efetch -format docsum | ~/edirect/accn-at-a-time | grep -i srr | tr [:lower:] [:upper:] | tr \"\n",
       "\" \",\" &amp;&amp; echo \"\n",
       "\"</td><td>SRR7828383</td></tr>\n",
       "\t<tr><td>GSM3389335</td><td>GSE119954</td><td>DBA splice mutant LCL 1</td><td><span style=white-space:pre-wrap>dba1    </span></td><td> echo GSM3389335 &amp; echo \"\t\" &amp;&amp; ~/edirect/esearch -db sra -query \"GSM3389335\" | ~/edirect/efetch -format docsum | ~/edirect/accn-at-a-time | grep -i srr | tr [:lower:] [:upper:] | tr \"\n",
       "\" \",\" &amp;&amp; echo \"\n",
       "\"</td><td>SRR7828384</td></tr>\n",
       "</tbody>\n",
       "</table>\n"
      ],
      "text/latex": [
       "A data.table: 6 × 6\n",
       "\\begin{tabular}{llllll}\n",
       " gsm\\_id & .id & assay\\_sample\\_desc & assay\\_sample\\_name & cmd & srr\\_id\\\\\n",
       " <chr> & <chr> & <chr> & <chr> & <chr> & <chr>\\\\\n",
       "\\hline\n",
       "\t GSM3389330 & GSE119954 & Control LCL 1           & control1 &  echo GSM3389330 \\& echo \"\t\" \\&\\& \\textasciitilde{}/edirect/esearch -db sra -query \"GSM3389330\" \\textbar{} \\textasciitilde{}/edirect/efetch -format docsum \\textbar{} \\textasciitilde{}/edirect/accn-at-a-time \\textbar{} grep -i srr \\textbar{} tr {[}:lower:{]} {[}:upper:{]} \\textbar{} tr \"\n",
       "\" \",\" \\&\\& echo \"\n",
       "\" & SRR7828379\\\\\n",
       "\t GSM3389331 & GSE119954 & Control LCL 2           & control2 &  echo GSM3389331 \\& echo \"\t\" \\&\\& \\textasciitilde{}/edirect/esearch -db sra -query \"GSM3389331\" \\textbar{} \\textasciitilde{}/edirect/efetch -format docsum \\textbar{} \\textasciitilde{}/edirect/accn-at-a-time \\textbar{} grep -i srr \\textbar{} tr {[}:lower:{]} {[}:upper:{]} \\textbar{} tr \"\n",
       "\" \",\" \\&\\& echo \"\n",
       "\" & SRR7828380\\\\\n",
       "\t GSM3389332 & GSE119954 & Control LCL 3           & control3 &  echo GSM3389332 \\& echo \"\t\" \\&\\& \\textasciitilde{}/edirect/esearch -db sra -query \"GSM3389332\" \\textbar{} \\textasciitilde{}/edirect/efetch -format docsum \\textbar{} \\textasciitilde{}/edirect/accn-at-a-time \\textbar{} grep -i srr \\textbar{} tr {[}:lower:{]} {[}:upper:{]} \\textbar{} tr \"\n",
       "\" \",\" \\&\\& echo \"\n",
       "\" & SRR7828381\\\\\n",
       "\t GSM3389333 & GSE119954 & Control LCL 4           & control4 &  echo GSM3389333 \\& echo \"\t\" \\&\\& \\textasciitilde{}/edirect/esearch -db sra -query \"GSM3389333\" \\textbar{} \\textasciitilde{}/edirect/efetch -format docsum \\textbar{} \\textasciitilde{}/edirect/accn-at-a-time \\textbar{} grep -i srr \\textbar{} tr {[}:lower:{]} {[}:upper:{]} \\textbar{} tr \"\n",
       "\" \",\" \\&\\& echo \"\n",
       "\" & SRR7828382\\\\\n",
       "\t GSM3389334 & GSE119954 & Control LCL 5           & control5 &  echo GSM3389334 \\& echo \"\t\" \\&\\& \\textasciitilde{}/edirect/esearch -db sra -query \"GSM3389334\" \\textbar{} \\textasciitilde{}/edirect/efetch -format docsum \\textbar{} \\textasciitilde{}/edirect/accn-at-a-time \\textbar{} grep -i srr \\textbar{} tr {[}:lower:{]} {[}:upper:{]} \\textbar{} tr \"\n",
       "\" \",\" \\&\\& echo \"\n",
       "\" & SRR7828383\\\\\n",
       "\t GSM3389335 & GSE119954 & DBA splice mutant LCL 1 & dba1     &  echo GSM3389335 \\& echo \"\t\" \\&\\& \\textasciitilde{}/edirect/esearch -db sra -query \"GSM3389335\" \\textbar{} \\textasciitilde{}/edirect/efetch -format docsum \\textbar{} \\textasciitilde{}/edirect/accn-at-a-time \\textbar{} grep -i srr \\textbar{} tr {[}:lower:{]} {[}:upper:{]} \\textbar{} tr \"\n",
       "\" \",\" \\&\\& echo \"\n",
       "\" & SRR7828384\\\\\n",
       "\\end{tabular}\n"
      ],
      "text/markdown": [
       "\n",
       "A data.table: 6 × 6\n",
       "\n",
       "| gsm_id &lt;chr&gt; | .id &lt;chr&gt; | assay_sample_desc &lt;chr&gt; | assay_sample_name &lt;chr&gt; | cmd &lt;chr&gt; | srr_id &lt;chr&gt; |\n",
       "|---|---|---|---|---|---|\n",
       "| GSM3389330 | GSE119954 | Control LCL 1           | control1 |  echo GSM3389330 &amp; echo \"\t\" &amp;&amp; ~/edirect/esearch -db sra -query \"GSM3389330\" | ~/edirect/efetch -format docsum | ~/edirect/accn-at-a-time | grep -i srr | tr [:lower:] [:upper:] | tr \"\n",
       "\" \",\" &amp;&amp; echo \"\n",
       "\" | SRR7828379 |\n",
       "| GSM3389331 | GSE119954 | Control LCL 2           | control2 |  echo GSM3389331 &amp; echo \"\t\" &amp;&amp; ~/edirect/esearch -db sra -query \"GSM3389331\" | ~/edirect/efetch -format docsum | ~/edirect/accn-at-a-time | grep -i srr | tr [:lower:] [:upper:] | tr \"\n",
       "\" \",\" &amp;&amp; echo \"\n",
       "\" | SRR7828380 |\n",
       "| GSM3389332 | GSE119954 | Control LCL 3           | control3 |  echo GSM3389332 &amp; echo \"\t\" &amp;&amp; ~/edirect/esearch -db sra -query \"GSM3389332\" | ~/edirect/efetch -format docsum | ~/edirect/accn-at-a-time | grep -i srr | tr [:lower:] [:upper:] | tr \"\n",
       "\" \",\" &amp;&amp; echo \"\n",
       "\" | SRR7828381 |\n",
       "| GSM3389333 | GSE119954 | Control LCL 4           | control4 |  echo GSM3389333 &amp; echo \"\t\" &amp;&amp; ~/edirect/esearch -db sra -query \"GSM3389333\" | ~/edirect/efetch -format docsum | ~/edirect/accn-at-a-time | grep -i srr | tr [:lower:] [:upper:] | tr \"\n",
       "\" \",\" &amp;&amp; echo \"\n",
       "\" | SRR7828382 |\n",
       "| GSM3389334 | GSE119954 | Control LCL 5           | control5 |  echo GSM3389334 &amp; echo \"\t\" &amp;&amp; ~/edirect/esearch -db sra -query \"GSM3389334\" | ~/edirect/efetch -format docsum | ~/edirect/accn-at-a-time | grep -i srr | tr [:lower:] [:upper:] | tr \"\n",
       "\" \",\" &amp;&amp; echo \"\n",
       "\" | SRR7828383 |\n",
       "| GSM3389335 | GSE119954 | DBA splice mutant LCL 1 | dba1     |  echo GSM3389335 &amp; echo \"\t\" &amp;&amp; ~/edirect/esearch -db sra -query \"GSM3389335\" | ~/edirect/efetch -format docsum | ~/edirect/accn-at-a-time | grep -i srr | tr [:lower:] [:upper:] | tr \"\n",
       "\" \",\" &amp;&amp; echo \"\n",
       "\" | SRR7828384 |\n",
       "\n"
      ],
      "text/plain": [
       "  gsm_id     .id       assay_sample_desc       assay_sample_name\n",
       "1 GSM3389330 GSE119954 Control LCL 1           control1         \n",
       "2 GSM3389331 GSE119954 Control LCL 2           control2         \n",
       "3 GSM3389332 GSE119954 Control LCL 3           control3         \n",
       "4 GSM3389333 GSE119954 Control LCL 4           control4         \n",
       "5 GSM3389334 GSE119954 Control LCL 5           control5         \n",
       "6 GSM3389335 GSE119954 DBA splice mutant LCL 1 dba1             \n",
       "  cmd                                                                                                                                                                                                         \n",
       "1  echo GSM3389330 & echo \"\\t\" && ~/edirect/esearch -db sra -query \"GSM3389330\" | ~/edirect/efetch -format docsum | ~/edirect/accn-at-a-time | grep -i srr | tr [:lower:] [:upper:] | tr \"\\n\" \",\" && echo \"\\n\"\n",
       "2  echo GSM3389331 & echo \"\\t\" && ~/edirect/esearch -db sra -query \"GSM3389331\" | ~/edirect/efetch -format docsum | ~/edirect/accn-at-a-time | grep -i srr | tr [:lower:] [:upper:] | tr \"\\n\" \",\" && echo \"\\n\"\n",
       "3  echo GSM3389332 & echo \"\\t\" && ~/edirect/esearch -db sra -query \"GSM3389332\" | ~/edirect/efetch -format docsum | ~/edirect/accn-at-a-time | grep -i srr | tr [:lower:] [:upper:] | tr \"\\n\" \",\" && echo \"\\n\"\n",
       "4  echo GSM3389333 & echo \"\\t\" && ~/edirect/esearch -db sra -query \"GSM3389333\" | ~/edirect/efetch -format docsum | ~/edirect/accn-at-a-time | grep -i srr | tr [:lower:] [:upper:] | tr \"\\n\" \",\" && echo \"\\n\"\n",
       "5  echo GSM3389334 & echo \"\\t\" && ~/edirect/esearch -db sra -query \"GSM3389334\" | ~/edirect/efetch -format docsum | ~/edirect/accn-at-a-time | grep -i srr | tr [:lower:] [:upper:] | tr \"\\n\" \",\" && echo \"\\n\"\n",
       "6  echo GSM3389335 & echo \"\\t\" && ~/edirect/esearch -db sra -query \"GSM3389335\" | ~/edirect/efetch -format docsum | ~/edirect/accn-at-a-time | grep -i srr | tr [:lower:] [:upper:] | tr \"\\n\" \",\" && echo \"\\n\"\n",
       "  srr_id    \n",
       "1 SRR7828379\n",
       "2 SRR7828380\n",
       "3 SRR7828381\n",
       "4 SRR7828382\n",
       "5 SRR7828383\n",
       "6 SRR7828384"
      ]
     },
     "metadata": {},
     "output_type": "display_data"
    }
   ],
   "source": [
    "dsn_dt2 = merge(dsn_dt, srr_dt, by.x = 'gsm_id', by.y = 'V1')\n",
    "setnames(dsn_dt2, 'V2', 'srr_id')\n",
    "head(dsn_dt2)\n"
   ]
  },
  {
   "cell_type": "code",
   "execution_count": 199,
   "id": "6c9dd60b-d3e3-4baa-8064-6bd7cbd57ac8",
   "metadata": {},
   "outputs": [],
   "source": [
    "dsn_dt2[, assay_sample_dir := paste0(data_dir, assay_sample_name, '/')]"
   ]
  },
  {
   "cell_type": "code",
   "execution_count": null,
   "id": "71cc4407-cd04-4fed-9f85-9af1047f6626",
   "metadata": {},
   "outputs": [],
   "source": [
    "inv = dsn_dt2[, {dir.create(assay_sample_dir, showWarnings = T, recursive = F)}, by = 1:nrow(dsn_dt2)] \n",
    "all(inv)"
   ]
  },
  {
   "cell_type": "code",
   "execution_count": 201,
   "id": "6911d7d3-30ef-42b6-a4f2-371e7a41459f",
   "metadata": {},
   "outputs": [],
   "source": [
    "dsn_dt2[, prefetch_cmd := paste0('prefetch ',     srr_id, ' -O ', assay_sample_dir, ' --max-size 40g')]\n",
    "dsn_dt2[, fastqdump_cmd:= paste0('cd ', assay_sample_dir, ' && fasterq-dump ', srr_id, ' --outdir ', assay_sample_dir, ' & ')]\n",
    "\n",
    "# if single end seq\n",
    "dsn_dt2[, dump_r := paste0(assay_sample_dir,  '/', srr_id, '.fastq')]\n",
    "# if double end seq\n",
    "dsn_dt2[, dump_r1 := paste0(assay_sample_dir, '/', srr_id, '_1.fastq')] \n",
    "dsn_dt2[, dump_r2 := paste0(assay_sample_dir, '/', srr_id, '_2.fastq')]\n",
    "\n",
    "dsn_dt2[, gz_r_cmd := paste0(' gzip ', dump_r, ' &' )]\n",
    "dsn_dt2[, gz_r1_cmd := paste0(' gzip ', dump_r1, ' &' )]\n",
    "dsn_dt2[, gz_r2_cmd := paste0(' gzip ', dump_r2, ' &' )]\n",
    "\n",
    "dsn_dt2[, r_fastq_gz := paste0(dump_r, '.gz')]\n",
    "dsn_dt2[, r1_fastq_gz := paste0(dump_r1, '.gz')]\n",
    "dsn_dt2[, r2_fastq_gz := paste0(dump_r2, '.gz')]\n"
   ]
  },
  {
   "cell_type": "code",
   "execution_count": 202,
   "id": "616863a2-3724-4f09-ad8b-9baee8623653",
   "metadata": {},
   "outputs": [],
   "source": [
    "# run under ~/conda3/envs/te env\n",
    "# requres the new version prefetch\n",
    "write(dsn_dt2[, prefetch_cmd],  file = 'run_fastq_prefetch.sh')\n",
    "write(dsn_dt2[, fastqdump_cmd], file = 'run_fastq_dump.sh')\n",
    "write(dsn_dt2[, gz_r1_cmd], file = 'run_gzip.sh', append = F)\n",
    "write(dsn_dt2[, gz_r2_cmd], file = 'run_gzip.sh', append = T)\n"
   ]
  },
  {
   "cell_type": "markdown",
   "id": "a57a4270-9fdd-4cea-8bf0-9fb5fee33415",
   "metadata": {},
   "source": [
    "# cutadapt"
   ]
  },
  {
   "cell_type": "code",
   "execution_count": 203,
   "id": "9834c4c1-368d-4b19-a7dd-1e422a6a2638",
   "metadata": {},
   "outputs": [],
   "source": [
    "# module load cutadapt/4.4\n",
    "dsn_dt2[, fastq_r1_trimmed := paste0(assay_sample_dir, assay_sample_name, '_R1_trimmed.fa.gz')]\n",
    "dsn_dt2[, fastq_r2_trimmed := paste0(assay_sample_dir, assay_sample_name, '_R2_trimmed.fa.gz')]\n",
    "dsn_dt2[, cutadapt_jobname := paste0('cuta_', assay_sample_name)]\n",
    "dsn_dt2[, cutadapt_oo := paste0(assay_sample_dir, cutadapt_jobname, '_out')]\n",
    "dsn_dt2[, cutadapt_eo := paste0(assay_sample_dir, cutadapt_jobname, '_err')]\n",
    "dsn_dt2[, cutadapt_cmd := paste0('bsub -J ', cutadapt_jobname, ' -n 3 -o ', cutadapt_oo, ' -e ', cutadapt_eo)]\n",
    "dsn_dt2[, cutadapt_cmd := paste0(cutadapt_cmd, ' \" cutadapt -o ', fastq_r1_trimmed, ' -p ', fastq_r2_trimmed, ' ', r1_fastq_gz, ' ', r2_fastq_gz, '\"')]\n",
    "write(dsn_dt2[, cutadapt_cmd], file = paste0(data_dir, 'run_cutadapt.sh'))\n"
   ]
  },
  {
   "cell_type": "markdown",
   "id": "30901af5-a7a8-40cb-9474-a21b61923aa3",
   "metadata": {},
   "source": [
    "# alignment"
   ]
  },
  {
   "cell_type": "code",
   "execution_count": 204,
   "id": "048f11d6-a385-4b2c-b54c-a84c803004d7",
   "metadata": {},
   "outputs": [],
   "source": [
    "# module load star/2.7.10a\n",
    "REFERENCE_GENOME=\"/research/groups/jxugrp/home/common/Lab_Members/SyedAhmad/Projects_Main_Farhan/trimmed_copy_leukemia_samples/testig_new_T2T_GTF\"\n",
    "TE_GTF_FILE=\"/research/groups/jxugrp/home/common/Data_Public/RNA_seq/Demthylation_therapy_AML_cell_lines_RNA-seq_Khawanky_etal_Nature_communicat_GSE184891/trimmed_fastq/STAR_normal_mapped_t2t/TE_locus_analysis\"\n",
    "\n",
    "dsn_dt2[, star_jobname := paste0('star_', assay_sample_name)]\n",
    "dsn_dt2[, star_oo := paste0(assay_sample_dir, 'star_', assay_sample_name, '_out')]\n",
    "dsn_dt2[, star_eo := paste0(assay_sample_dir, 'star_', assay_sample_name, '_err')]\n",
    "dsn_dt2[, bam_prefix := paste0(assay_sample_dir, assay_sample_name, '_')]\n",
    "dsn_dt2[, bam_file := paste0(bam_prefix, 'Aligned.sortedByCoord.out.bam')]\n",
    "dsn_dt2[, bam_tx_file := paste0(bam_prefix, 'Aligned.toTranscriptome.out.bam')]\n",
    "#alignments/A549_0_1 Aligned.sortedByCoord.out.bam\n",
    "\n",
    "dsn_dt2[, star_cmd := paste0('bsub -J ', star_jobname, ' -o ', star_oo, ' -e ', star_eo, ' -P macmon -n 25 -R \"rusage[mem=5GB]\" ')]\n",
    "#dsn_dt2[, star_cmd := paste0(star_cmd, ' -w ', cutadapt_jobname)]\n",
    "dsn_dt2[, star_cmd := paste0(star_cmd, ' -W 290')]\n",
    "dsn_dt2[, star_cmd := paste0(star_cmd, ' \" STAR --genomeDir ', REFERENCE_GENOME)] \n",
    "dsn_dt2[, star_cmd := paste0(star_cmd, ' --runThreadN 28 --outSAMtype BAM SortedByCoordinate --outFilterMultimapNmax 1000 --outSAMmultNmax 1 ')]\n",
    "dsn_dt2[, star_cmd := paste0(star_cmd, ' --outFilterMismatchNmax 3 --outMultimapperOrder Random --winAnchorMultimapNmax 1000 --alignEndsType EndToEnd ')]\n",
    "dsn_dt2[, star_cmd := paste0(star_cmd, ' --alignIntronMax 1 --alignMatesGapMax 350 --quantMode TranscriptomeSAM --readFilesIn ', fastq_r1_trimmed, ' ', fastq_r2_trimmed, ' ')]\n",
    "#dsn_dt2[, star_cmd := paste0(star_cmd, ' --alignIntronMax 1 --alignMatesGapMax 350 --quantMode TranscriptomeSAM --readFilesIn ', fastq_r1_trimmed, ' ', fastq_r2_trimmed, ' ')]\n",
    "dsn_dt2[, star_cmd := paste0(star_cmd, ' --readFilesCommand zcat --outFileNamePrefix ', bam_prefix, '\"')]\n",
    "\n",
    "write(dsn_dt2[, star_cmd], file = paste0(data_dir, 'run_star.sh'))\n",
    "\n",
    "#STAR --genomeDir $REFERENCE_GENOME \\\n",
    "#                --runThreadN 28 --outSAMtype BAM SortedByCoordinate --outFilterMultimapNmax 1000 --outSAMmultNmax 1 \\\n",
    "#                --outFilterMismatchNmax 3 --outMultimapperOrder Random --winAnchorMultimapNmax 1000 --alignEndsType EndToEnd \\\n",
    "#                --alignIntronMax 1 --alignMatesGapMax 350 --quantMode TranscriptomeSAM --readFilesIn \"$R1_FILE\" \"$R2_FILE\" --readFilesCommand zcat \\\n",
    "#                --outFileNamePrefix \"$OUTPUT_DIR/${SAMPLE_NAME}_\""
   ]
  },
  {
   "cell_type": "code",
   "execution_count": 205,
   "id": "b7203cef-9137-479e-bb85-76718a78140f",
   "metadata": {},
   "outputs": [
    {
     "data": {
      "text/html": [
       "<style>\n",
       ".list-inline {list-style: none; margin:0; padding: 0}\n",
       ".list-inline>li {display: inline-block}\n",
       ".list-inline>li:not(:last-child)::after {content: \"\\00b7\"; padding: 0 .5ex}\n",
       "</style>\n",
       "<ol class=list-inline><li>TRUE</li><li>TRUE</li><li>TRUE</li><li>TRUE</li><li>TRUE</li><li>TRUE</li><li>TRUE</li><li>TRUE</li><li>TRUE</li><li>TRUE</li><li>TRUE</li><li>TRUE</li><li>TRUE</li><li>TRUE</li><li>FALSE</li><li>TRUE</li><li>TRUE</li><li>TRUE</li><li>TRUE</li><li>TRUE</li><li>TRUE</li><li>TRUE</li></ol>\n"
      ],
      "text/latex": [
       "\\begin{enumerate*}\n",
       "\\item TRUE\n",
       "\\item TRUE\n",
       "\\item TRUE\n",
       "\\item TRUE\n",
       "\\item TRUE\n",
       "\\item TRUE\n",
       "\\item TRUE\n",
       "\\item TRUE\n",
       "\\item TRUE\n",
       "\\item TRUE\n",
       "\\item TRUE\n",
       "\\item TRUE\n",
       "\\item TRUE\n",
       "\\item TRUE\n",
       "\\item FALSE\n",
       "\\item TRUE\n",
       "\\item TRUE\n",
       "\\item TRUE\n",
       "\\item TRUE\n",
       "\\item TRUE\n",
       "\\item TRUE\n",
       "\\item TRUE\n",
       "\\end{enumerate*}\n"
      ],
      "text/markdown": [
       "1. TRUE\n",
       "2. TRUE\n",
       "3. TRUE\n",
       "4. TRUE\n",
       "5. TRUE\n",
       "6. TRUE\n",
       "7. TRUE\n",
       "8. TRUE\n",
       "9. TRUE\n",
       "10. TRUE\n",
       "11. TRUE\n",
       "12. TRUE\n",
       "13. TRUE\n",
       "14. TRUE\n",
       "15. FALSE\n",
       "16. TRUE\n",
       "17. TRUE\n",
       "18. TRUE\n",
       "19. TRUE\n",
       "20. TRUE\n",
       "21. TRUE\n",
       "22. TRUE\n",
       "\n",
       "\n"
      ],
      "text/plain": [
       " [1]  TRUE  TRUE  TRUE  TRUE  TRUE  TRUE  TRUE  TRUE  TRUE  TRUE  TRUE  TRUE\n",
       "[13]  TRUE  TRUE FALSE  TRUE  TRUE  TRUE  TRUE  TRUE  TRUE  TRUE"
      ]
     },
     "metadata": {},
     "output_type": "display_data"
    }
   ],
   "source": [
    "file.exists(dsn_dt2$bam_file)"
   ]
  },
  {
   "cell_type": "markdown",
   "id": "8859fd41-f73f-4ce2-8b9c-d95681ad772a",
   "metadata": {},
   "source": [
    "# TEcount"
   ]
  },
  {
   "cell_type": "code",
   "execution_count": 206,
   "id": "b1a58470-0bc7-4057-8f4f-c2a8b6d34b12",
   "metadata": {},
   "outputs": [
    {
     "data": {
      "text/html": [
       "<style>\n",
       ".list-inline {list-style: none; margin:0; padding: 0}\n",
       ".list-inline>li {display: inline-block}\n",
       ".list-inline>li:not(:last-child)::after {content: \"\\00b7\"; padding: 0 .5ex}\n",
       "</style>\n",
       "<ol class=list-inline><li>TRUE</li><li>TRUE</li><li>TRUE</li><li>TRUE</li><li>TRUE</li><li>TRUE</li><li>TRUE</li><li>TRUE</li><li>TRUE</li><li>TRUE</li><li>TRUE</li><li>TRUE</li><li>TRUE</li><li>TRUE</li><li>FALSE</li><li>TRUE</li><li>TRUE</li><li>TRUE</li><li>TRUE</li><li>TRUE</li><li>TRUE</li><li>TRUE</li></ol>\n"
      ],
      "text/latex": [
       "\\begin{enumerate*}\n",
       "\\item TRUE\n",
       "\\item TRUE\n",
       "\\item TRUE\n",
       "\\item TRUE\n",
       "\\item TRUE\n",
       "\\item TRUE\n",
       "\\item TRUE\n",
       "\\item TRUE\n",
       "\\item TRUE\n",
       "\\item TRUE\n",
       "\\item TRUE\n",
       "\\item TRUE\n",
       "\\item TRUE\n",
       "\\item TRUE\n",
       "\\item FALSE\n",
       "\\item TRUE\n",
       "\\item TRUE\n",
       "\\item TRUE\n",
       "\\item TRUE\n",
       "\\item TRUE\n",
       "\\item TRUE\n",
       "\\item TRUE\n",
       "\\end{enumerate*}\n"
      ],
      "text/markdown": [
       "1. TRUE\n",
       "2. TRUE\n",
       "3. TRUE\n",
       "4. TRUE\n",
       "5. TRUE\n",
       "6. TRUE\n",
       "7. TRUE\n",
       "8. TRUE\n",
       "9. TRUE\n",
       "10. TRUE\n",
       "11. TRUE\n",
       "12. TRUE\n",
       "13. TRUE\n",
       "14. TRUE\n",
       "15. FALSE\n",
       "16. TRUE\n",
       "17. TRUE\n",
       "18. TRUE\n",
       "19. TRUE\n",
       "20. TRUE\n",
       "21. TRUE\n",
       "22. TRUE\n",
       "\n",
       "\n"
      ],
      "text/plain": [
       " [1]  TRUE  TRUE  TRUE  TRUE  TRUE  TRUE  TRUE  TRUE  TRUE  TRUE  TRUE  TRUE\n",
       "[13]  TRUE  TRUE FALSE  TRUE  TRUE  TRUE  TRUE  TRUE  TRUE  TRUE"
      ]
     },
     "metadata": {},
     "output_type": "display_data"
    },
    {
     "data": {
      "text/html": [
       "<style>\n",
       ".list-inline {list-style: none; margin:0; padding: 0}\n",
       ".list-inline>li {display: inline-block}\n",
       ".list-inline>li:not(:last-child)::after {content: \"\\00b7\"; padding: 0 .5ex}\n",
       "</style>\n",
       "<ol class=list-inline><li>TRUE</li><li>TRUE</li><li>TRUE</li><li>TRUE</li><li>TRUE</li><li>TRUE</li><li>TRUE</li><li>TRUE</li><li>TRUE</li><li>TRUE</li><li>TRUE</li><li>TRUE</li><li>TRUE</li><li>TRUE</li><li>FALSE</li><li>TRUE</li><li>TRUE</li><li>TRUE</li><li>TRUE</li><li>TRUE</li><li>TRUE</li><li>TRUE</li></ol>\n"
      ],
      "text/latex": [
       "\\begin{enumerate*}\n",
       "\\item TRUE\n",
       "\\item TRUE\n",
       "\\item TRUE\n",
       "\\item TRUE\n",
       "\\item TRUE\n",
       "\\item TRUE\n",
       "\\item TRUE\n",
       "\\item TRUE\n",
       "\\item TRUE\n",
       "\\item TRUE\n",
       "\\item TRUE\n",
       "\\item TRUE\n",
       "\\item TRUE\n",
       "\\item TRUE\n",
       "\\item FALSE\n",
       "\\item TRUE\n",
       "\\item TRUE\n",
       "\\item TRUE\n",
       "\\item TRUE\n",
       "\\item TRUE\n",
       "\\item TRUE\n",
       "\\item TRUE\n",
       "\\end{enumerate*}\n"
      ],
      "text/markdown": [
       "1. TRUE\n",
       "2. TRUE\n",
       "3. TRUE\n",
       "4. TRUE\n",
       "5. TRUE\n",
       "6. TRUE\n",
       "7. TRUE\n",
       "8. TRUE\n",
       "9. TRUE\n",
       "10. TRUE\n",
       "11. TRUE\n",
       "12. TRUE\n",
       "13. TRUE\n",
       "14. TRUE\n",
       "15. FALSE\n",
       "16. TRUE\n",
       "17. TRUE\n",
       "18. TRUE\n",
       "19. TRUE\n",
       "20. TRUE\n",
       "21. TRUE\n",
       "22. TRUE\n",
       "\n",
       "\n"
      ],
      "text/plain": [
       " [1]  TRUE  TRUE  TRUE  TRUE  TRUE  TRUE  TRUE  TRUE  TRUE  TRUE  TRUE  TRUE\n",
       "[13]  TRUE  TRUE FALSE  TRUE  TRUE  TRUE  TRUE  TRUE  TRUE  TRUE"
      ]
     },
     "metadata": {},
     "output_type": "display_data"
    }
   ],
   "source": [
    "dsn_dt2[, telocal_file := paste0(assay_sample_dir, 'telocal.cntTable') ]\n",
    "dsn_dt2[, tecount_file := paste0(assay_sample_dir, 'tecount.cntTable') ]\n",
    "file.exists(dsn_dt2$telocal_file)\n",
    "file.exists(dsn_dt2$tecount_file)\n"
   ]
  },
  {
   "cell_type": "code",
   "execution_count": 207,
   "id": "ea8a195c-7210-4f4a-8e36-c71753a0b36b",
   "metadata": {},
   "outputs": [],
   "source": [
    "GTF_FILE=\"/research/groups/jxugrp/home/common/Lab_Members/SyedAhmad/Projects_Main_Farhan/trimmed_copy_leukemia_samples/testig_new_T2T_GTF/hs1.ncbiRefSeq.gtf\"\n",
    "TE_GTF_FILE=\"/research/groups/jxugrp/home/common/Lab_Members/SyedAhmad/Projects_Main_Farhan/trimmed_copy_leukemia_samples/testig_new_T2T_GTF/T2T_CHM13_v2_rmsk_TE.gtf\"\n",
    "bin_tecount = '/home/whu78/conda3/envs/te/bin/'\n",
    "\n",
    "dsn_dt2[, tecount_jobname := paste0('tecount_', assay_sample_name)]\n",
    "dsn_dt2[, tecount_oo := paste0(assay_sample_dir, 'tecount_', assay_sample_name, '_out')]\n",
    "dsn_dt2[, tecount_eo := paste0(assay_sample_dir, 'tecount_', assay_sample_name, '_err')]\n",
    "\n",
    "dsn_dt2[, tecount_cmd := paste0('bsub -J ', tecount_jobname, ' -n 10 -o ', tecount_oo, ' -e ', tecount_eo, ' -P macmon -R \"rusage[mem=5GB]\" ')]\n",
    "dsn_dt2[, tecount_cmd := paste0(tecount_cmd, ' -W 99:00')]\n",
    "dsn_dt2[, tecount_cmd := paste0(tecount_cmd, ' \" cd ', assay_sample_dir, ' && ', bin_tecount, 'TEcount --sortByPos --format BAM --mode multi -b ', bam_file)] \n",
    "dsn_dt2[, tecount_cmd := paste0(tecount_cmd, ' --GTF ', GTF_FILE, ' --TE ', TE_GTF_FILE, ' --project tecount \"')] \n",
    "\n",
    "#write(dsn_dt2[count_file == 'Yes', tecount_cmd], file = paste0(base_dir, 'run_tecount.sh'))\n",
    "write(dsn_dt2[, tecount_cmd], file = paste0(data_dir, 'run_tecount.sh'))\n"
   ]
  },
  {
   "cell_type": "code",
   "execution_count": 208,
   "id": "fb33c8ee-f1f6-4cc8-97a5-75d3e03d1ce9",
   "metadata": {},
   "outputs": [
    {
     "data": {
      "text/html": [
       "<style>\n",
       ".list-inline {list-style: none; margin:0; padding: 0}\n",
       ".list-inline>li {display: inline-block}\n",
       ".list-inline>li:not(:last-child)::after {content: \"\\00b7\"; padding: 0 .5ex}\n",
       "</style>\n",
       "<ol class=list-inline><li>'control1'</li><li>'control2'</li><li>'control3'</li><li>'control4'</li><li>'control5'</li><li>'dba1'</li><li>'dba2'</li><li>'dba3'</li><li>'dba4'</li><li>'dba5'</li><li>'dba6'</li><li>'dba7'</li><li>'dba8'</li><li>'dba9'</li><li>'control6'</li><li>'control7'</li><li>'control8'</li><li>'dba10'</li><li>'dba11'</li><li>'dba12'</li><li>'dba13'</li><li>'dba14'</li></ol>\n"
      ],
      "text/latex": [
       "\\begin{enumerate*}\n",
       "\\item 'control1'\n",
       "\\item 'control2'\n",
       "\\item 'control3'\n",
       "\\item 'control4'\n",
       "\\item 'control5'\n",
       "\\item 'dba1'\n",
       "\\item 'dba2'\n",
       "\\item 'dba3'\n",
       "\\item 'dba4'\n",
       "\\item 'dba5'\n",
       "\\item 'dba6'\n",
       "\\item 'dba7'\n",
       "\\item 'dba8'\n",
       "\\item 'dba9'\n",
       "\\item 'control6'\n",
       "\\item 'control7'\n",
       "\\item 'control8'\n",
       "\\item 'dba10'\n",
       "\\item 'dba11'\n",
       "\\item 'dba12'\n",
       "\\item 'dba13'\n",
       "\\item 'dba14'\n",
       "\\end{enumerate*}\n"
      ],
      "text/markdown": [
       "1. 'control1'\n",
       "2. 'control2'\n",
       "3. 'control3'\n",
       "4. 'control4'\n",
       "5. 'control5'\n",
       "6. 'dba1'\n",
       "7. 'dba2'\n",
       "8. 'dba3'\n",
       "9. 'dba4'\n",
       "10. 'dba5'\n",
       "11. 'dba6'\n",
       "12. 'dba7'\n",
       "13. 'dba8'\n",
       "14. 'dba9'\n",
       "15. 'control6'\n",
       "16. 'control7'\n",
       "17. 'control8'\n",
       "18. 'dba10'\n",
       "19. 'dba11'\n",
       "20. 'dba12'\n",
       "21. 'dba13'\n",
       "22. 'dba14'\n",
       "\n",
       "\n"
      ],
      "text/plain": [
       " [1] \"control1\" \"control2\" \"control3\" \"control4\" \"control5\" \"dba1\"    \n",
       " [7] \"dba2\"     \"dba3\"     \"dba4\"     \"dba5\"     \"dba6\"     \"dba7\"    \n",
       "[13] \"dba8\"     \"dba9\"     \"control6\" \"control7\" \"control8\" \"dba10\"   \n",
       "[19] \"dba11\"    \"dba12\"    \"dba13\"    \"dba14\"   "
      ]
     },
     "metadata": {},
     "output_type": "display_data"
    }
   ],
   "source": [
    "dsn_dt2$assay_sample_name"
   ]
  },
  {
   "cell_type": "markdown",
   "id": "bb08a501-a65d-4821-a354-b0a8c20a6ab9",
   "metadata": {},
   "source": [
    "# TElocal"
   ]
  },
  {
   "cell_type": "code",
   "execution_count": 209,
   "id": "ca26d3d3-c953-4799-873b-4b29cc150e6f",
   "metadata": {},
   "outputs": [],
   "source": [
    "GTF_FILE=\"/research/groups/jxugrp/home/common/Lab_Members/SyedAhmad/Projects_Main_Farhan/trimmed_copy_leukemia_samples/testig_new_T2T_GTF/hs1.ncbiRefSeq.gtf\"\n",
    "#TE_GTF_FILE=\"/research/groups/jxugrp/home/common/Lab_Members/SyedAhmad/Projects_Main_Farhan/trimmed_copy_leukemia_samples/testig_new_T2T_GTF/T2T_CHM13_v2_rmsk_TE.gtf\"\n",
    "#TE_loc_GTF_FILE=\"/research/groups/jxugrp/home/common/Lab_Members/WenhuoHu/collab_Farhan/data/T2T-CHM13_v2_rmsk_TE.gtf.locInd\"\n",
    "#TE_loc_GTF_FILE=\"/research/groups/jxugrp/home/common/Lab_Members/WenhuoHu/collab_Farhan/data/data/T2T_CHM13_v2_rmsk_TE.gtf.locInd\"\n",
    "\n",
    "TE_GTF_FILE = '/research/groups/jxugrp/home/common/Lab_Members/SyedAhmad/Projects_Main_Farhan/trimmed_copy_leukemia_samples/testig_new_T2T_GTF/T2T_CHM13_v2_rmsk_TE.gtf'\n",
    "TE_loc_GTF_FILE = '/research/groups/jxugrp/home/common/Data_Public/RNA_seq/Blueprint_EGA_Data_EGAD00001000745_Transcriptional_Diversity_Human_Blood_progenitors_Chen_etal_Science_2014/T2T_CHM13_v2_rmsk_TE.gtf.locInd'\n",
    "\n",
    "sif_telocal = '/research_jude/rgs01_jude/groups/jxugrp/home/common/Lab_Members/WenhuoHu/images/telocal.sif'\n",
    "bin_telocal = '/research_jude/rgs01_jude/groups/jxugrp/home/common/Lab_Members/WenhuoHu/conda3/envs/snap/bin/'\n",
    "exe_telocal = '/home/whu78/repos/TElocal/TElocal'\n",
    "exe_telocal = '/home/whu78/conda3/envs/te/bin/TElocal'\n",
    "\n",
    "dsn_dt2[, telocal_jobname := paste0('telocal_', assay_sample_name)]\n",
    "dsn_dt2[, telocal_oo := paste0(assay_sample_dir, 'telocal_', assay_sample_name, '_out')]\n",
    "dsn_dt2[, telocal_eo := paste0(assay_sample_dir, 'telocal_', assay_sample_name, '_err')]\n",
    "\n",
    "dsn_dt2[, telocal_cmd := paste0('bsub -J ', telocal_jobname, ' -n 10 -o ', telocal_oo, ' -e ', telocal_eo, ' -P macmon -R \"rusage[mem=5GB]\" ')]\n",
    "dsn_dt2[, telocal_cmd := paste0(telocal_cmd, ' -W 99:00')]\n",
    "dsn_dt2[, telocal_cmd := paste0(telocal_cmd, ' \" cd ', assay_sample_dir, ' && ', exe_telocal, ' --sortByPos -b ', bam_file)] \n",
    "dsn_dt2[, telocal_cmd := paste0(telocal_cmd, ' --GTF ', GTF_FILE, ' --TE ', TE_loc_GTF_FILE, ' --stranded reverse --project telocal \"')] \n",
    "#dsn_dt2[, telocal_cmd := paste0(telocal_cmd, ' --outdir ', telocal_dir)]\n",
    "\n",
    "write(dsn_dt2[, telocal_cmd], file = paste0(data_dir, 'run_telocal.sh'))\n"
   ]
  },
  {
   "cell_type": "markdown",
   "id": "275e0226-1ddf-4ad5-849f-3b46346714bc",
   "metadata": {},
   "source": [
    "# import TEcount"
   ]
  },
  {
   "cell_type": "code",
   "execution_count": 216,
   "id": "df4dfb41-489b-44bb-980d-4815175bcb2d",
   "metadata": {},
   "outputs": [],
   "source": [
    "coding_genes = read.table('/research_jude/rgs01_jude/groups/jxugrp/home/common/Lab_Members/WenhuoHu/collab_Farhan/coding_gene_list', header = F)$V1\n",
    "te_genes = read.table('/research_jude/rgs01_jude/groups/jxugrp/home/common/Lab_Members/WenhuoHu/collab_Farhan/te_gene_list', header = F)$V1\n",
    "\n",
    "tecount_list = lapply(dsn_dt2$tecount_file, function(xx){\n",
    "    tmp = fread(xx)\n",
    "    setnames(tmp, c('gene', 'count'))\n",
    "})\n",
    "\n",
    "names(tecount_list) = dsn_dt2$assay_sample_name\n",
    "tecount_dt = rbindlist(tecount_list, idcol = T) \n",
    "tecount_dt = dcast(gene ~ .id, value.var = 'count', data = tecount_dt)\n",
    "\n",
    "tecount_df = setDF(tecount_dt[, 2:ncol(tecount_dt)], rownames = tecount_dt$gene)\n"
   ]
  },
  {
   "cell_type": "code",
   "execution_count": 219,
   "id": "2bc627b4-c487-4532-b065-8a0094a450ae",
   "metadata": {},
   "outputs": [
    {
     "name": "stdout",
     "output_type": "stream",
     "text": [
      "Found 2 batches\n",
      "Using null model in ComBat-seq.\n",
      "Adjusting for 0 covariate(s) or covariate level(s)\n",
      "Estimating dispersions\n",
      "Fitting the GLM model\n",
      "Shrinkage off - using GLM estimates for parameters\n",
      "Adjusting the data\n"
     ]
    },
    {
     "data": {
      "text/html": [
       "<table class=\"dataframe\">\n",
       "<caption>A matrix: 6 × 22 of type dbl</caption>\n",
       "<thead>\n",
       "\t<tr><th></th><th scope=col>control1</th><th scope=col>control2</th><th scope=col>control3</th><th scope=col>control4</th><th scope=col>control5</th><th scope=col>control6</th><th scope=col>control7</th><th scope=col>control8</th><th scope=col>dba1</th><th scope=col>dba10</th><th scope=col>⋯</th><th scope=col>dba13</th><th scope=col>dba14</th><th scope=col>dba2</th><th scope=col>dba3</th><th scope=col>dba4</th><th scope=col>dba5</th><th scope=col>dba6</th><th scope=col>dba7</th><th scope=col>dba8</th><th scope=col>dba9</th></tr>\n",
       "</thead>\n",
       "<tbody>\n",
       "\t<tr><th scope=row>(CATTC)n:Satellite:Satellite</th><td> 7</td><td> 11</td><td> 1</td><td> 5</td><td>  0</td><td> 7</td><td> 5</td><td> 41</td><td> 16</td><td> 66</td><td>⋯</td><td>123</td><td>20</td><td> 42</td><td> 2</td><td>13</td><td> 9</td><td>2</td><td> 1</td><td>10</td><td> 2</td></tr>\n",
       "\t<tr><th scope=row>(GAATG)n:Satellite:Satellite</th><td>14</td><td> 29</td><td>11</td><td>12</td><td>  9</td><td>20</td><td>18</td><td>104</td><td> 29</td><td>142</td><td>⋯</td><td>273</td><td>66</td><td>115</td><td> 9</td><td>24</td><td> 6</td><td>8</td><td> 8</td><td>11</td><td>16</td></tr>\n",
       "\t<tr><th scope=row>7SLRNA:srpRNA:srpRNA</th><td> 4</td><td>  4</td><td> 4</td><td> 9</td><td> 10</td><td> 4</td><td> 7</td><td>  4</td><td>  1</td><td>  8</td><td>⋯</td><td>  0</td><td> 0</td><td>  1</td><td> 2</td><td> 1</td><td> 2</td><td>0</td><td> 3</td><td> 7</td><td> 2</td></tr>\n",
       "\t<tr><th scope=row>A-rich:Low_complexity:Low_complexity</th><td> 0</td><td>  0</td><td> 0</td><td> 0</td><td>  0</td><td> 0</td><td> 1</td><td>  0</td><td>  0</td><td>  0</td><td>⋯</td><td>  0</td><td> 0</td><td>  0</td><td> 0</td><td> 0</td><td> 0</td><td>0</td><td> 0</td><td> 0</td><td> 0</td></tr>\n",
       "\t<tr><th scope=row>A1BG</th><td>15</td><td> 76</td><td>83</td><td>74</td><td> 95</td><td>39</td><td>39</td><td> 16</td><td>134</td><td> 26</td><td>⋯</td><td> 28</td><td>16</td><td> 19</td><td>10</td><td>16</td><td>40</td><td>2</td><td>32</td><td>12</td><td>67</td></tr>\n",
       "\t<tr><th scope=row>A1BG-AS1</th><td>54</td><td>136</td><td>99</td><td>83</td><td>130</td><td>73</td><td>65</td><td> 31</td><td>135</td><td> 22</td><td>⋯</td><td> 39</td><td>32</td><td> 78</td><td>23</td><td>97</td><td> 6</td><td>6</td><td>53</td><td>15</td><td>33</td></tr>\n",
       "</tbody>\n",
       "</table>\n"
      ],
      "text/latex": [
       "A matrix: 6 × 22 of type dbl\n",
       "\\begin{tabular}{r|lllllllllllllllllllll}\n",
       "  & control1 & control2 & control3 & control4 & control5 & control6 & control7 & control8 & dba1 & dba10 & ⋯ & dba13 & dba14 & dba2 & dba3 & dba4 & dba5 & dba6 & dba7 & dba8 & dba9\\\\\n",
       "\\hline\n",
       "\t(CATTC)n:Satellite:Satellite &  7 &  11 &  1 &  5 &   0 &  7 &  5 &  41 &  16 &  66 & ⋯ & 123 & 20 &  42 &  2 & 13 &  9 & 2 &  1 & 10 &  2\\\\\n",
       "\t(GAATG)n:Satellite:Satellite & 14 &  29 & 11 & 12 &   9 & 20 & 18 & 104 &  29 & 142 & ⋯ & 273 & 66 & 115 &  9 & 24 &  6 & 8 &  8 & 11 & 16\\\\\n",
       "\t7SLRNA:srpRNA:srpRNA &  4 &   4 &  4 &  9 &  10 &  4 &  7 &   4 &   1 &   8 & ⋯ &   0 &  0 &   1 &  2 &  1 &  2 & 0 &  3 &  7 &  2\\\\\n",
       "\tA-rich:Low\\_complexity:Low\\_complexity &  0 &   0 &  0 &  0 &   0 &  0 &  1 &   0 &   0 &   0 & ⋯ &   0 &  0 &   0 &  0 &  0 &  0 & 0 &  0 &  0 &  0\\\\\n",
       "\tA1BG & 15 &  76 & 83 & 74 &  95 & 39 & 39 &  16 & 134 &  26 & ⋯ &  28 & 16 &  19 & 10 & 16 & 40 & 2 & 32 & 12 & 67\\\\\n",
       "\tA1BG-AS1 & 54 & 136 & 99 & 83 & 130 & 73 & 65 &  31 & 135 &  22 & ⋯ &  39 & 32 &  78 & 23 & 97 &  6 & 6 & 53 & 15 & 33\\\\\n",
       "\\end{tabular}\n"
      ],
      "text/markdown": [
       "\n",
       "A matrix: 6 × 22 of type dbl\n",
       "\n",
       "| <!--/--> | control1 | control2 | control3 | control4 | control5 | control6 | control7 | control8 | dba1 | dba10 | ⋯ | dba13 | dba14 | dba2 | dba3 | dba4 | dba5 | dba6 | dba7 | dba8 | dba9 |\n",
       "|---|---|---|---|---|---|---|---|---|---|---|---|---|---|---|---|---|---|---|---|---|---|\n",
       "| (CATTC)n:Satellite:Satellite |  7 |  11 |  1 |  5 |   0 |  7 |  5 |  41 |  16 |  66 | ⋯ | 123 | 20 |  42 |  2 | 13 |  9 | 2 |  1 | 10 |  2 |\n",
       "| (GAATG)n:Satellite:Satellite | 14 |  29 | 11 | 12 |   9 | 20 | 18 | 104 |  29 | 142 | ⋯ | 273 | 66 | 115 |  9 | 24 |  6 | 8 |  8 | 11 | 16 |\n",
       "| 7SLRNA:srpRNA:srpRNA |  4 |   4 |  4 |  9 |  10 |  4 |  7 |   4 |   1 |   8 | ⋯ |   0 |  0 |   1 |  2 |  1 |  2 | 0 |  3 |  7 |  2 |\n",
       "| A-rich:Low_complexity:Low_complexity |  0 |   0 |  0 |  0 |   0 |  0 |  1 |   0 |   0 |   0 | ⋯ |   0 |  0 |   0 |  0 |  0 |  0 | 0 |  0 |  0 |  0 |\n",
       "| A1BG | 15 |  76 | 83 | 74 |  95 | 39 | 39 |  16 | 134 |  26 | ⋯ |  28 | 16 |  19 | 10 | 16 | 40 | 2 | 32 | 12 | 67 |\n",
       "| A1BG-AS1 | 54 | 136 | 99 | 83 | 130 | 73 | 65 |  31 | 135 |  22 | ⋯ |  39 | 32 |  78 | 23 | 97 |  6 | 6 | 53 | 15 | 33 |\n",
       "\n"
      ],
      "text/plain": [
       "                                     control1 control2 control3 control4\n",
       "(CATTC)n:Satellite:Satellite          7        11       1        5      \n",
       "(GAATG)n:Satellite:Satellite         14        29      11       12      \n",
       "7SLRNA:srpRNA:srpRNA                  4         4       4        9      \n",
       "A-rich:Low_complexity:Low_complexity  0         0       0        0      \n",
       "A1BG                                 15        76      83       74      \n",
       "A1BG-AS1                             54       136      99       83      \n",
       "                                     control5 control6 control7 control8 dba1\n",
       "(CATTC)n:Satellite:Satellite           0       7        5        41       16 \n",
       "(GAATG)n:Satellite:Satellite           9      20       18       104       29 \n",
       "7SLRNA:srpRNA:srpRNA                  10       4        7         4        1 \n",
       "A-rich:Low_complexity:Low_complexity   0       0        1         0        0 \n",
       "A1BG                                  95      39       39        16      134 \n",
       "A1BG-AS1                             130      73       65        31      135 \n",
       "                                     dba10 ⋯ dba13 dba14 dba2 dba3 dba4 dba5\n",
       "(CATTC)n:Satellite:Satellite          66   ⋯ 123   20     42   2   13    9  \n",
       "(GAATG)n:Satellite:Satellite         142   ⋯ 273   66    115   9   24    6  \n",
       "7SLRNA:srpRNA:srpRNA                   8   ⋯   0    0      1   2    1    2  \n",
       "A-rich:Low_complexity:Low_complexity   0   ⋯   0    0      0   0    0    0  \n",
       "A1BG                                  26   ⋯  28   16     19  10   16   40  \n",
       "A1BG-AS1                              22   ⋯  39   32     78  23   97    6  \n",
       "                                     dba6 dba7 dba8 dba9\n",
       "(CATTC)n:Satellite:Satellite         2     1   10    2  \n",
       "(GAATG)n:Satellite:Satellite         8     8   11   16  \n",
       "7SLRNA:srpRNA:srpRNA                 0     3    7    2  \n",
       "A-rich:Low_complexity:Low_complexity 0     0    0    0  \n",
       "A1BG                                 2    32   12   67  \n",
       "A1BG-AS1                             6    53   15   33  "
      ]
     },
     "metadata": {},
     "output_type": "display_data"
    }
   ],
   "source": [
    "tecount_combat_df = ComBat_seq(as.matrix(tecount_df), batch = dsn_dt2$.id)\n",
    "head(tecount_combat_df)"
   ]
  },
  {
   "cell_type": "code",
   "execution_count": 220,
   "id": "eb8125bf-9379-424e-b943-ea8a962e9660",
   "metadata": {},
   "outputs": [],
   "source": [
    "write.table(tecount_combat_df, file = 'tecount_combat_df.tsv') \n"
   ]
  },
  {
   "cell_type": "markdown",
   "id": "7a3a8514-a444-4f00-9e02-8cc34f734a5d",
   "metadata": {},
   "source": [
    "# normalized reads & coding/TE DEG"
   ]
  },
  {
   "cell_type": "code",
   "execution_count": 222,
   "id": "5c0b7aad-fc1e-43a3-a79a-c9ebdeb0f0d4",
   "metadata": {},
   "outputs": [
    {
     "data": {
      "text/html": [
       "<table class=\"dataframe\">\n",
       "<caption>A data.table: 6 × 2</caption>\n",
       "<thead>\n",
       "\t<tr><th scope=col>assay_sample_name</th><th scope=col>group</th></tr>\n",
       "\t<tr><th scope=col>&lt;chr&gt;</th><th scope=col>&lt;chr&gt;</th></tr>\n",
       "</thead>\n",
       "<tbody>\n",
       "\t<tr><td>control1</td><td>Control</td></tr>\n",
       "\t<tr><td>control2</td><td>Control</td></tr>\n",
       "\t<tr><td>control3</td><td>Control</td></tr>\n",
       "\t<tr><td>control4</td><td>Control</td></tr>\n",
       "\t<tr><td>control5</td><td>Control</td></tr>\n",
       "\t<tr><td>dba1    </td><td>DBA    </td></tr>\n",
       "</tbody>\n",
       "</table>\n"
      ],
      "text/latex": [
       "A data.table: 6 × 2\n",
       "\\begin{tabular}{ll}\n",
       " assay\\_sample\\_name & group\\\\\n",
       " <chr> & <chr>\\\\\n",
       "\\hline\n",
       "\t control1 & Control\\\\\n",
       "\t control2 & Control\\\\\n",
       "\t control3 & Control\\\\\n",
       "\t control4 & Control\\\\\n",
       "\t control5 & Control\\\\\n",
       "\t dba1     & DBA    \\\\\n",
       "\\end{tabular}\n"
      ],
      "text/markdown": [
       "\n",
       "A data.table: 6 × 2\n",
       "\n",
       "| assay_sample_name &lt;chr&gt; | group &lt;chr&gt; |\n",
       "|---|---|\n",
       "| control1 | Control |\n",
       "| control2 | Control |\n",
       "| control3 | Control |\n",
       "| control4 | Control |\n",
       "| control5 | Control |\n",
       "| dba1     | DBA     |\n",
       "\n"
      ],
      "text/plain": [
       "  assay_sample_name group  \n",
       "1 control1          Control\n",
       "2 control2          Control\n",
       "3 control3          Control\n",
       "4 control4          Control\n",
       "5 control5          Control\n",
       "6 dba1              DBA    "
      ]
     },
     "metadata": {},
     "output_type": "display_data"
    }
   ],
   "source": [
    "dsn_dt2[, group := 'Control']\n",
    "dsn_dt2[grep('dba', assay_sample_name), group := 'DBA']\n",
    "head(dsn_dt2[, .(assay_sample_name, group)])"
   ]
  },
  {
   "cell_type": "code",
   "execution_count": 223,
   "id": "abc6fbca-d742-465a-b6eb-bf83d9f65395",
   "metadata": {},
   "outputs": [
    {
     "data": {
      "text/html": [
       "<table class=\"dataframe\">\n",
       "<caption>A data.table: 6 × 23</caption>\n",
       "<thead>\n",
       "\t<tr><th scope=col>gene</th><th scope=col>control1</th><th scope=col>control2</th><th scope=col>control3</th><th scope=col>control4</th><th scope=col>control5</th><th scope=col>control6</th><th scope=col>control7</th><th scope=col>control8</th><th scope=col>dba1</th><th scope=col>⋯</th><th scope=col>dba13</th><th scope=col>dba14</th><th scope=col>dba2</th><th scope=col>dba3</th><th scope=col>dba4</th><th scope=col>dba5</th><th scope=col>dba6</th><th scope=col>dba7</th><th scope=col>dba8</th><th scope=col>dba9</th></tr>\n",
       "\t<tr><th scope=col>&lt;chr&gt;</th><th scope=col>&lt;int&gt;</th><th scope=col>&lt;int&gt;</th><th scope=col>&lt;int&gt;</th><th scope=col>&lt;int&gt;</th><th scope=col>&lt;int&gt;</th><th scope=col>&lt;int&gt;</th><th scope=col>&lt;int&gt;</th><th scope=col>&lt;int&gt;</th><th scope=col>&lt;int&gt;</th><th scope=col>⋯</th><th scope=col>&lt;int&gt;</th><th scope=col>&lt;int&gt;</th><th scope=col>&lt;int&gt;</th><th scope=col>&lt;int&gt;</th><th scope=col>&lt;int&gt;</th><th scope=col>&lt;int&gt;</th><th scope=col>&lt;int&gt;</th><th scope=col>&lt;int&gt;</th><th scope=col>&lt;int&gt;</th><th scope=col>&lt;int&gt;</th></tr>\n",
       "</thead>\n",
       "<tbody>\n",
       "\t<tr><td>(CATTC)n:Satellite:Satellite        </td><td> 5</td><td>  9</td><td> 1</td><td> 3</td><td>  0</td><td> 4</td><td> 3</td><td>36</td><td> 14</td><td>⋯</td><td>118</td><td>16</td><td> 47</td><td> 2</td><td> 16</td><td>11</td><td> 3</td><td> 1</td><td>12</td><td> 2</td></tr>\n",
       "\t<tr><td>(GAATG)n:Satellite:Satellite        </td><td> 9</td><td> 23</td><td> 7</td><td> 7</td><td>  5</td><td>10</td><td> 9</td><td>96</td><td> 23</td><td>⋯</td><td>282</td><td>55</td><td>114</td><td>15</td><td> 32</td><td>10</td><td>14</td><td>12</td><td>16</td><td>21</td></tr>\n",
       "\t<tr><td>7SLRNA:srpRNA:srpRNA                </td><td> 2</td><td>  2</td><td> 2</td><td> 6</td><td>  7</td><td> 2</td><td> 4</td><td> 2</td><td>  1</td><td>⋯</td><td>  0</td><td> 0</td><td>  2</td><td> 3</td><td>  2</td><td> 4</td><td> 0</td><td> 4</td><td>10</td><td> 3</td></tr>\n",
       "\t<tr><td>A-rich:Low_complexity:Low_complexity</td><td> 0</td><td>  0</td><td> 0</td><td> 0</td><td>  0</td><td> 0</td><td> 1</td><td> 0</td><td>  0</td><td>⋯</td><td>  0</td><td> 0</td><td>  0</td><td> 0</td><td>  0</td><td> 0</td><td> 0</td><td> 0</td><td> 0</td><td> 0</td></tr>\n",
       "\t<tr><td>A1BG                                </td><td> 5</td><td> 54</td><td>60</td><td>51</td><td> 70</td><td>12</td><td>12</td><td> 4</td><td>111</td><td>⋯</td><td>  9</td><td> 4</td><td> 59</td><td>42</td><td> 53</td><td>70</td><td>22</td><td>58</td><td>38</td><td>90</td></tr>\n",
       "\t<tr><td>A1BG-AS1                            </td><td>30</td><td>112</td><td>73</td><td>56</td><td>103</td><td>27</td><td>23</td><td>10</td><td>112</td><td>⋯</td><td> 13</td><td>10</td><td>123</td><td>71</td><td>134</td><td>37</td><td>46</td><td>77</td><td>50</td><td>64</td></tr>\n",
       "</tbody>\n",
       "</table>\n"
      ],
      "text/latex": [
       "A data.table: 6 × 23\n",
       "\\begin{tabular}{lllllllllllllllllllll}\n",
       " gene & control1 & control2 & control3 & control4 & control5 & control6 & control7 & control8 & dba1 & ⋯ & dba13 & dba14 & dba2 & dba3 & dba4 & dba5 & dba6 & dba7 & dba8 & dba9\\\\\n",
       " <chr> & <int> & <int> & <int> & <int> & <int> & <int> & <int> & <int> & <int> & ⋯ & <int> & <int> & <int> & <int> & <int> & <int> & <int> & <int> & <int> & <int>\\\\\n",
       "\\hline\n",
       "\t (CATTC)n:Satellite:Satellite         &  5 &   9 &  1 &  3 &   0 &  4 &  3 & 36 &  14 & ⋯ & 118 & 16 &  47 &  2 &  16 & 11 &  3 &  1 & 12 &  2\\\\\n",
       "\t (GAATG)n:Satellite:Satellite         &  9 &  23 &  7 &  7 &   5 & 10 &  9 & 96 &  23 & ⋯ & 282 & 55 & 114 & 15 &  32 & 10 & 14 & 12 & 16 & 21\\\\\n",
       "\t 7SLRNA:srpRNA:srpRNA                 &  2 &   2 &  2 &  6 &   7 &  2 &  4 &  2 &   1 & ⋯ &   0 &  0 &   2 &  3 &   2 &  4 &  0 &  4 & 10 &  3\\\\\n",
       "\t A-rich:Low\\_complexity:Low\\_complexity &  0 &   0 &  0 &  0 &   0 &  0 &  1 &  0 &   0 & ⋯ &   0 &  0 &   0 &  0 &   0 &  0 &  0 &  0 &  0 &  0\\\\\n",
       "\t A1BG                                 &  5 &  54 & 60 & 51 &  70 & 12 & 12 &  4 & 111 & ⋯ &   9 &  4 &  59 & 42 &  53 & 70 & 22 & 58 & 38 & 90\\\\\n",
       "\t A1BG-AS1                             & 30 & 112 & 73 & 56 & 103 & 27 & 23 & 10 & 112 & ⋯ &  13 & 10 & 123 & 71 & 134 & 37 & 46 & 77 & 50 & 64\\\\\n",
       "\\end{tabular}\n"
      ],
      "text/markdown": [
       "\n",
       "A data.table: 6 × 23\n",
       "\n",
       "| gene &lt;chr&gt; | control1 &lt;int&gt; | control2 &lt;int&gt; | control3 &lt;int&gt; | control4 &lt;int&gt; | control5 &lt;int&gt; | control6 &lt;int&gt; | control7 &lt;int&gt; | control8 &lt;int&gt; | dba1 &lt;int&gt; | ⋯ ⋯ | dba13 &lt;int&gt; | dba14 &lt;int&gt; | dba2 &lt;int&gt; | dba3 &lt;int&gt; | dba4 &lt;int&gt; | dba5 &lt;int&gt; | dba6 &lt;int&gt; | dba7 &lt;int&gt; | dba8 &lt;int&gt; | dba9 &lt;int&gt; |\n",
       "|---|---|---|---|---|---|---|---|---|---|---|---|---|---|---|---|---|---|---|---|---|\n",
       "| (CATTC)n:Satellite:Satellite         |  5 |   9 |  1 |  3 |   0 |  4 |  3 | 36 |  14 | ⋯ | 118 | 16 |  47 |  2 |  16 | 11 |  3 |  1 | 12 |  2 |\n",
       "| (GAATG)n:Satellite:Satellite         |  9 |  23 |  7 |  7 |   5 | 10 |  9 | 96 |  23 | ⋯ | 282 | 55 | 114 | 15 |  32 | 10 | 14 | 12 | 16 | 21 |\n",
       "| 7SLRNA:srpRNA:srpRNA                 |  2 |   2 |  2 |  6 |   7 |  2 |  4 |  2 |   1 | ⋯ |   0 |  0 |   2 |  3 |   2 |  4 |  0 |  4 | 10 |  3 |\n",
       "| A-rich:Low_complexity:Low_complexity |  0 |   0 |  0 |  0 |   0 |  0 |  1 |  0 |   0 | ⋯ |   0 |  0 |   0 |  0 |   0 |  0 |  0 |  0 |  0 |  0 |\n",
       "| A1BG                                 |  5 |  54 | 60 | 51 |  70 | 12 | 12 |  4 | 111 | ⋯ |   9 |  4 |  59 | 42 |  53 | 70 | 22 | 58 | 38 | 90 |\n",
       "| A1BG-AS1                             | 30 | 112 | 73 | 56 | 103 | 27 | 23 | 10 | 112 | ⋯ |  13 | 10 | 123 | 71 | 134 | 37 | 46 | 77 | 50 | 64 |\n",
       "\n"
      ],
      "text/plain": [
       "  gene                                 control1 control2 control3 control4\n",
       "1 (CATTC)n:Satellite:Satellite          5         9       1        3      \n",
       "2 (GAATG)n:Satellite:Satellite          9        23       7        7      \n",
       "3 7SLRNA:srpRNA:srpRNA                  2         2       2        6      \n",
       "4 A-rich:Low_complexity:Low_complexity  0         0       0        0      \n",
       "5 A1BG                                  5        54      60       51      \n",
       "6 A1BG-AS1                             30       112      73       56      \n",
       "  control5 control6 control7 control8 dba1 ⋯ dba13 dba14 dba2 dba3 dba4 dba5\n",
       "1   0       4        3       36        14  ⋯ 118   16     47   2    16  11  \n",
       "2   5      10        9       96        23  ⋯ 282   55    114  15    32  10  \n",
       "3   7       2        4        2         1  ⋯   0    0      2   3     2   4  \n",
       "4   0       0        1        0         0  ⋯   0    0      0   0     0   0  \n",
       "5  70      12       12        4       111  ⋯   9    4     59  42    53  70  \n",
       "6 103      27       23       10       112  ⋯  13   10    123  71   134  37  \n",
       "  dba6 dba7 dba8 dba9\n",
       "1  3    1   12    2  \n",
       "2 14   12   16   21  \n",
       "3  0    4   10    3  \n",
       "4  0    0    0    0  \n",
       "5 22   58   38   90  \n",
       "6 46   77   50   64  "
      ]
     },
     "metadata": {},
     "output_type": "display_data"
    }
   ],
   "source": [
    "head(tecount_dt)"
   ]
  },
  {
   "cell_type": "code",
   "execution_count": 231,
   "id": "b7e64107-f378-42bf-9fd3-be63060cd988",
   "metadata": {},
   "outputs": [
    {
     "data": {
      "text/html": [
       "<table class=\"dataframe\">\n",
       "<caption>A data.table: 6 × 18307</caption>\n",
       "<thead>\n",
       "\t<tr><th scope=col>rn</th><th scope=col>A1BG</th><th scope=col>A1BG-AS1</th><th scope=col>A2M</th><th scope=col>A4GALT</th><th scope=col>AAAS</th><th scope=col>AACS</th><th scope=col>AAGAB</th><th scope=col>AAK1</th><th scope=col>AAMDC</th><th scope=col>⋯</th><th scope=col>ZWINT</th><th scope=col>ZXDA</th><th scope=col>ZXDB</th><th scope=col>ZXDC</th><th scope=col>ZYG11A</th><th scope=col>ZYG11B</th><th scope=col>ZYX</th><th scope=col>ZZEF1</th><th scope=col>ZZZ3</th><th scope=col>group</th></tr>\n",
       "\t<tr><th scope=col>&lt;chr&gt;</th><th scope=col>&lt;dbl&gt;</th><th scope=col>&lt;dbl&gt;</th><th scope=col>&lt;dbl&gt;</th><th scope=col>&lt;dbl&gt;</th><th scope=col>&lt;dbl&gt;</th><th scope=col>&lt;dbl&gt;</th><th scope=col>&lt;dbl&gt;</th><th scope=col>&lt;dbl&gt;</th><th scope=col>&lt;dbl&gt;</th><th scope=col>⋯</th><th scope=col>&lt;dbl&gt;</th><th scope=col>&lt;dbl&gt;</th><th scope=col>&lt;dbl&gt;</th><th scope=col>&lt;dbl&gt;</th><th scope=col>&lt;dbl&gt;</th><th scope=col>&lt;dbl&gt;</th><th scope=col>&lt;dbl&gt;</th><th scope=col>&lt;dbl&gt;</th><th scope=col>&lt;dbl&gt;</th><th scope=col>&lt;chr&gt;</th></tr>\n",
       "</thead>\n",
       "<tbody>\n",
       "\t<tr><td>control1</td><td>0.6836467</td><td>1.511146</td><td>0.96893952</td><td>2.587487</td><td>3.817186</td><td>4.144249</td><td>5.063673</td><td>3.989803</td><td>2.349837</td><td>⋯</td><td>5.660919</td><td>1.0407594</td><td>1.567270</td><td>2.071035</td><td>2.223666</td><td>2.672328</td><td>3.651775</td><td>3.532992</td><td>4.257842</td><td>Control</td></tr>\n",
       "\t<tr><td>control2</td><td>1.8825584</td><td>2.394972</td><td>0.70611600</td><td>2.865868</td><td>3.838201</td><td>4.004978</td><td>5.183859</td><td>4.074625</td><td>2.502573</td><td>⋯</td><td>5.465292</td><td>1.0666490</td><td>1.738846</td><td>2.017979</td><td>1.904624</td><td>2.560850</td><td>3.547170</td><td>3.479480</td><td>4.476494</td><td>Control</td></tr>\n",
       "\t<tr><td>control3</td><td>1.9411760</td><td>2.093984</td><td>0.94840871</td><td>3.397862</td><td>3.775774</td><td>4.070471</td><td>5.025579</td><td>3.996638</td><td>2.460591</td><td>⋯</td><td>5.787174</td><td>1.1495351</td><td>1.696942</td><td>2.102802</td><td>2.315515</td><td>2.565393</td><td>3.348580</td><td>3.460760</td><td>4.170799</td><td>Control</td></tr>\n",
       "\t<tr><td>control4</td><td>1.7824977</td><td>1.878864</td><td>0.47086622</td><td>3.024236</td><td>3.906243</td><td>4.247900</td><td>4.898129</td><td>4.276151</td><td>2.435711</td><td>⋯</td><td>5.609806</td><td>1.2448296</td><td>2.003468</td><td>1.985280</td><td>1.318985</td><td>2.753687</td><td>3.223746</td><td>3.650296</td><td>4.513865</td><td>Control</td></tr>\n",
       "\t<tr><td>control5</td><td>2.0494497</td><td>2.327813</td><td>1.64876801</td><td>2.583675</td><td>3.712132</td><td>4.155674</td><td>4.732967</td><td>4.081570</td><td>2.368623</td><td>⋯</td><td>5.052551</td><td>0.8555745</td><td>1.532773</td><td>2.067624</td><td>2.646180</td><td>2.705008</td><td>3.260441</td><td>3.499818</td><td>4.393871</td><td>Control</td></tr>\n",
       "\t<tr><td>control6</td><td>0.7257673</td><td>1.097253</td><td>0.02697433</td><td>3.783752</td><td>4.690332</td><td>2.695129</td><td>4.237245</td><td>3.098391</td><td>2.774948</td><td>⋯</td><td>5.482311</td><td>1.3881820</td><td>2.500013</td><td>3.914671</td><td>0.000000</td><td>3.867776</td><td>1.557255</td><td>4.567595</td><td>3.989769</td><td>Control</td></tr>\n",
       "</tbody>\n",
       "</table>\n"
      ],
      "text/latex": [
       "A data.table: 6 × 18307\n",
       "\\begin{tabular}{lllllllllllllllllllll}\n",
       " rn & A1BG & A1BG-AS1 & A2M & A4GALT & AAAS & AACS & AAGAB & AAK1 & AAMDC & ⋯ & ZWINT & ZXDA & ZXDB & ZXDC & ZYG11A & ZYG11B & ZYX & ZZEF1 & ZZZ3 & group\\\\\n",
       " <chr> & <dbl> & <dbl> & <dbl> & <dbl> & <dbl> & <dbl> & <dbl> & <dbl> & <dbl> & ⋯ & <dbl> & <dbl> & <dbl> & <dbl> & <dbl> & <dbl> & <dbl> & <dbl> & <dbl> & <chr>\\\\\n",
       "\\hline\n",
       "\t control1 & 0.6836467 & 1.511146 & 0.96893952 & 2.587487 & 3.817186 & 4.144249 & 5.063673 & 3.989803 & 2.349837 & ⋯ & 5.660919 & 1.0407594 & 1.567270 & 2.071035 & 2.223666 & 2.672328 & 3.651775 & 3.532992 & 4.257842 & Control\\\\\n",
       "\t control2 & 1.8825584 & 2.394972 & 0.70611600 & 2.865868 & 3.838201 & 4.004978 & 5.183859 & 4.074625 & 2.502573 & ⋯ & 5.465292 & 1.0666490 & 1.738846 & 2.017979 & 1.904624 & 2.560850 & 3.547170 & 3.479480 & 4.476494 & Control\\\\\n",
       "\t control3 & 1.9411760 & 2.093984 & 0.94840871 & 3.397862 & 3.775774 & 4.070471 & 5.025579 & 3.996638 & 2.460591 & ⋯ & 5.787174 & 1.1495351 & 1.696942 & 2.102802 & 2.315515 & 2.565393 & 3.348580 & 3.460760 & 4.170799 & Control\\\\\n",
       "\t control4 & 1.7824977 & 1.878864 & 0.47086622 & 3.024236 & 3.906243 & 4.247900 & 4.898129 & 4.276151 & 2.435711 & ⋯ & 5.609806 & 1.2448296 & 2.003468 & 1.985280 & 1.318985 & 2.753687 & 3.223746 & 3.650296 & 4.513865 & Control\\\\\n",
       "\t control5 & 2.0494497 & 2.327813 & 1.64876801 & 2.583675 & 3.712132 & 4.155674 & 4.732967 & 4.081570 & 2.368623 & ⋯ & 5.052551 & 0.8555745 & 1.532773 & 2.067624 & 2.646180 & 2.705008 & 3.260441 & 3.499818 & 4.393871 & Control\\\\\n",
       "\t control6 & 0.7257673 & 1.097253 & 0.02697433 & 3.783752 & 4.690332 & 2.695129 & 4.237245 & 3.098391 & 2.774948 & ⋯ & 5.482311 & 1.3881820 & 2.500013 & 3.914671 & 0.000000 & 3.867776 & 1.557255 & 4.567595 & 3.989769 & Control\\\\\n",
       "\\end{tabular}\n"
      ],
      "text/markdown": [
       "\n",
       "A data.table: 6 × 18307\n",
       "\n",
       "| rn &lt;chr&gt; | A1BG &lt;dbl&gt; | A1BG-AS1 &lt;dbl&gt; | A2M &lt;dbl&gt; | A4GALT &lt;dbl&gt; | AAAS &lt;dbl&gt; | AACS &lt;dbl&gt; | AAGAB &lt;dbl&gt; | AAK1 &lt;dbl&gt; | AAMDC &lt;dbl&gt; | ⋯ ⋯ | ZWINT &lt;dbl&gt; | ZXDA &lt;dbl&gt; | ZXDB &lt;dbl&gt; | ZXDC &lt;dbl&gt; | ZYG11A &lt;dbl&gt; | ZYG11B &lt;dbl&gt; | ZYX &lt;dbl&gt; | ZZEF1 &lt;dbl&gt; | ZZZ3 &lt;dbl&gt; | group &lt;chr&gt; |\n",
       "|---|---|---|---|---|---|---|---|---|---|---|---|---|---|---|---|---|---|---|---|---|\n",
       "| control1 | 0.6836467 | 1.511146 | 0.96893952 | 2.587487 | 3.817186 | 4.144249 | 5.063673 | 3.989803 | 2.349837 | ⋯ | 5.660919 | 1.0407594 | 1.567270 | 2.071035 | 2.223666 | 2.672328 | 3.651775 | 3.532992 | 4.257842 | Control |\n",
       "| control2 | 1.8825584 | 2.394972 | 0.70611600 | 2.865868 | 3.838201 | 4.004978 | 5.183859 | 4.074625 | 2.502573 | ⋯ | 5.465292 | 1.0666490 | 1.738846 | 2.017979 | 1.904624 | 2.560850 | 3.547170 | 3.479480 | 4.476494 | Control |\n",
       "| control3 | 1.9411760 | 2.093984 | 0.94840871 | 3.397862 | 3.775774 | 4.070471 | 5.025579 | 3.996638 | 2.460591 | ⋯ | 5.787174 | 1.1495351 | 1.696942 | 2.102802 | 2.315515 | 2.565393 | 3.348580 | 3.460760 | 4.170799 | Control |\n",
       "| control4 | 1.7824977 | 1.878864 | 0.47086622 | 3.024236 | 3.906243 | 4.247900 | 4.898129 | 4.276151 | 2.435711 | ⋯ | 5.609806 | 1.2448296 | 2.003468 | 1.985280 | 1.318985 | 2.753687 | 3.223746 | 3.650296 | 4.513865 | Control |\n",
       "| control5 | 2.0494497 | 2.327813 | 1.64876801 | 2.583675 | 3.712132 | 4.155674 | 4.732967 | 4.081570 | 2.368623 | ⋯ | 5.052551 | 0.8555745 | 1.532773 | 2.067624 | 2.646180 | 2.705008 | 3.260441 | 3.499818 | 4.393871 | Control |\n",
       "| control6 | 0.7257673 | 1.097253 | 0.02697433 | 3.783752 | 4.690332 | 2.695129 | 4.237245 | 3.098391 | 2.774948 | ⋯ | 5.482311 | 1.3881820 | 2.500013 | 3.914671 | 0.000000 | 3.867776 | 1.557255 | 4.567595 | 3.989769 | Control |\n",
       "\n"
      ],
      "text/plain": [
       "  rn       A1BG      A1BG-AS1 A2M        A4GALT   AAAS     AACS     AAGAB   \n",
       "1 control1 0.6836467 1.511146 0.96893952 2.587487 3.817186 4.144249 5.063673\n",
       "2 control2 1.8825584 2.394972 0.70611600 2.865868 3.838201 4.004978 5.183859\n",
       "3 control3 1.9411760 2.093984 0.94840871 3.397862 3.775774 4.070471 5.025579\n",
       "4 control4 1.7824977 1.878864 0.47086622 3.024236 3.906243 4.247900 4.898129\n",
       "5 control5 2.0494497 2.327813 1.64876801 2.583675 3.712132 4.155674 4.732967\n",
       "6 control6 0.7257673 1.097253 0.02697433 3.783752 4.690332 2.695129 4.237245\n",
       "  AAK1     AAMDC    ⋯ ZWINT    ZXDA      ZXDB     ZXDC     ZYG11A   ZYG11B  \n",
       "1 3.989803 2.349837 ⋯ 5.660919 1.0407594 1.567270 2.071035 2.223666 2.672328\n",
       "2 4.074625 2.502573 ⋯ 5.465292 1.0666490 1.738846 2.017979 1.904624 2.560850\n",
       "3 3.996638 2.460591 ⋯ 5.787174 1.1495351 1.696942 2.102802 2.315515 2.565393\n",
       "4 4.276151 2.435711 ⋯ 5.609806 1.2448296 2.003468 1.985280 1.318985 2.753687\n",
       "5 4.081570 2.368623 ⋯ 5.052551 0.8555745 1.532773 2.067624 2.646180 2.705008\n",
       "6 3.098391 2.774948 ⋯ 5.482311 1.3881820 2.500013 3.914671 0.000000 3.867776\n",
       "  ZYX      ZZEF1    ZZZ3     group  \n",
       "1 3.651775 3.532992 4.257842 Control\n",
       "2 3.547170 3.479480 4.476494 Control\n",
       "3 3.348580 3.460760 4.170799 Control\n",
       "4 3.223746 3.650296 4.513865 Control\n",
       "5 3.260441 3.499818 4.393871 Control\n",
       "6 1.557255 4.567595 3.989769 Control"
      ]
     },
     "metadata": {},
     "output_type": "display_data"
    }
   ],
   "source": [
    "# take all together for logcpm\n",
    "subtype = factor(dsn_dt2$group)\n",
    "subtype = relevel(subtype, ref = 'Control')\n",
    "\n",
    "dge = DGEList(counts = tecount_combat_df[coding_genes, ], group = subtype)\n",
    "dge <- calcNormFactors(dge)\n",
    "\n",
    "keep = filterByExpr(dge)\n",
    "dge = dge[keep, , keep.lib.sizes=FALSE]\n",
    "dge = normLibSizes(dge)\n",
    "design = model.matrix( ~  subtype)\n",
    "dge = estimateDisp(dge, design)\n",
    "et <- exactTest(dge)\n",
    "deg = topTags(et, n = length(keep))\n",
    "deg_coding_dt = as.data.table(deg$table, keep.rownames = T)\n",
    "\n",
    "logcpm_coding_df = log1p(cpm(dge, normalize = T))\n",
    "\n",
    "logcpm_coding_dt = merge(as.data.table(t(logcpm_coding_df), keep.rownames = T), dsn_dt2[, .(assay_sample_name, group)], by.x = 'rn', by.y = 'assay_sample_name', all.x = T)\n",
    "head(logcpm_coding_dt)\n"
   ]
  },
  {
   "cell_type": "code",
   "execution_count": 227,
   "id": "3d67314c-3063-401a-8c70-e5ff3fc0787a",
   "metadata": {},
   "outputs": [
    {
     "data": {
      "text/html": [
       "<table class=\"dataframe\">\n",
       "<caption>A data.frame: 6 × 22</caption>\n",
       "<thead>\n",
       "\t<tr><th></th><th scope=col>control1</th><th scope=col>control2</th><th scope=col>control3</th><th scope=col>control4</th><th scope=col>control5</th><th scope=col>control6</th><th scope=col>control7</th><th scope=col>control8</th><th scope=col>dba1</th><th scope=col>dba10</th><th scope=col>⋯</th><th scope=col>dba13</th><th scope=col>dba14</th><th scope=col>dba2</th><th scope=col>dba3</th><th scope=col>dba4</th><th scope=col>dba5</th><th scope=col>dba6</th><th scope=col>dba7</th><th scope=col>dba8</th><th scope=col>dba9</th></tr>\n",
       "\t<tr><th></th><th scope=col>&lt;int&gt;</th><th scope=col>&lt;int&gt;</th><th scope=col>&lt;int&gt;</th><th scope=col>&lt;int&gt;</th><th scope=col>&lt;int&gt;</th><th scope=col>&lt;int&gt;</th><th scope=col>&lt;int&gt;</th><th scope=col>&lt;int&gt;</th><th scope=col>&lt;int&gt;</th><th scope=col>&lt;int&gt;</th><th scope=col>⋯</th><th scope=col>&lt;int&gt;</th><th scope=col>&lt;int&gt;</th><th scope=col>&lt;int&gt;</th><th scope=col>&lt;int&gt;</th><th scope=col>&lt;int&gt;</th><th scope=col>&lt;int&gt;</th><th scope=col>&lt;int&gt;</th><th scope=col>&lt;int&gt;</th><th scope=col>&lt;int&gt;</th><th scope=col>&lt;int&gt;</th></tr>\n",
       "</thead>\n",
       "<tbody>\n",
       "\t<tr><th scope=row>(CATTC)n:Satellite:Satellite</th><td>  5</td><td>  9</td><td>  1</td><td>  3</td><td>  0</td><td>  4</td><td>  3</td><td>  36</td><td> 14</td><td>  60</td><td>⋯</td><td> 118</td><td> 16</td><td> 47</td><td>  2</td><td> 16</td><td> 11</td><td>  3</td><td>  1</td><td> 12</td><td>  2</td></tr>\n",
       "\t<tr><th scope=row>(GAATG)n:Satellite:Satellite</th><td>  9</td><td> 23</td><td>  7</td><td>  7</td><td>  5</td><td> 10</td><td>  9</td><td>  96</td><td> 23</td><td> 134</td><td>⋯</td><td> 282</td><td> 55</td><td>114</td><td> 15</td><td> 32</td><td> 10</td><td> 14</td><td> 12</td><td> 16</td><td> 21</td></tr>\n",
       "\t<tr><th scope=row>7SLRNA:srpRNA:srpRNA</th><td>  2</td><td>  2</td><td>  2</td><td>  6</td><td>  7</td><td>  2</td><td>  4</td><td>   2</td><td>  1</td><td>   5</td><td>⋯</td><td>   0</td><td>  0</td><td>  2</td><td>  3</td><td>  2</td><td>  4</td><td>  0</td><td>  4</td><td> 10</td><td>  3</td></tr>\n",
       "\t<tr><th scope=row>A-rich:Low_complexity:Low_complexity</th><td>  0</td><td>  0</td><td>  0</td><td>  0</td><td>  0</td><td>  0</td><td>  1</td><td>   0</td><td>  0</td><td>   0</td><td>⋯</td><td>   0</td><td>  0</td><td>  0</td><td>  0</td><td>  0</td><td>  0</td><td>  0</td><td>  0</td><td>  0</td><td>  0</td></tr>\n",
       "\t<tr><th scope=row>ACRO1:acro:Satellite</th><td>  1</td><td>  1</td><td>  3</td><td>  5</td><td>  2</td><td> 19</td><td> 23</td><td>  10</td><td>  0</td><td>  19</td><td>⋯</td><td>  12</td><td>  5</td><td>  5</td><td>  1</td><td>  3</td><td>  7</td><td>  0</td><td>  2</td><td>  7</td><td>  3</td></tr>\n",
       "\t<tr><th scope=row>ALR/Alpha:centr:Satellite</th><td>164</td><td>183</td><td>172</td><td>312</td><td>297</td><td>241</td><td>314</td><td>1028</td><td>265</td><td>1211</td><td>⋯</td><td>2740</td><td>746</td><td>188</td><td>215</td><td>121</td><td>332</td><td>142</td><td>202</td><td>416</td><td>451</td></tr>\n",
       "</tbody>\n",
       "</table>\n"
      ],
      "text/latex": [
       "A data.frame: 6 × 22\n",
       "\\begin{tabular}{r|lllllllllllllllllllll}\n",
       "  & control1 & control2 & control3 & control4 & control5 & control6 & control7 & control8 & dba1 & dba10 & ⋯ & dba13 & dba14 & dba2 & dba3 & dba4 & dba5 & dba6 & dba7 & dba8 & dba9\\\\\n",
       "  & <int> & <int> & <int> & <int> & <int> & <int> & <int> & <int> & <int> & <int> & ⋯ & <int> & <int> & <int> & <int> & <int> & <int> & <int> & <int> & <int> & <int>\\\\\n",
       "\\hline\n",
       "\t(CATTC)n:Satellite:Satellite &   5 &   9 &   1 &   3 &   0 &   4 &   3 &   36 &  14 &   60 & ⋯ &  118 &  16 &  47 &   2 &  16 &  11 &   3 &   1 &  12 &   2\\\\\n",
       "\t(GAATG)n:Satellite:Satellite &   9 &  23 &   7 &   7 &   5 &  10 &   9 &   96 &  23 &  134 & ⋯ &  282 &  55 & 114 &  15 &  32 &  10 &  14 &  12 &  16 &  21\\\\\n",
       "\t7SLRNA:srpRNA:srpRNA &   2 &   2 &   2 &   6 &   7 &   2 &   4 &    2 &   1 &    5 & ⋯ &    0 &   0 &   2 &   3 &   2 &   4 &   0 &   4 &  10 &   3\\\\\n",
       "\tA-rich:Low\\_complexity:Low\\_complexity &   0 &   0 &   0 &   0 &   0 &   0 &   1 &    0 &   0 &    0 & ⋯ &    0 &   0 &   0 &   0 &   0 &   0 &   0 &   0 &   0 &   0\\\\\n",
       "\tACRO1:acro:Satellite &   1 &   1 &   3 &   5 &   2 &  19 &  23 &   10 &   0 &   19 & ⋯ &   12 &   5 &   5 &   1 &   3 &   7 &   0 &   2 &   7 &   3\\\\\n",
       "\tALR/Alpha:centr:Satellite & 164 & 183 & 172 & 312 & 297 & 241 & 314 & 1028 & 265 & 1211 & ⋯ & 2740 & 746 & 188 & 215 & 121 & 332 & 142 & 202 & 416 & 451\\\\\n",
       "\\end{tabular}\n"
      ],
      "text/markdown": [
       "\n",
       "A data.frame: 6 × 22\n",
       "\n",
       "| <!--/--> | control1 &lt;int&gt; | control2 &lt;int&gt; | control3 &lt;int&gt; | control4 &lt;int&gt; | control5 &lt;int&gt; | control6 &lt;int&gt; | control7 &lt;int&gt; | control8 &lt;int&gt; | dba1 &lt;int&gt; | dba10 &lt;int&gt; | ⋯ ⋯ | dba13 &lt;int&gt; | dba14 &lt;int&gt; | dba2 &lt;int&gt; | dba3 &lt;int&gt; | dba4 &lt;int&gt; | dba5 &lt;int&gt; | dba6 &lt;int&gt; | dba7 &lt;int&gt; | dba8 &lt;int&gt; | dba9 &lt;int&gt; |\n",
       "|---|---|---|---|---|---|---|---|---|---|---|---|---|---|---|---|---|---|---|---|---|---|\n",
       "| (CATTC)n:Satellite:Satellite |   5 |   9 |   1 |   3 |   0 |   4 |   3 |   36 |  14 |   60 | ⋯ |  118 |  16 |  47 |   2 |  16 |  11 |   3 |   1 |  12 |   2 |\n",
       "| (GAATG)n:Satellite:Satellite |   9 |  23 |   7 |   7 |   5 |  10 |   9 |   96 |  23 |  134 | ⋯ |  282 |  55 | 114 |  15 |  32 |  10 |  14 |  12 |  16 |  21 |\n",
       "| 7SLRNA:srpRNA:srpRNA |   2 |   2 |   2 |   6 |   7 |   2 |   4 |    2 |   1 |    5 | ⋯ |    0 |   0 |   2 |   3 |   2 |   4 |   0 |   4 |  10 |   3 |\n",
       "| A-rich:Low_complexity:Low_complexity |   0 |   0 |   0 |   0 |   0 |   0 |   1 |    0 |   0 |    0 | ⋯ |    0 |   0 |   0 |   0 |   0 |   0 |   0 |   0 |   0 |   0 |\n",
       "| ACRO1:acro:Satellite |   1 |   1 |   3 |   5 |   2 |  19 |  23 |   10 |   0 |   19 | ⋯ |   12 |   5 |   5 |   1 |   3 |   7 |   0 |   2 |   7 |   3 |\n",
       "| ALR/Alpha:centr:Satellite | 164 | 183 | 172 | 312 | 297 | 241 | 314 | 1028 | 265 | 1211 | ⋯ | 2740 | 746 | 188 | 215 | 121 | 332 | 142 | 202 | 416 | 451 |\n",
       "\n"
      ],
      "text/plain": [
       "                                     control1 control2 control3 control4\n",
       "(CATTC)n:Satellite:Satellite           5        9        1        3     \n",
       "(GAATG)n:Satellite:Satellite           9       23        7        7     \n",
       "7SLRNA:srpRNA:srpRNA                   2        2        2        6     \n",
       "A-rich:Low_complexity:Low_complexity   0        0        0        0     \n",
       "ACRO1:acro:Satellite                   1        1        3        5     \n",
       "ALR/Alpha:centr:Satellite            164      183      172      312     \n",
       "                                     control5 control6 control7 control8 dba1\n",
       "(CATTC)n:Satellite:Satellite           0        4        3        36      14 \n",
       "(GAATG)n:Satellite:Satellite           5       10        9        96      23 \n",
       "7SLRNA:srpRNA:srpRNA                   7        2        4         2       1 \n",
       "A-rich:Low_complexity:Low_complexity   0        0        1         0       0 \n",
       "ACRO1:acro:Satellite                   2       19       23        10       0 \n",
       "ALR/Alpha:centr:Satellite            297      241      314      1028     265 \n",
       "                                     dba10 ⋯ dba13 dba14 dba2 dba3 dba4 dba5\n",
       "(CATTC)n:Satellite:Satellite           60  ⋯  118   16    47    2   16   11 \n",
       "(GAATG)n:Satellite:Satellite          134  ⋯  282   55   114   15   32   10 \n",
       "7SLRNA:srpRNA:srpRNA                    5  ⋯    0    0     2    3    2    4 \n",
       "A-rich:Low_complexity:Low_complexity    0  ⋯    0    0     0    0    0    0 \n",
       "ACRO1:acro:Satellite                   19  ⋯   12    5     5    1    3    7 \n",
       "ALR/Alpha:centr:Satellite            1211  ⋯ 2740  746   188  215  121  332 \n",
       "                                     dba6 dba7 dba8 dba9\n",
       "(CATTC)n:Satellite:Satellite           3    1   12    2 \n",
       "(GAATG)n:Satellite:Satellite          14   12   16   21 \n",
       "7SLRNA:srpRNA:srpRNA                   0    4   10    3 \n",
       "A-rich:Low_complexity:Low_complexity   0    0    0    0 \n",
       "ACRO1:acro:Satellite                   0    2    7    3 \n",
       "ALR/Alpha:centr:Satellite            142  202  416  451 "
      ]
     },
     "metadata": {},
     "output_type": "display_data"
    }
   ],
   "source": [
    "head( tecount_df[!rownames(tecount_df) %in% coding_genes, ])"
   ]
  },
  {
   "cell_type": "code",
   "execution_count": 237,
   "id": "12a68850-4ccd-4920-9c08-260d7392fd73",
   "metadata": {},
   "outputs": [
    {
     "data": {
      "text/html": [
       "<table class=\"dataframe\">\n",
       "<caption>A data.table: 22 × 3</caption>\n",
       "<thead>\n",
       "\t<tr><th scope=col>.id</th><th scope=col>assay_sample_name</th><th scope=col>group</th></tr>\n",
       "\t<tr><th scope=col>&lt;chr&gt;</th><th scope=col>&lt;chr&gt;</th><th scope=col>&lt;chr&gt;</th></tr>\n",
       "</thead>\n",
       "<tbody>\n",
       "\t<tr><td>GSE119954</td><td>control1</td><td>Control</td></tr>\n",
       "\t<tr><td>GSE119954</td><td>control2</td><td>Control</td></tr>\n",
       "\t<tr><td>GSE119954</td><td>control3</td><td>Control</td></tr>\n",
       "\t<tr><td>GSE119954</td><td>control4</td><td>Control</td></tr>\n",
       "\t<tr><td>GSE119954</td><td>control5</td><td>Control</td></tr>\n",
       "\t<tr><td>GSE119954</td><td>dba1    </td><td>DBA    </td></tr>\n",
       "\t<tr><td>GSE119954</td><td>dba2    </td><td>DBA    </td></tr>\n",
       "\t<tr><td>GSE119954</td><td>dba3    </td><td>DBA    </td></tr>\n",
       "\t<tr><td>GSE119954</td><td>dba4    </td><td>DBA    </td></tr>\n",
       "\t<tr><td>GSE119954</td><td>dba5    </td><td>DBA    </td></tr>\n",
       "\t<tr><td>GSE119954</td><td>dba6    </td><td>DBA    </td></tr>\n",
       "\t<tr><td>GSE119954</td><td>dba7    </td><td>DBA    </td></tr>\n",
       "\t<tr><td>GSE119954</td><td>dba8    </td><td>DBA    </td></tr>\n",
       "\t<tr><td>GSE119954</td><td>dba9    </td><td>DBA    </td></tr>\n",
       "\t<tr><td>GSE181830</td><td>control6</td><td>Control</td></tr>\n",
       "\t<tr><td>GSE181830</td><td>control7</td><td>Control</td></tr>\n",
       "\t<tr><td>GSE181830</td><td>control8</td><td>Control</td></tr>\n",
       "\t<tr><td>GSE181830</td><td>dba10   </td><td>DBA    </td></tr>\n",
       "\t<tr><td>GSE181830</td><td>dba11   </td><td>DBA    </td></tr>\n",
       "\t<tr><td>GSE181830</td><td>dba12   </td><td>DBA    </td></tr>\n",
       "\t<tr><td>GSE181830</td><td>dba13   </td><td>DBA    </td></tr>\n",
       "\t<tr><td>GSE181830</td><td>dba14   </td><td>DBA    </td></tr>\n",
       "</tbody>\n",
       "</table>\n"
      ],
      "text/latex": [
       "A data.table: 22 × 3\n",
       "\\begin{tabular}{lll}\n",
       " .id & assay\\_sample\\_name & group\\\\\n",
       " <chr> & <chr> & <chr>\\\\\n",
       "\\hline\n",
       "\t GSE119954 & control1 & Control\\\\\n",
       "\t GSE119954 & control2 & Control\\\\\n",
       "\t GSE119954 & control3 & Control\\\\\n",
       "\t GSE119954 & control4 & Control\\\\\n",
       "\t GSE119954 & control5 & Control\\\\\n",
       "\t GSE119954 & dba1     & DBA    \\\\\n",
       "\t GSE119954 & dba2     & DBA    \\\\\n",
       "\t GSE119954 & dba3     & DBA    \\\\\n",
       "\t GSE119954 & dba4     & DBA    \\\\\n",
       "\t GSE119954 & dba5     & DBA    \\\\\n",
       "\t GSE119954 & dba6     & DBA    \\\\\n",
       "\t GSE119954 & dba7     & DBA    \\\\\n",
       "\t GSE119954 & dba8     & DBA    \\\\\n",
       "\t GSE119954 & dba9     & DBA    \\\\\n",
       "\t GSE181830 & control6 & Control\\\\\n",
       "\t GSE181830 & control7 & Control\\\\\n",
       "\t GSE181830 & control8 & Control\\\\\n",
       "\t GSE181830 & dba10    & DBA    \\\\\n",
       "\t GSE181830 & dba11    & DBA    \\\\\n",
       "\t GSE181830 & dba12    & DBA    \\\\\n",
       "\t GSE181830 & dba13    & DBA    \\\\\n",
       "\t GSE181830 & dba14    & DBA    \\\\\n",
       "\\end{tabular}\n"
      ],
      "text/markdown": [
       "\n",
       "A data.table: 22 × 3\n",
       "\n",
       "| .id &lt;chr&gt; | assay_sample_name &lt;chr&gt; | group &lt;chr&gt; |\n",
       "|---|---|---|\n",
       "| GSE119954 | control1 | Control |\n",
       "| GSE119954 | control2 | Control |\n",
       "| GSE119954 | control3 | Control |\n",
       "| GSE119954 | control4 | Control |\n",
       "| GSE119954 | control5 | Control |\n",
       "| GSE119954 | dba1     | DBA     |\n",
       "| GSE119954 | dba2     | DBA     |\n",
       "| GSE119954 | dba3     | DBA     |\n",
       "| GSE119954 | dba4     | DBA     |\n",
       "| GSE119954 | dba5     | DBA     |\n",
       "| GSE119954 | dba6     | DBA     |\n",
       "| GSE119954 | dba7     | DBA     |\n",
       "| GSE119954 | dba8     | DBA     |\n",
       "| GSE119954 | dba9     | DBA     |\n",
       "| GSE181830 | control6 | Control |\n",
       "| GSE181830 | control7 | Control |\n",
       "| GSE181830 | control8 | Control |\n",
       "| GSE181830 | dba10    | DBA     |\n",
       "| GSE181830 | dba11    | DBA     |\n",
       "| GSE181830 | dba12    | DBA     |\n",
       "| GSE181830 | dba13    | DBA     |\n",
       "| GSE181830 | dba14    | DBA     |\n",
       "\n"
      ],
      "text/plain": [
       "   .id       assay_sample_name group  \n",
       "1  GSE119954 control1          Control\n",
       "2  GSE119954 control2          Control\n",
       "3  GSE119954 control3          Control\n",
       "4  GSE119954 control4          Control\n",
       "5  GSE119954 control5          Control\n",
       "6  GSE119954 dba1              DBA    \n",
       "7  GSE119954 dba2              DBA    \n",
       "8  GSE119954 dba3              DBA    \n",
       "9  GSE119954 dba4              DBA    \n",
       "10 GSE119954 dba5              DBA    \n",
       "11 GSE119954 dba6              DBA    \n",
       "12 GSE119954 dba7              DBA    \n",
       "13 GSE119954 dba8              DBA    \n",
       "14 GSE119954 dba9              DBA    \n",
       "15 GSE181830 control6          Control\n",
       "16 GSE181830 control7          Control\n",
       "17 GSE181830 control8          Control\n",
       "18 GSE181830 dba10             DBA    \n",
       "19 GSE181830 dba11             DBA    \n",
       "20 GSE181830 dba12             DBA    \n",
       "21 GSE181830 dba13             DBA    \n",
       "22 GSE181830 dba14             DBA    "
      ]
     },
     "metadata": {},
     "output_type": "display_data"
    }
   ],
   "source": [
    "dsn_dt2[, .(.id, assay_sample_name, group)]"
   ]
  },
  {
   "cell_type": "code",
   "execution_count": 313,
   "id": "35f2a7a7-d69a-46f6-917f-a1edb48a0419",
   "metadata": {},
   "outputs": [],
   "source": [
    "# take all together for logcpm\n",
    "tmp = dsn_dt2[.id == 'GSE119954', ]\n",
    "subtype = factor(tmp$group)\n",
    "subtype = relevel(subtype, ref = 'Control')\n",
    "\n",
    "dge = DGEList(counts = tecount_combat_df[!rownames(tecount_df) %in% coding_genes, tmp$assay_sample_name], group = subtype)\n",
    "dge <- calcNormFactors(dge)\n",
    "\n",
    "keep = filterByExpr(dge)\n",
    "dge = dge[keep, , keep.lib.sizes=FALSE]\n",
    "dge = normLibSizes(dge)\n",
    "design = model.matrix( ~  subtype)\n",
    "dge = estimateDisp(dge, design)\n",
    "et <- exactTest(dge)\n",
    "deg = topTags(et, n = length(keep))\n",
    "deg_te_dt_b1 = as.data.table(deg$table, keep.rownames = T)\n",
    "\n",
    "logcpm_te_df_b1 = log1p(cpm(dge, normalize = T))\n"
   ]
  },
  {
   "cell_type": "code",
   "execution_count": 314,
   "id": "eb045c90-b938-49e5-8398-918b699a5251",
   "metadata": {},
   "outputs": [
    {
     "data": {
      "image/png": "[encoded data removed]",
      "text/plain": [
       "plot without title"
      ]
     },
     "metadata": {
      "image/png": {
       "height": 450,
       "width": 500
      }
     },
     "output_type": "display_data"
    }
   ],
   "source": [
    "# significant TEs\n",
    "options(repr.plot.width = 10, repr.plot.height = 9, repr.plot.res = 100)\n",
    "\n",
    "row_sel = deg_te_dt_b1[abs(logFC) > 1 & FDR < 0.1, ]\n",
    "row_sel = deg_te_dt_b1[FDR < 0.1, ]\n",
    "row_sel = as.data.table(row_sel)\n",
    "row_sel[rn %in% cmp$rn, cmp := 'CMP']\n",
    "\n",
    "plotdat = logcpm_te_df_b1[row_sel$rn, tmp$assay_sample_name]\n",
    "\n",
    "plotdat = scale_fun(plotdat) \n",
    "plotdat[plotdat > 2] = 2\n",
    "plotdat[plotdat < -2] = -2\n",
    "\n",
    "column_ha = HeatmapAnnotation(df = tmp[, 'group', drop = F])\n",
    "#column_ra = rowAnnotation(df = row_sel[, cmp, drop = F]) \n",
    "Heatmap(plotdat, name = \"mat\", show_column_names = F, show_row_names = F, show_column_dend = F, cluster_columns  = F, \n",
    "        cluster_rows = T,  row_split = row_sel$.id, \n",
    "        show_row_dend = F, top_annotation = column_ha,# left_annotation = column_ra, \n",
    "        column_split = factor(tmp$group, levels = c('Control', 'DBA')))  "
   ]
  },
  {
   "cell_type": "code",
   "execution_count": 322,
   "id": "5eec8032-4b9c-40e4-a3cb-0b577921b491",
   "metadata": {},
   "outputs": [
    {
     "data": {
      "text/html": [
       "'/research_jude/rgs01_jude/groups/jxugrp/home/common/Data_Public/RNA_seq/DBA'"
      ],
      "text/latex": [
       "'/research\\_jude/rgs01\\_jude/groups/jxugrp/home/common/Data\\_Public/RNA\\_seq/DBA'"
      ],
      "text/markdown": [
       "'/research_jude/rgs01_jude/groups/jxugrp/home/common/Data_Public/RNA_seq/DBA'"
      ],
      "text/plain": [
       "[1] \"/research_jude/rgs01_jude/groups/jxugrp/home/common/Data_Public/RNA_seq/DBA\""
      ]
     },
     "metadata": {},
     "output_type": "display_data"
    }
   ],
   "source": [
    "getwd()"
   ]
  },
  {
   "cell_type": "code",
   "execution_count": 323,
   "id": "2cd502c5-ae56-4a95-829f-78702835fdf3",
   "metadata": {},
   "outputs": [
    {
     "data": {
      "image/png": "[encoded data removed]",
      "text/plain": [
       "plot without title"
      ]
     },
     "metadata": {
      "image/png": {
       "height": 300,
       "width": 1000
      }
     },
     "output_type": "display_data"
    }
   ],
   "source": [
    "# significant TEs\n",
    "options(repr.plot.width = 10, repr.plot.height = 3, repr.plot.res = 200)\n",
    "# from nb_TE_blueprint_HSPC_2024May29.ipynb\n",
    "# MEP/EB/MK related TEs\n",
    "cmp = fread('/research_jude/rgs01_jude/groups/jxugrp/home/common/Lab_Members/WenhuoHu/collab_Farhan/row_sel.tsv')\n",
    "row_sel = deg_te_dt_b1[abs(logFC) > .6 & FDR < 0.1, ]\n",
    "#row_sel = deg_te_dt_b1[FDR < 0.1, ]\n",
    "row_sel = as.data.table(row_sel)\n",
    "row_sel = row_sel[rn %in% cmp$rn,]\n",
    "write.table(row_sel, file = 'dba_row_sel.tsv')\n",
    "\n",
    "plotdat = logcpm_te_df_b1[row_sel$rn, tmp$assay_sample_name]\n",
    "\n",
    "plotdat = scale_fun(plotdat) \n",
    "plotdat[plotdat > 2] = 2\n",
    "plotdat[plotdat < -2] = -2\n",
    "\n",
    "column_ha = HeatmapAnnotation(df = tmp[, 'group', drop = F])\n",
    "#column_ra = rowAnnotation(df = row_sel[, cmp, drop = F]) \n",
    "Heatmap(plotdat, name = \"mat\", show_column_names = F, show_row_names = T, show_column_dend = F, cluster_columns  = F, \n",
    "        cluster_rows = T,  row_split = row_sel$.id, \n",
    "        show_row_dend = F, top_annotation = column_ha,# left_annotation = column_ra, \n",
    "        column_split = factor(tmp$group, levels = c('Control', 'DBA')))  "
   ]
  },
  {
   "cell_type": "code",
   "execution_count": 319,
   "id": "b042db73-d66d-4765-9846-334433e31d87",
   "metadata": {},
   "outputs": [
    {
     "data": {
      "text/html": [
       "<table class=\"dataframe\">\n",
       "<caption>A data.table: 1 × 5</caption>\n",
       "<thead>\n",
       "\t<tr><th scope=col>rn</th><th scope=col>logFC</th><th scope=col>logCPM</th><th scope=col>PValue</th><th scope=col>FDR</th></tr>\n",
       "\t<tr><th scope=col>&lt;chr&gt;</th><th scope=col>&lt;dbl&gt;</th><th scope=col>&lt;dbl&gt;</th><th scope=col>&lt;dbl&gt;</th><th scope=col>&lt;dbl&gt;</th></tr>\n",
       "</thead>\n",
       "<tbody>\n",
       "\t<tr><td>MER92C:ERV1:LTR</td><td>1.140959</td><td>4.174714</td><td>0.009767492</td><td>0.03413911</td></tr>\n",
       "</tbody>\n",
       "</table>\n"
      ],
      "text/latex": [
       "A data.table: 1 × 5\n",
       "\\begin{tabular}{lllll}\n",
       " rn & logFC & logCPM & PValue & FDR\\\\\n",
       " <chr> & <dbl> & <dbl> & <dbl> & <dbl>\\\\\n",
       "\\hline\n",
       "\t MER92C:ERV1:LTR & 1.140959 & 4.174714 & 0.009767492 & 0.03413911\\\\\n",
       "\\end{tabular}\n"
      ],
      "text/markdown": [
       "\n",
       "A data.table: 1 × 5\n",
       "\n",
       "| rn &lt;chr&gt; | logFC &lt;dbl&gt; | logCPM &lt;dbl&gt; | PValue &lt;dbl&gt; | FDR &lt;dbl&gt; |\n",
       "|---|---|---|---|---|\n",
       "| MER92C:ERV1:LTR | 1.140959 | 4.174714 | 0.009767492 | 0.03413911 |\n",
       "\n"
      ],
      "text/plain": [
       "  rn              logFC    logCPM   PValue      FDR       \n",
       "1 MER92C:ERV1:LTR 1.140959 4.174714 0.009767492 0.03413911"
      ]
     },
     "metadata": {},
     "output_type": "display_data"
    }
   ],
   "source": [
    "row_sel"
   ]
  },
  {
   "cell_type": "code",
   "execution_count": 317,
   "id": "29d5b3a3-e6bd-4c00-924e-06d78d01a471",
   "metadata": {},
   "outputs": [
    {
     "data": {
      "text/html": [
       "<style>\n",
       ".dl-inline {width: auto; margin:0; padding: 0}\n",
       ".dl-inline>dt, .dl-inline>dd {float: none; width: auto; display: inline-block}\n",
       ".dl-inline>dt::after {content: \":\\0020\"; padding-right: .5ex}\n",
       ".dl-inline>dt:not(:first-of-type) {padding-left: .5ex}\n",
       "</style><dl class=dl-inline><dt>control1</dt><dd>2.18870601497484</dd><dt>control2</dt><dd>3.09224760366574</dd><dt>control3</dt><dd>2.26243283224198</dd><dt>control4</dt><dd>2.13864142396251</dd><dt>control5</dt><dd>1.97473391562148</dd><dt>dba1</dt><dd>2.42963039743687</dd><dt>dba2</dt><dd>2.66420918222278</dd><dt>dba3</dt><dd>3.1136050879148</dd><dt>dba4</dt><dd>2.39746920596353</dd><dt>dba5</dt><dd>2.34757567114345</dd><dt>dba6</dt><dd>3.49079106882212</dd><dt>dba7</dt><dd>3.60786398051422</dd><dt>dba8</dt><dd>3.31606419543903</dd><dt>dba9</dt><dd>3.53512023863796</dd></dl>\n"
      ],
      "text/latex": [
       "\\begin{description*}\n",
       "\\item[control1] 2.18870601497484\n",
       "\\item[control2] 3.09224760366574\n",
       "\\item[control3] 2.26243283224198\n",
       "\\item[control4] 2.13864142396251\n",
       "\\item[control5] 1.97473391562148\n",
       "\\item[dba1] 2.42963039743687\n",
       "\\item[dba2] 2.66420918222278\n",
       "\\item[dba3] 3.1136050879148\n",
       "\\item[dba4] 2.39746920596353\n",
       "\\item[dba5] 2.34757567114345\n",
       "\\item[dba6] 3.49079106882212\n",
       "\\item[dba7] 3.60786398051422\n",
       "\\item[dba8] 3.31606419543903\n",
       "\\item[dba9] 3.53512023863796\n",
       "\\end{description*}\n"
      ],
      "text/markdown": [
       "control1\n",
       ":   2.18870601497484control2\n",
       ":   3.09224760366574control3\n",
       ":   2.26243283224198control4\n",
       ":   2.13864142396251control5\n",
       ":   1.97473391562148dba1\n",
       ":   2.42963039743687dba2\n",
       ":   2.66420918222278dba3\n",
       ":   3.1136050879148dba4\n",
       ":   2.39746920596353dba5\n",
       ":   2.34757567114345dba6\n",
       ":   3.49079106882212dba7\n",
       ":   3.60786398051422dba8\n",
       ":   3.31606419543903dba9\n",
       ":   3.53512023863796\n",
       "\n"
      ],
      "text/plain": [
       "control1 control2 control3 control4 control5     dba1     dba2     dba3 \n",
       "2.188706 3.092248 2.262433 2.138641 1.974734 2.429630 2.664209 3.113605 \n",
       "    dba4     dba5     dba6     dba7     dba8     dba9 \n",
       "2.397469 2.347576 3.490791 3.607864 3.316064 3.535120 "
      ]
     },
     "metadata": {},
     "output_type": "display_data"
    }
   ],
   "source": [
    "plotdat"
   ]
  },
  {
   "cell_type": "code",
   "execution_count": 324,
   "id": "e3e004f4-7226-4c3c-bd33-6be76b0bc2f4",
   "metadata": {},
   "outputs": [],
   "source": [
    "# take all together for logcpm\n",
    "tmp = dsn_dt2[.id == 'GSE181830', ]\n",
    "subtype = factor(tmp$group)\n",
    "subtype = relevel(subtype, ref = 'Control')\n",
    "\n",
    "dge = DGEList(counts = tecount_combat_df[!rownames(tecount_df) %in% coding_genes, tmp$assay_sample_name], group = subtype)\n",
    "dge <- calcNormFactors(dge)\n",
    "\n",
    "keep = filterByExpr(dge)\n",
    "dge = dge[keep, , keep.lib.sizes=FALSE]\n",
    "dge = normLibSizes(dge)\n",
    "design = model.matrix( ~  subtype)\n",
    "dge = estimateDisp(dge, design)\n",
    "et <- exactTest(dge)\n",
    "deg = topTags(et, n = length(keep))\n",
    "deg_te_dt_b2 = as.data.table(deg$table, keep.rownames = T)\n",
    "\n",
    "logcpm_te_df_b2 = log1p(cpm(dge, normalize = T))\n"
   ]
  },
  {
   "cell_type": "code",
   "execution_count": 325,
   "id": "e09df960-7641-4800-8229-d4d2f7325763",
   "metadata": {},
   "outputs": [
    {
     "data": {
      "image/png": "[encoded data removed]",
      "text/plain": [
       "plot without title"
      ]
     },
     "metadata": {
      "image/png": {
       "height": 700,
       "width": 1000
      }
     },
     "output_type": "display_data"
    }
   ],
   "source": [
    "# significant TEs\n",
    "options(repr.plot.width = 10, repr.plot.height = 7, repr.plot.res = 200)\n",
    "cmp = fread('/research_jude/rgs01_jude/groups/jxugrp/home/common/Lab_Members/WenhuoHu/collab_Farhan/row_sel.tsv')\n",
    "row_sel = deg_te_dt_b2[abs(logFC) > 1 & FDR < 0.1, ]\n",
    "row_sel = as.data.table(row_sel)\n",
    "row_sel[rn %in% cmp$rn, cmp := 'CMP']\n",
    "\n",
    "plotdat = logcpm_te_df_b2[row_sel$rn, tmp$assay_sample_name]\n",
    "\n",
    "plotdat = scale_fun(plotdat) \n",
    "plotdat[plotdat > 2] = 2\n",
    "plotdat[plotdat < -2] = -2\n",
    "\n",
    "column_ha = HeatmapAnnotation(df = tmp[, 'group', drop = F])\n",
    "column_ra = rowAnnotation(df = row_sel[, cmp, drop = F]) \n",
    "Heatmap(plotdat, name = \"mat\", show_column_names = F, show_row_names = T, show_column_dend = F, cluster_columns  = F, \n",
    "        cluster_rows = T,  row_split = row_sel$.id, \n",
    "        show_row_dend = F, top_annotation = column_ha, left_annotation = column_ra, \n",
    "        column_split = factor(tmp$group, levels = c('Control', 'DBA')))  \n"
   ]
  },
  {
   "cell_type": "code",
   "execution_count": 327,
   "id": "9199ec83-9fea-4d43-82db-df0118277777",
   "metadata": {},
   "outputs": [
    {
     "data": {
      "text/html": [],
      "text/latex": [],
      "text/markdown": [],
      "text/plain": [
       "character(0)"
      ]
     },
     "metadata": {},
     "output_type": "display_data"
    }
   ],
   "source": [
    "intersect(rownames(plotdat), cmp$rn)"
   ]
  },
  {
   "cell_type": "code",
   "execution_count": null,
   "id": "83c4c91f-ed9c-4e4f-9f0f-787f1b9df1cc",
   "metadata": {},
   "outputs": [],
   "source": [
    "# significant TEs\n",
    "options(repr.plot.width = 10, repr.plot.height = 6, repr.plot.res = 200)\n",
    "\n",
    "row_sel = deg_te_dt_b2[abs(logFC) > 1 & FDR < 0.1, ]\n",
    "row_sel = deg_te_dt_b2[FDR < 0.1, ]\n",
    "row_sel = as.data.table(row_sel)\n",
    "row_sel = row_sel[rn %in% cmp$rn,]\n",
    "\n",
    "plotdat = logcpm_te_df_b2[row_sel$rn, tmp$assay_sample_name]\n",
    "\n",
    "plotdat = scale_fun(plotdat) \n",
    "plotdat[plotdat > 2] = 2\n",
    "plotdat[plotdat < -2] = -2\n",
    "\n",
    "column_ha = HeatmapAnnotation(df = tmp[, 'group', drop = F])\n",
    "#column_ra = rowAnnotation(df = row_sel[, cmp, drop = F]) \n",
    "Heatmap(plotdat, name = \"mat\", show_column_names = F, show_row_names = T, show_column_dend = F, cluster_columns  = F, \n",
    "        cluster_rows = T,  row_split = row_sel$.id, \n",
    "        show_row_dend = F, top_annotation = column_ha,# left_annotation = column_ra, \n",
    "        column_split = factor(tmp$group, levels = c('Control', 'DBA')))  "
   ]
  },
  {
   "cell_type": "code",
   "execution_count": 268,
   "id": "01ee4bf2-b3ee-4d6d-ba8d-0d081046d00d",
   "metadata": {},
   "outputs": [
    {
     "data": {
      "text/html": [
       "<style>\n",
       ".list-inline {list-style: none; margin:0; padding: 0}\n",
       ".list-inline>li {display: inline-block}\n",
       ".list-inline>li:not(:last-child)::after {content: \"\\00b7\"; padding: 0 .5ex}\n",
       "</style>\n",
       "<ol class=list-inline><li>'HERVK11-int:ERVK:LTR'</li><li>'HERVH48-int:ERV1:LTR'</li><li>'Chap1a_Mam:hAT-Charlie:DNA'</li><li>'L1PA12:L1:LINE'</li><li>'LTR16B1:ERVL:LTR'</li><li>'LTR30:ERV1:LTR'</li><li>'Eulor2B:DNA:DNA'</li><li>'HERVK22-int:ERVK:LTR'</li></ol>\n"
      ],
      "text/latex": [
       "\\begin{enumerate*}\n",
       "\\item 'HERVK11-int:ERVK:LTR'\n",
       "\\item 'HERVH48-int:ERV1:LTR'\n",
       "\\item 'Chap1a\\_Mam:hAT-Charlie:DNA'\n",
       "\\item 'L1PA12:L1:LINE'\n",
       "\\item 'LTR16B1:ERVL:LTR'\n",
       "\\item 'LTR30:ERV1:LTR'\n",
       "\\item 'Eulor2B:DNA:DNA'\n",
       "\\item 'HERVK22-int:ERVK:LTR'\n",
       "\\end{enumerate*}\n"
      ],
      "text/markdown": [
       "1. 'HERVK11-int:ERVK:LTR'\n",
       "2. 'HERVH48-int:ERV1:LTR'\n",
       "3. 'Chap1a_Mam:hAT-Charlie:DNA'\n",
       "4. 'L1PA12:L1:LINE'\n",
       "5. 'LTR16B1:ERVL:LTR'\n",
       "6. 'LTR30:ERV1:LTR'\n",
       "7. 'Eulor2B:DNA:DNA'\n",
       "8. 'HERVK22-int:ERVK:LTR'\n",
       "\n",
       "\n"
      ],
      "text/plain": [
       "[1] \"HERVK11-int:ERVK:LTR\"       \"HERVH48-int:ERV1:LTR\"      \n",
       "[3] \"Chap1a_Mam:hAT-Charlie:DNA\" \"L1PA12:L1:LINE\"            \n",
       "[5] \"LTR16B1:ERVL:LTR\"           \"LTR30:ERV1:LTR\"            \n",
       "[7] \"Eulor2B:DNA:DNA\"            \"HERVK22-int:ERVK:LTR\"      "
      ]
     },
     "metadata": {},
     "output_type": "display_data"
    }
   ],
   "source": [
    "intersect(deg_te_dt_b1[FDR < 0.1, rn], deg_te_dt_b2[FDR < 0.1, rn])"
   ]
  },
  {
   "cell_type": "code",
   "execution_count": 272,
   "id": "0ea44fde-e973-4e1a-94ff-f0fda515682c",
   "metadata": {},
   "outputs": [],
   "source": []
  },
  {
   "cell_type": "code",
   "execution_count": 276,
   "id": "bae77a85-a5d4-4832-ad66-0ff8c0a13ee7",
   "metadata": {},
   "outputs": [
    {
     "data": {
      "text/html": [
       "<style>\n",
       ".list-inline {list-style: none; margin:0; padding: 0}\n",
       ".list-inline>li {display: inline-block}\n",
       ".list-inline>li:not(:last-child)::after {content: \"\\00b7\"; padding: 0 .5ex}\n",
       "</style>\n",
       "<ol class=list-inline><li>'LTR48B:ERV1:LTR'</li><li>'HSATII:Satellite:Satellite'</li><li>'teucerv2_3edge:Unknown:Unknown'</li><li>'MST-int:ERVL-MaLR:LTR'</li><li>'COMP-subunit_DNM1_rnd-6_family-2176:Unknown:Unknown'</li><li>'SATR2:Satellite:Satellite'</li><li>'AluYh7:Alu:SINE'</li><li>'LTR47B:ERVL:LTR'</li><li>'HERV-Fc2-int:ERV1:LTR'</li><li>'LTR1F1:ERV1:LTR'</li><li>'L1MDb:L1:LINE'</li><li>'LTR5A:ERVK:LTR'</li><li>'ALR/Alpha:centr:Satellite'</li><li>'LTR27B:ERV1:LTR'</li></ol>\n"
      ],
      "text/latex": [
       "\\begin{enumerate*}\n",
       "\\item 'LTR48B:ERV1:LTR'\n",
       "\\item 'HSATII:Satellite:Satellite'\n",
       "\\item 'teucerv2\\_3edge:Unknown:Unknown'\n",
       "\\item 'MST-int:ERVL-MaLR:LTR'\n",
       "\\item 'COMP-subunit\\_DNM1\\_rnd-6\\_family-2176:Unknown:Unknown'\n",
       "\\item 'SATR2:Satellite:Satellite'\n",
       "\\item 'AluYh7:Alu:SINE'\n",
       "\\item 'LTR47B:ERVL:LTR'\n",
       "\\item 'HERV-Fc2-int:ERV1:LTR'\n",
       "\\item 'LTR1F1:ERV1:LTR'\n",
       "\\item 'L1MDb:L1:LINE'\n",
       "\\item 'LTR5A:ERVK:LTR'\n",
       "\\item 'ALR/Alpha:centr:Satellite'\n",
       "\\item 'LTR27B:ERV1:LTR'\n",
       "\\end{enumerate*}\n"
      ],
      "text/markdown": [
       "1. 'LTR48B:ERV1:LTR'\n",
       "2. 'HSATII:Satellite:Satellite'\n",
       "3. 'teucerv2_3edge:Unknown:Unknown'\n",
       "4. 'MST-int:ERVL-MaLR:LTR'\n",
       "5. 'COMP-subunit_DNM1_rnd-6_family-2176:Unknown:Unknown'\n",
       "6. 'SATR2:Satellite:Satellite'\n",
       "7. 'AluYh7:Alu:SINE'\n",
       "8. 'LTR47B:ERVL:LTR'\n",
       "9. 'HERV-Fc2-int:ERV1:LTR'\n",
       "10. 'LTR1F1:ERV1:LTR'\n",
       "11. 'L1MDb:L1:LINE'\n",
       "12. 'LTR5A:ERVK:LTR'\n",
       "13. 'ALR/Alpha:centr:Satellite'\n",
       "14. 'LTR27B:ERV1:LTR'\n",
       "\n",
       "\n"
      ],
      "text/plain": [
       " [1] \"LTR48B:ERV1:LTR\"                                    \n",
       " [2] \"HSATII:Satellite:Satellite\"                         \n",
       " [3] \"teucerv2_3edge:Unknown:Unknown\"                     \n",
       " [4] \"MST-int:ERVL-MaLR:LTR\"                              \n",
       " [5] \"COMP-subunit_DNM1_rnd-6_family-2176:Unknown:Unknown\"\n",
       " [6] \"SATR2:Satellite:Satellite\"                          \n",
       " [7] \"AluYh7:Alu:SINE\"                                    \n",
       " [8] \"LTR47B:ERVL:LTR\"                                    \n",
       " [9] \"HERV-Fc2-int:ERV1:LTR\"                              \n",
       "[10] \"LTR1F1:ERV1:LTR\"                                    \n",
       "[11] \"L1MDb:L1:LINE\"                                      \n",
       "[12] \"LTR5A:ERVK:LTR\"                                     \n",
       "[13] \"ALR/Alpha:centr:Satellite\"                          \n",
       "[14] \"LTR27B:ERV1:LTR\"                                    "
      ]
     },
     "metadata": {},
     "output_type": "display_data"
    }
   ],
   "source": [
    "intersect(cmp$rn,deg_te_dt_b1[FDR < 0.1, rn] )"
   ]
  },
  {
   "cell_type": "code",
   "execution_count": 275,
   "id": "a43ffca9-80d6-4879-80ea-016a7165c7ea",
   "metadata": {},
   "outputs": [
    {
     "data": {
      "text/html": [
       "<table class=\"dataframe\">\n",
       "<caption>A data.table: 6 × 12</caption>\n",
       "<thead>\n",
       "\t<tr><th scope=col>.id</th><th scope=col>rn</th><th scope=col>logFC</th><th scope=col>logCPM</th><th scope=col>PValue</th><th scope=col>FDR</th><th scope=col>sel</th><th scope=col>idd</th><th scope=col>class_id</th><th scope=col>family_id</th><th scope=col>gene_id</th><th scope=col>ctype_gene</th></tr>\n",
       "\t<tr><th scope=col>&lt;chr&gt;</th><th scope=col>&lt;chr&gt;</th><th scope=col>&lt;dbl&gt;</th><th scope=col>&lt;dbl&gt;</th><th scope=col>&lt;dbl&gt;</th><th scope=col>&lt;dbl&gt;</th><th scope=col>&lt;lgl&gt;</th><th scope=col>&lt;int&gt;</th><th scope=col>&lt;chr&gt;</th><th scope=col>&lt;chr&gt;</th><th scope=col>&lt;chr&gt;</th><th scope=col>&lt;chr&gt;</th></tr>\n",
       "</thead>\n",
       "<tbody>\n",
       "\t<tr><td>CMP</td><td>UCON28b:Unknown:Unknown</td><td> -8.693031</td><td>3.617941</td><td>7.378326e-11</td><td>9.370473e-08</td><td>TRUE</td><td>2541</td><td>Unknown</td><td>Unknown </td><td>UCON28b</td><td>CMP_UCON28b:Unknown:Unknown</td></tr>\n",
       "\t<tr><td>CMP</td><td>MER92D:ERV1:LTR        </td><td>-11.740287</td><td>3.939048</td><td>5.641387e-07</td><td>2.468944e-04</td><td>TRUE</td><td>2542</td><td>LTR    </td><td>ERV1    </td><td>MER92D </td><td>CMP_MER92D:ERV1:LTR        </td></tr>\n",
       "\t<tr><td>CMP</td><td>LTR5_Hs:ERVK:LTR       </td><td>  1.867660</td><td>8.060199</td><td>5.832152e-07</td><td>2.468944e-04</td><td>TRUE</td><td>2543</td><td>LTR    </td><td>ERVK    </td><td>LTR5_Hs</td><td>CMP_LTR5_Hs:ERVK:LTR       </td></tr>\n",
       "\t<tr><td>CMP</td><td>UCON16:Unknown:Unknown </td><td>-10.441643</td><td>2.653171</td><td>2.750534e-06</td><td>8.732945e-04</td><td>TRUE</td><td>2544</td><td>Unknown</td><td>Unknown </td><td>UCON16 </td><td>CMP_UCON16:Unknown:Unknown </td></tr>\n",
       "\t<tr><td>CMP</td><td>LTR35B:ERV1:LTR        </td><td> -7.939199</td><td>4.435510</td><td>5.050542e-06</td><td>1.153550e-03</td><td>TRUE</td><td>2545</td><td>LTR    </td><td>ERV1    </td><td>LTR35B </td><td>CMP_LTR35B:ERV1:LTR        </td></tr>\n",
       "\t<tr><td>CMP</td><td>MamRTE2:RTE-BovB:LINE  </td><td>-10.010720</td><td>2.229255</td><td>5.717167e-06</td><td>1.153550e-03</td><td>TRUE</td><td>2546</td><td>LINE   </td><td>RTE-BovB</td><td>MamRTE2</td><td>CMP_MamRTE2:RTE-BovB:LINE  </td></tr>\n",
       "</tbody>\n",
       "</table>\n"
      ],
      "text/latex": [
       "A data.table: 6 × 12\n",
       "\\begin{tabular}{llllllllllll}\n",
       " .id & rn & logFC & logCPM & PValue & FDR & sel & idd & class\\_id & family\\_id & gene\\_id & ctype\\_gene\\\\\n",
       " <chr> & <chr> & <dbl> & <dbl> & <dbl> & <dbl> & <lgl> & <int> & <chr> & <chr> & <chr> & <chr>\\\\\n",
       "\\hline\n",
       "\t CMP & UCON28b:Unknown:Unknown &  -8.693031 & 3.617941 & 7.378326e-11 & 9.370473e-08 & TRUE & 2541 & Unknown & Unknown  & UCON28b & CMP\\_UCON28b:Unknown:Unknown\\\\\n",
       "\t CMP & MER92D:ERV1:LTR         & -11.740287 & 3.939048 & 5.641387e-07 & 2.468944e-04 & TRUE & 2542 & LTR     & ERV1     & MER92D  & CMP\\_MER92D:ERV1:LTR        \\\\\n",
       "\t CMP & LTR5\\_Hs:ERVK:LTR        &   1.867660 & 8.060199 & 5.832152e-07 & 2.468944e-04 & TRUE & 2543 & LTR     & ERVK     & LTR5\\_Hs & CMP\\_LTR5\\_Hs:ERVK:LTR       \\\\\n",
       "\t CMP & UCON16:Unknown:Unknown  & -10.441643 & 2.653171 & 2.750534e-06 & 8.732945e-04 & TRUE & 2544 & Unknown & Unknown  & UCON16  & CMP\\_UCON16:Unknown:Unknown \\\\\n",
       "\t CMP & LTR35B:ERV1:LTR         &  -7.939199 & 4.435510 & 5.050542e-06 & 1.153550e-03 & TRUE & 2545 & LTR     & ERV1     & LTR35B  & CMP\\_LTR35B:ERV1:LTR        \\\\\n",
       "\t CMP & MamRTE2:RTE-BovB:LINE   & -10.010720 & 2.229255 & 5.717167e-06 & 1.153550e-03 & TRUE & 2546 & LINE    & RTE-BovB & MamRTE2 & CMP\\_MamRTE2:RTE-BovB:LINE  \\\\\n",
       "\\end{tabular}\n"
      ],
      "text/markdown": [
       "\n",
       "A data.table: 6 × 12\n",
       "\n",
       "| .id &lt;chr&gt; | rn &lt;chr&gt; | logFC &lt;dbl&gt; | logCPM &lt;dbl&gt; | PValue &lt;dbl&gt; | FDR &lt;dbl&gt; | sel &lt;lgl&gt; | idd &lt;int&gt; | class_id &lt;chr&gt; | family_id &lt;chr&gt; | gene_id &lt;chr&gt; | ctype_gene &lt;chr&gt; |\n",
       "|---|---|---|---|---|---|---|---|---|---|---|---|\n",
       "| CMP | UCON28b:Unknown:Unknown |  -8.693031 | 3.617941 | 7.378326e-11 | 9.370473e-08 | TRUE | 2541 | Unknown | Unknown  | UCON28b | CMP_UCON28b:Unknown:Unknown |\n",
       "| CMP | MER92D:ERV1:LTR         | -11.740287 | 3.939048 | 5.641387e-07 | 2.468944e-04 | TRUE | 2542 | LTR     | ERV1     | MER92D  | CMP_MER92D:ERV1:LTR         |\n",
       "| CMP | LTR5_Hs:ERVK:LTR        |   1.867660 | 8.060199 | 5.832152e-07 | 2.468944e-04 | TRUE | 2543 | LTR     | ERVK     | LTR5_Hs | CMP_LTR5_Hs:ERVK:LTR        |\n",
       "| CMP | UCON16:Unknown:Unknown  | -10.441643 | 2.653171 | 2.750534e-06 | 8.732945e-04 | TRUE | 2544 | Unknown | Unknown  | UCON16  | CMP_UCON16:Unknown:Unknown  |\n",
       "| CMP | LTR35B:ERV1:LTR         |  -7.939199 | 4.435510 | 5.050542e-06 | 1.153550e-03 | TRUE | 2545 | LTR     | ERV1     | LTR35B  | CMP_LTR35B:ERV1:LTR         |\n",
       "| CMP | MamRTE2:RTE-BovB:LINE   | -10.010720 | 2.229255 | 5.717167e-06 | 1.153550e-03 | TRUE | 2546 | LINE    | RTE-BovB | MamRTE2 | CMP_MamRTE2:RTE-BovB:LINE   |\n",
       "\n"
      ],
      "text/plain": [
       "  .id rn                      logFC      logCPM   PValue       FDR         \n",
       "1 CMP UCON28b:Unknown:Unknown  -8.693031 3.617941 7.378326e-11 9.370473e-08\n",
       "2 CMP MER92D:ERV1:LTR         -11.740287 3.939048 5.641387e-07 2.468944e-04\n",
       "3 CMP LTR5_Hs:ERVK:LTR          1.867660 8.060199 5.832152e-07 2.468944e-04\n",
       "4 CMP UCON16:Unknown:Unknown  -10.441643 2.653171 2.750534e-06 8.732945e-04\n",
       "5 CMP LTR35B:ERV1:LTR          -7.939199 4.435510 5.050542e-06 1.153550e-03\n",
       "6 CMP MamRTE2:RTE-BovB:LINE   -10.010720 2.229255 5.717167e-06 1.153550e-03\n",
       "  sel  idd  class_id family_id gene_id ctype_gene                 \n",
       "1 TRUE 2541 Unknown  Unknown   UCON28b CMP_UCON28b:Unknown:Unknown\n",
       "2 TRUE 2542 LTR      ERV1      MER92D  CMP_MER92D:ERV1:LTR        \n",
       "3 TRUE 2543 LTR      ERVK      LTR5_Hs CMP_LTR5_Hs:ERVK:LTR       \n",
       "4 TRUE 2544 Unknown  Unknown   UCON16  CMP_UCON16:Unknown:Unknown \n",
       "5 TRUE 2545 LTR      ERV1      LTR35B  CMP_LTR35B:ERV1:LTR        \n",
       "6 TRUE 2546 LINE     RTE-BovB  MamRTE2 CMP_MamRTE2:RTE-BovB:LINE  "
      ]
     },
     "metadata": {},
     "output_type": "display_data"
    }
   ],
   "source": [
    "head(cmp)"
   ]
  },
  {
   "cell_type": "code",
   "execution_count": 248,
   "id": "e88ded94-12be-47a6-a6f5-0417ee0fc702",
   "metadata": {},
   "outputs": [
    {
     "data": {
      "text/html": [
       "<table class=\"dataframe\">\n",
       "<caption>A data.table: 6 × 5</caption>\n",
       "<thead>\n",
       "\t<tr><th scope=col>rn</th><th scope=col>logFC</th><th scope=col>logCPM</th><th scope=col>PValue</th><th scope=col>FDR</th></tr>\n",
       "\t<tr><th scope=col>&lt;chr&gt;</th><th scope=col>&lt;dbl&gt;</th><th scope=col>&lt;dbl&gt;</th><th scope=col>&lt;dbl&gt;</th><th scope=col>&lt;dbl&gt;</th></tr>\n",
       "</thead>\n",
       "<tbody>\n",
       "\t<tr><td>HERVH48-int:ERV1:LTR      </td><td>-1.526730</td><td>7.950192</td><td>2.473456e-07</td><td>0.0001608412</td></tr>\n",
       "\t<tr><td>LTR82B:ERVL:LTR           </td><td>-1.653592</td><td>7.001396</td><td>2.765970e-07</td><td>0.0001608412</td></tr>\n",
       "\t<tr><td>HERV1_I:ERV1:LTR          </td><td>-1.935806</td><td>5.549283</td><td>1.588750e-06</td><td>0.0006159055</td></tr>\n",
       "\t<tr><td>LTR21A:ERV1:LTR           </td><td>-1.680727</td><td>5.221885</td><td>2.836283e-05</td><td>0.0074352723</td></tr>\n",
       "\t<tr><td>Chap1a_Mam:hAT-Charlie:DNA</td><td>-1.313923</td><td>8.682387</td><td>3.219181e-05</td><td>0.0074352723</td></tr>\n",
       "\t<tr><td>HERVK22-int:ERVK:LTR      </td><td>-1.030459</td><td>8.565243</td><td>3.835910e-05</td><td>0.0074352723</td></tr>\n",
       "</tbody>\n",
       "</table>\n"
      ],
      "text/latex": [
       "A data.table: 6 × 5\n",
       "\\begin{tabular}{lllll}\n",
       " rn & logFC & logCPM & PValue & FDR\\\\\n",
       " <chr> & <dbl> & <dbl> & <dbl> & <dbl>\\\\\n",
       "\\hline\n",
       "\t HERVH48-int:ERV1:LTR       & -1.526730 & 7.950192 & 2.473456e-07 & 0.0001608412\\\\\n",
       "\t LTR82B:ERVL:LTR            & -1.653592 & 7.001396 & 2.765970e-07 & 0.0001608412\\\\\n",
       "\t HERV1\\_I:ERV1:LTR           & -1.935806 & 5.549283 & 1.588750e-06 & 0.0006159055\\\\\n",
       "\t LTR21A:ERV1:LTR            & -1.680727 & 5.221885 & 2.836283e-05 & 0.0074352723\\\\\n",
       "\t Chap1a\\_Mam:hAT-Charlie:DNA & -1.313923 & 8.682387 & 3.219181e-05 & 0.0074352723\\\\\n",
       "\t HERVK22-int:ERVK:LTR       & -1.030459 & 8.565243 & 3.835910e-05 & 0.0074352723\\\\\n",
       "\\end{tabular}\n"
      ],
      "text/markdown": [
       "\n",
       "A data.table: 6 × 5\n",
       "\n",
       "| rn &lt;chr&gt; | logFC &lt;dbl&gt; | logCPM &lt;dbl&gt; | PValue &lt;dbl&gt; | FDR &lt;dbl&gt; |\n",
       "|---|---|---|---|---|\n",
       "| HERVH48-int:ERV1:LTR       | -1.526730 | 7.950192 | 2.473456e-07 | 0.0001608412 |\n",
       "| LTR82B:ERVL:LTR            | -1.653592 | 7.001396 | 2.765970e-07 | 0.0001608412 |\n",
       "| HERV1_I:ERV1:LTR           | -1.935806 | 5.549283 | 1.588750e-06 | 0.0006159055 |\n",
       "| LTR21A:ERV1:LTR            | -1.680727 | 5.221885 | 2.836283e-05 | 0.0074352723 |\n",
       "| Chap1a_Mam:hAT-Charlie:DNA | -1.313923 | 8.682387 | 3.219181e-05 | 0.0074352723 |\n",
       "| HERVK22-int:ERVK:LTR       | -1.030459 | 8.565243 | 3.835910e-05 | 0.0074352723 |\n",
       "\n"
      ],
      "text/plain": [
       "  rn                         logFC     logCPM   PValue       FDR         \n",
       "1 HERVH48-int:ERV1:LTR       -1.526730 7.950192 2.473456e-07 0.0001608412\n",
       "2 LTR82B:ERVL:LTR            -1.653592 7.001396 2.765970e-07 0.0001608412\n",
       "3 HERV1_I:ERV1:LTR           -1.935806 5.549283 1.588750e-06 0.0006159055\n",
       "4 LTR21A:ERV1:LTR            -1.680727 5.221885 2.836283e-05 0.0074352723\n",
       "5 Chap1a_Mam:hAT-Charlie:DNA -1.313923 8.682387 3.219181e-05 0.0074352723\n",
       "6 HERVK22-int:ERVK:LTR       -1.030459 8.565243 3.835910e-05 0.0074352723"
      ]
     },
     "metadata": {},
     "output_type": "display_data"
    }
   ],
   "source": [
    "head(deg_te_dt)"
   ]
  },
  {
   "cell_type": "code",
   "execution_count": 246,
   "id": "628a3aa7-dd3d-4ad1-993b-d2edf4f966b9",
   "metadata": {},
   "outputs": [
    {
     "data": {
      "text/html": [
       "<table class=\"dataframe\">\n",
       "<caption>A matrix: 6 × 8 of type dbl</caption>\n",
       "<thead>\n",
       "\t<tr><th scope=col>control6</th><th scope=col>control7</th><th scope=col>control8</th><th scope=col>dba10</th><th scope=col>dba11</th><th scope=col>dba12</th><th scope=col>dba13</th><th scope=col>dba14</th></tr>\n",
       "</thead>\n",
       "<tbody>\n",
       "\t<tr><td>1.8758577</td><td>0.9812711</td><td> 0.16681685</td><td>-0.57018524</td><td>-0.6650740</td><td>-0.02309286</td><td>-1.1689865</td><td>-0.5966070</td></tr>\n",
       "\t<tr><td>1.7156039</td><td>0.5515313</td><td> 0.84539996</td><td>-0.09865201</td><td>-0.4473752</td><td>-0.46690520</td><td>-1.5002302</td><td>-0.5993726</td></tr>\n",
       "\t<tr><td>1.2561371</td><td>1.0440351</td><td> 0.84262956</td><td> 0.20452254</td><td>-0.3041227</td><td>-1.38080782</td><td>-1.1469174</td><td>-0.5154764</td></tr>\n",
       "\t<tr><td>1.7577468</td><td>0.9798394</td><td> 0.33158465</td><td> 0.22483443</td><td>-0.6483945</td><td>-0.90423235</td><td>-1.0039017</td><td>-0.7374767</td></tr>\n",
       "\t<tr><td>1.6948749</td><td>1.0254911</td><td>-0.04005878</td><td> 0.27201119</td><td>-0.4357765</td><td>-0.85240172</td><td>-1.4232557</td><td>-0.2408845</td></tr>\n",
       "\t<tr><td>0.4850325</td><td>1.4319396</td><td> 1.08201127</td><td> 0.54769913</td><td>-0.9251106</td><td>-1.09344431</td><td>-0.8748173</td><td>-0.6533103</td></tr>\n",
       "</tbody>\n",
       "</table>\n"
      ],
      "text/latex": [
       "A matrix: 6 × 8 of type dbl\n",
       "\\begin{tabular}{llllllll}\n",
       " control6 & control7 & control8 & dba10 & dba11 & dba12 & dba13 & dba14\\\\\n",
       "\\hline\n",
       "\t 1.8758577 & 0.9812711 &  0.16681685 & -0.57018524 & -0.6650740 & -0.02309286 & -1.1689865 & -0.5966070\\\\\n",
       "\t 1.7156039 & 0.5515313 &  0.84539996 & -0.09865201 & -0.4473752 & -0.46690520 & -1.5002302 & -0.5993726\\\\\n",
       "\t 1.2561371 & 1.0440351 &  0.84262956 &  0.20452254 & -0.3041227 & -1.38080782 & -1.1469174 & -0.5154764\\\\\n",
       "\t 1.7577468 & 0.9798394 &  0.33158465 &  0.22483443 & -0.6483945 & -0.90423235 & -1.0039017 & -0.7374767\\\\\n",
       "\t 1.6948749 & 1.0254911 & -0.04005878 &  0.27201119 & -0.4357765 & -0.85240172 & -1.4232557 & -0.2408845\\\\\n",
       "\t 0.4850325 & 1.4319396 &  1.08201127 &  0.54769913 & -0.9251106 & -1.09344431 & -0.8748173 & -0.6533103\\\\\n",
       "\\end{tabular}\n"
      ],
      "text/markdown": [
       "\n",
       "A matrix: 6 × 8 of type dbl\n",
       "\n",
       "| control6 | control7 | control8 | dba10 | dba11 | dba12 | dba13 | dba14 |\n",
       "|---|---|---|---|---|---|---|---|\n",
       "| 1.8758577 | 0.9812711 |  0.16681685 | -0.57018524 | -0.6650740 | -0.02309286 | -1.1689865 | -0.5966070 |\n",
       "| 1.7156039 | 0.5515313 |  0.84539996 | -0.09865201 | -0.4473752 | -0.46690520 | -1.5002302 | -0.5993726 |\n",
       "| 1.2561371 | 1.0440351 |  0.84262956 |  0.20452254 | -0.3041227 | -1.38080782 | -1.1469174 | -0.5154764 |\n",
       "| 1.7577468 | 0.9798394 |  0.33158465 |  0.22483443 | -0.6483945 | -0.90423235 | -1.0039017 | -0.7374767 |\n",
       "| 1.6948749 | 1.0254911 | -0.04005878 |  0.27201119 | -0.4357765 | -0.85240172 | -1.4232557 | -0.2408845 |\n",
       "| 0.4850325 | 1.4319396 |  1.08201127 |  0.54769913 | -0.9251106 | -1.09344431 | -0.8748173 | -0.6533103 |\n",
       "\n"
      ],
      "text/plain": [
       "     control6  control7  control8    dba10       dba11      dba12      \n",
       "[1,] 1.8758577 0.9812711  0.16681685 -0.57018524 -0.6650740 -0.02309286\n",
       "[2,] 1.7156039 0.5515313  0.84539996 -0.09865201 -0.4473752 -0.46690520\n",
       "[3,] 1.2561371 1.0440351  0.84262956  0.20452254 -0.3041227 -1.38080782\n",
       "[4,] 1.7577468 0.9798394  0.33158465  0.22483443 -0.6483945 -0.90423235\n",
       "[5,] 1.6948749 1.0254911 -0.04005878  0.27201119 -0.4357765 -0.85240172\n",
       "[6,] 0.4850325 1.4319396  1.08201127  0.54769913 -0.9251106 -1.09344431\n",
       "     dba13      dba14     \n",
       "[1,] -1.1689865 -0.5966070\n",
       "[2,] -1.5002302 -0.5993726\n",
       "[3,] -1.1469174 -0.5154764\n",
       "[4,] -1.0039017 -0.7374767\n",
       "[5,] -1.4232557 -0.2408845\n",
       "[6,] -0.8748173 -0.6533103"
      ]
     },
     "metadata": {},
     "output_type": "display_data"
    }
   ],
   "source": [
    "head(plotdat)"
   ]
  },
  {
   "cell_type": "code",
   "execution_count": 245,
   "id": "77890498-fd6e-44b7-ace3-83410c9ed986",
   "metadata": {},
   "outputs": [
    {
     "data": {
      "image/png": "[encoded data removed]",
      "text/plain": [
       "plot without title"
      ]
     },
     "metadata": {
      "image/png": {
       "height": 450,
       "width": 500
      }
     },
     "output_type": "display_data"
    }
   ],
   "source": [
    "Heatmap(plotdat, name = \"mat\", show_column_names = F, show_row_names = T, show_column_dend = F, cluster_columns  = F, \n",
    "        cluster_rows = T,  #row_split = row_sel$.id, \n",
    "        show_row_dend = F, top_annotation = column_ha, #left_annotation = column_ra, \n",
    "        column_split = factor(tmp$group, levels = c('Control', 'DBA'))) "
   ]
  },
  {
   "cell_type": "code",
   "execution_count": 232,
   "id": "3a653ba7-8279-4d73-8c7d-435d83733de1",
   "metadata": {},
   "outputs": [
    {
     "data": {
      "text/html": [
       "<table class=\"dataframe\">\n",
       "<caption>A data.table: 6 × 1124</caption>\n",
       "<thead>\n",
       "\t<tr><th scope=col>rn</th><th scope=col>(CATTC)n:Satellite:Satellite</th><th scope=col>(GAATG)n:Satellite:Satellite</th><th scope=col>ALR/Alpha:centr:Satellite</th><th scope=col>Alu:Alu:SINE</th><th scope=col>AluJb:Alu:SINE</th><th scope=col>AluJo:Alu:SINE</th><th scope=col>AluJr4:Alu:SINE</th><th scope=col>AluJr:Alu:SINE</th><th scope=col>AluSc5:Alu:SINE</th><th scope=col>⋯</th><th scope=col>Zaphod5b:hAT-Tip100:DNA</th><th scope=col>Zaphod:hAT-Tip100:DNA</th><th scope=col>hAT-1_Mam:hAT-Tag1:DNA</th><th scope=col>hAT-4b_Ther:hAT-Tip100:DNA</th><th scope=col>hAT-5_Mam:hAT-Tag1:DNA</th><th scope=col>hAT-N1_Mam:hAT-Tip100:DNA</th><th scope=col>hAT-N1a_Mam:hAT-Tip100:DNA</th><th scope=col>teucerv1_5edge:Unknown:Unknown</th><th scope=col>teucerv2_3edge:Unknown:Unknown</th><th scope=col>group</th></tr>\n",
       "\t<tr><th scope=col>&lt;chr&gt;</th><th scope=col>&lt;dbl&gt;</th><th scope=col>&lt;dbl&gt;</th><th scope=col>&lt;dbl&gt;</th><th scope=col>&lt;dbl&gt;</th><th scope=col>&lt;dbl&gt;</th><th scope=col>&lt;dbl&gt;</th><th scope=col>&lt;dbl&gt;</th><th scope=col>&lt;dbl&gt;</th><th scope=col>&lt;dbl&gt;</th><th scope=col>⋯</th><th scope=col>&lt;dbl&gt;</th><th scope=col>&lt;dbl&gt;</th><th scope=col>&lt;dbl&gt;</th><th scope=col>&lt;dbl&gt;</th><th scope=col>&lt;dbl&gt;</th><th scope=col>&lt;dbl&gt;</th><th scope=col>&lt;dbl&gt;</th><th scope=col>&lt;dbl&gt;</th><th scope=col>&lt;dbl&gt;</th><th scope=col>&lt;chr&gt;</th></tr>\n",
       "</thead>\n",
       "<tbody>\n",
       "\t<tr><td>control1</td><td>1.9417295</td><td>2.560446</td><td>5.114853</td><td>5.551968</td><td>11.00284</td><td>7.862283</td><td>7.211939</td><td>7.903772</td><td>6.097051</td><td>⋯</td><td>2.4190919</td><td>4.769472</td><td>6.108498</td><td>2.684272</td><td>5.409972</td><td>3.558738</td><td>4.524696</td><td>2.419092</td><td>4.249789</td><td>Control</td></tr>\n",
       "\t<tr><td>control2</td><td>2.8184820</td><td>3.750126</td><td>5.718909</td><td>5.555863</td><td>10.85683</td><td>7.647072</td><td>7.105092</td><td>7.750263</td><td>6.031320</td><td>⋯</td><td>1.6669210</td><td>4.990830</td><td>6.175247</td><td>2.729124</td><td>5.074836</td><td>2.976310</td><td>4.481291</td><td>3.389088</td><td>4.832937</td><td>Control</td></tr>\n",
       "\t<tr><td>control3</td><td>0.6968544</td><td>2.491693</td><td>5.315632</td><td>5.579527</td><td>10.89147</td><td>7.684798</td><td>7.141489</td><td>7.638829</td><td>6.125482</td><td>⋯</td><td>2.3092482</td><td>5.011298</td><td>5.991318</td><td>3.720793</td><td>5.694351</td><td>3.051572</td><td>4.495954</td><td>3.503685</td><td>4.561200</td><td>Control</td></tr>\n",
       "\t<tr><td>control4</td><td>0.9443061</td><td>1.562445</td><td>4.692144</td><td>5.522121</td><td>11.02033</td><td>7.751823</td><td>7.228963</td><td>7.793238</td><td>5.898625</td><td>⋯</td><td>2.4846733</td><td>4.753584</td><td>6.154301</td><td>3.469054</td><td>5.403582</td><td>3.516827</td><td>4.753584</td><td>2.939676</td><td>3.726477</td><td>Control</td></tr>\n",
       "\t<tr><td>control5</td><td>0.0000000</td><td>1.622740</td><td>5.008432</td><td>5.360980</td><td>10.91547</td><td>7.786066</td><td>7.152363</td><td>7.745840</td><td>5.940515</td><td>⋯</td><td>2.7382747</td><td>4.711867</td><td>6.095478</td><td>3.060339</td><td>5.503172</td><td>3.428305</td><td>4.683024</td><td>2.051333</td><td>3.428305</td><td>Control</td></tr>\n",
       "\t<tr><td>control6</td><td>1.0335519</td><td>1.820408</td><td>4.403303</td><td>5.954428</td><td>11.42714</td><td>8.397441</td><td>7.735240</td><td>8.202546</td><td>6.756269</td><td>⋯</td><td>0.2300945</td><td>4.798302</td><td>5.739617</td><td>3.459075</td><td>5.012506</td><td>3.581491</td><td>4.893832</td><td>4.621454</td><td>5.528233</td><td>Control</td></tr>\n",
       "</tbody>\n",
       "</table>\n"
      ],
      "text/latex": [
       "A data.table: 6 × 1124\n",
       "\\begin{tabular}{lllllllllllllllllllll}\n",
       " rn & (CATTC)n:Satellite:Satellite & (GAATG)n:Satellite:Satellite & ALR/Alpha:centr:Satellite & Alu:Alu:SINE & AluJb:Alu:SINE & AluJo:Alu:SINE & AluJr4:Alu:SINE & AluJr:Alu:SINE & AluSc5:Alu:SINE & ⋯ & Zaphod5b:hAT-Tip100:DNA & Zaphod:hAT-Tip100:DNA & hAT-1\\_Mam:hAT-Tag1:DNA & hAT-4b\\_Ther:hAT-Tip100:DNA & hAT-5\\_Mam:hAT-Tag1:DNA & hAT-N1\\_Mam:hAT-Tip100:DNA & hAT-N1a\\_Mam:hAT-Tip100:DNA & teucerv1\\_5edge:Unknown:Unknown & teucerv2\\_3edge:Unknown:Unknown & group\\\\\n",
       " <chr> & <dbl> & <dbl> & <dbl> & <dbl> & <dbl> & <dbl> & <dbl> & <dbl> & <dbl> & ⋯ & <dbl> & <dbl> & <dbl> & <dbl> & <dbl> & <dbl> & <dbl> & <dbl> & <dbl> & <chr>\\\\\n",
       "\\hline\n",
       "\t control1 & 1.9417295 & 2.560446 & 5.114853 & 5.551968 & 11.00284 & 7.862283 & 7.211939 & 7.903772 & 6.097051 & ⋯ & 2.4190919 & 4.769472 & 6.108498 & 2.684272 & 5.409972 & 3.558738 & 4.524696 & 2.419092 & 4.249789 & Control\\\\\n",
       "\t control2 & 2.8184820 & 3.750126 & 5.718909 & 5.555863 & 10.85683 & 7.647072 & 7.105092 & 7.750263 & 6.031320 & ⋯ & 1.6669210 & 4.990830 & 6.175247 & 2.729124 & 5.074836 & 2.976310 & 4.481291 & 3.389088 & 4.832937 & Control\\\\\n",
       "\t control3 & 0.6968544 & 2.491693 & 5.315632 & 5.579527 & 10.89147 & 7.684798 & 7.141489 & 7.638829 & 6.125482 & ⋯ & 2.3092482 & 5.011298 & 5.991318 & 3.720793 & 5.694351 & 3.051572 & 4.495954 & 3.503685 & 4.561200 & Control\\\\\n",
       "\t control4 & 0.9443061 & 1.562445 & 4.692144 & 5.522121 & 11.02033 & 7.751823 & 7.228963 & 7.793238 & 5.898625 & ⋯ & 2.4846733 & 4.753584 & 6.154301 & 3.469054 & 5.403582 & 3.516827 & 4.753584 & 2.939676 & 3.726477 & Control\\\\\n",
       "\t control5 & 0.0000000 & 1.622740 & 5.008432 & 5.360980 & 10.91547 & 7.786066 & 7.152363 & 7.745840 & 5.940515 & ⋯ & 2.7382747 & 4.711867 & 6.095478 & 3.060339 & 5.503172 & 3.428305 & 4.683024 & 2.051333 & 3.428305 & Control\\\\\n",
       "\t control6 & 1.0335519 & 1.820408 & 4.403303 & 5.954428 & 11.42714 & 8.397441 & 7.735240 & 8.202546 & 6.756269 & ⋯ & 0.2300945 & 4.798302 & 5.739617 & 3.459075 & 5.012506 & 3.581491 & 4.893832 & 4.621454 & 5.528233 & Control\\\\\n",
       "\\end{tabular}\n"
      ],
      "text/markdown": [
       "\n",
       "A data.table: 6 × 1124\n",
       "\n",
       "| rn &lt;chr&gt; | (CATTC)n:Satellite:Satellite &lt;dbl&gt; | (GAATG)n:Satellite:Satellite &lt;dbl&gt; | ALR/Alpha:centr:Satellite &lt;dbl&gt; | Alu:Alu:SINE &lt;dbl&gt; | AluJb:Alu:SINE &lt;dbl&gt; | AluJo:Alu:SINE &lt;dbl&gt; | AluJr4:Alu:SINE &lt;dbl&gt; | AluJr:Alu:SINE &lt;dbl&gt; | AluSc5:Alu:SINE &lt;dbl&gt; | ⋯ ⋯ | Zaphod5b:hAT-Tip100:DNA &lt;dbl&gt; | Zaphod:hAT-Tip100:DNA &lt;dbl&gt; | hAT-1_Mam:hAT-Tag1:DNA &lt;dbl&gt; | hAT-4b_Ther:hAT-Tip100:DNA &lt;dbl&gt; | hAT-5_Mam:hAT-Tag1:DNA &lt;dbl&gt; | hAT-N1_Mam:hAT-Tip100:DNA &lt;dbl&gt; | hAT-N1a_Mam:hAT-Tip100:DNA &lt;dbl&gt; | teucerv1_5edge:Unknown:Unknown &lt;dbl&gt; | teucerv2_3edge:Unknown:Unknown &lt;dbl&gt; | group &lt;chr&gt; |\n",
       "|---|---|---|---|---|---|---|---|---|---|---|---|---|---|---|---|---|---|---|---|---|\n",
       "| control1 | 1.9417295 | 2.560446 | 5.114853 | 5.551968 | 11.00284 | 7.862283 | 7.211939 | 7.903772 | 6.097051 | ⋯ | 2.4190919 | 4.769472 | 6.108498 | 2.684272 | 5.409972 | 3.558738 | 4.524696 | 2.419092 | 4.249789 | Control |\n",
       "| control2 | 2.8184820 | 3.750126 | 5.718909 | 5.555863 | 10.85683 | 7.647072 | 7.105092 | 7.750263 | 6.031320 | ⋯ | 1.6669210 | 4.990830 | 6.175247 | 2.729124 | 5.074836 | 2.976310 | 4.481291 | 3.389088 | 4.832937 | Control |\n",
       "| control3 | 0.6968544 | 2.491693 | 5.315632 | 5.579527 | 10.89147 | 7.684798 | 7.141489 | 7.638829 | 6.125482 | ⋯ | 2.3092482 | 5.011298 | 5.991318 | 3.720793 | 5.694351 | 3.051572 | 4.495954 | 3.503685 | 4.561200 | Control |\n",
       "| control4 | 0.9443061 | 1.562445 | 4.692144 | 5.522121 | 11.02033 | 7.751823 | 7.228963 | 7.793238 | 5.898625 | ⋯ | 2.4846733 | 4.753584 | 6.154301 | 3.469054 | 5.403582 | 3.516827 | 4.753584 | 2.939676 | 3.726477 | Control |\n",
       "| control5 | 0.0000000 | 1.622740 | 5.008432 | 5.360980 | 10.91547 | 7.786066 | 7.152363 | 7.745840 | 5.940515 | ⋯ | 2.7382747 | 4.711867 | 6.095478 | 3.060339 | 5.503172 | 3.428305 | 4.683024 | 2.051333 | 3.428305 | Control |\n",
       "| control6 | 1.0335519 | 1.820408 | 4.403303 | 5.954428 | 11.42714 | 8.397441 | 7.735240 | 8.202546 | 6.756269 | ⋯ | 0.2300945 | 4.798302 | 5.739617 | 3.459075 | 5.012506 | 3.581491 | 4.893832 | 4.621454 | 5.528233 | Control |\n",
       "\n"
      ],
      "text/plain": [
       "  rn       (CATTC)n:Satellite:Satellite (GAATG)n:Satellite:Satellite\n",
       "1 control1 1.9417295                    2.560446                    \n",
       "2 control2 2.8184820                    3.750126                    \n",
       "3 control3 0.6968544                    2.491693                    \n",
       "4 control4 0.9443061                    1.562445                    \n",
       "5 control5 0.0000000                    1.622740                    \n",
       "6 control6 1.0335519                    1.820408                    \n",
       "  ALR/Alpha:centr:Satellite Alu:Alu:SINE AluJb:Alu:SINE AluJo:Alu:SINE\n",
       "1 5.114853                  5.551968     11.00284       7.862283      \n",
       "2 5.718909                  5.555863     10.85683       7.647072      \n",
       "3 5.315632                  5.579527     10.89147       7.684798      \n",
       "4 4.692144                  5.522121     11.02033       7.751823      \n",
       "5 5.008432                  5.360980     10.91547       7.786066      \n",
       "6 4.403303                  5.954428     11.42714       8.397441      \n",
       "  AluJr4:Alu:SINE AluJr:Alu:SINE AluSc5:Alu:SINE ⋯ Zaphod5b:hAT-Tip100:DNA\n",
       "1 7.211939        7.903772       6.097051        ⋯ 2.4190919              \n",
       "2 7.105092        7.750263       6.031320        ⋯ 1.6669210              \n",
       "3 7.141489        7.638829       6.125482        ⋯ 2.3092482              \n",
       "4 7.228963        7.793238       5.898625        ⋯ 2.4846733              \n",
       "5 7.152363        7.745840       5.940515        ⋯ 2.7382747              \n",
       "6 7.735240        8.202546       6.756269        ⋯ 0.2300945              \n",
       "  Zaphod:hAT-Tip100:DNA hAT-1_Mam:hAT-Tag1:DNA hAT-4b_Ther:hAT-Tip100:DNA\n",
       "1 4.769472              6.108498               2.684272                  \n",
       "2 4.990830              6.175247               2.729124                  \n",
       "3 5.011298              5.991318               3.720793                  \n",
       "4 4.753584              6.154301               3.469054                  \n",
       "5 4.711867              6.095478               3.060339                  \n",
       "6 4.798302              5.739617               3.459075                  \n",
       "  hAT-5_Mam:hAT-Tag1:DNA hAT-N1_Mam:hAT-Tip100:DNA hAT-N1a_Mam:hAT-Tip100:DNA\n",
       "1 5.409972               3.558738                  4.524696                  \n",
       "2 5.074836               2.976310                  4.481291                  \n",
       "3 5.694351               3.051572                  4.495954                  \n",
       "4 5.403582               3.516827                  4.753584                  \n",
       "5 5.503172               3.428305                  4.683024                  \n",
       "6 5.012506               3.581491                  4.893832                  \n",
       "  teucerv1_5edge:Unknown:Unknown teucerv2_3edge:Unknown:Unknown group  \n",
       "1 2.419092                       4.249789                       Control\n",
       "2 3.389088                       4.832937                       Control\n",
       "3 3.503685                       4.561200                       Control\n",
       "4 2.939676                       3.726477                       Control\n",
       "5 2.051333                       3.428305                       Control\n",
       "6 4.621454                       5.528233                       Control"
      ]
     },
     "metadata": {},
     "output_type": "display_data"
    }
   ],
   "source": [
    "# take all together for logcpm\n",
    "subtype = factor(dsn_dt2$group)\n",
    "subtype = relevel(subtype, ref = 'Control')\n",
    "\n",
    "dge = DGEList(counts = tecount_combat_df[!rownames(tecount_df) %in% coding_genes, ], group = subtype)\n",
    "dge <- calcNormFactors(dge)\n",
    "\n",
    "keep = filterByExpr(dge)\n",
    "dge = dge[keep, , keep.lib.sizes=FALSE]\n",
    "dge = normLibSizes(dge)\n",
    "design = model.matrix( ~  subtype)\n",
    "dge = estimateDisp(dge, design)\n",
    "et <- exactTest(dge)\n",
    "deg = topTags(et, n = length(keep))\n",
    "deg_te_dt = as.data.table(deg$table, keep.rownames = T)\n",
    "\n",
    "logcpm_te_df = log1p(cpm(dge, normalize = T))\n",
    "\n",
    "logcpm_te_dt = merge(as.data.table(t(logcpm_te_df), keep.rownames = T), dsn_dt2[, .(assay_sample_name, group)], by.x = 'rn', by.y = 'assay_sample_name', all.x = T)\n",
    "head(logcpm_te_dt)\n",
    "\n"
   ]
  },
  {
   "cell_type": "markdown",
   "id": "87c9f118-cbbe-4dd4-9d94-883f0b80c333",
   "metadata": {},
   "source": [
    "# TEcount Heatmap"
   ]
  },
  {
   "cell_type": "code",
   "execution_count": 233,
   "id": "a585c951-5fc9-4d2e-9424-6a770f772310",
   "metadata": {},
   "outputs": [
    {
     "data": {
      "image/png": "[encoded data removed]",
      "text/plain": [
       "plot without title"
      ]
     },
     "metadata": {
      "image/png": {
       "height": 450,
       "width": 500
      }
     },
     "output_type": "display_data"
    }
   ],
   "source": [
    "# significant TEs\n",
    "options(repr.plot.width = 10, repr.plot.height = 9, repr.plot.res = 100)\n",
    "\n",
    "row_sel = deg_te_dt[abs(logFC) > 1 & FDR < 0.1, ]\n",
    "row_sel = as.data.table(row_sel)\n",
    "\n",
    "plotdat = logcpm_te_df[row_sel$rn, dsn_dt2$assay_sample_name]\n",
    "rownames(plotdat) = row_sel$ctype_gene\n",
    "\n",
    "plotdat = scale_fun(plotdat) \n",
    "plotdat[plotdat > 2] = 2\n",
    "plotdat[plotdat < -2] = -2\n",
    "\n",
    "column_ha = HeatmapAnnotation(df = dsn_dt2[, 'group', drop = F])\n",
    "#column_ra = rowAnnotation(df = row_sel[, .(.id)]) \n",
    "Heatmap(plotdat, name = \"mat\", show_column_names = F, show_row_names = F, show_column_dend = F, cluster_columns  = F, \n",
    "        cluster_rows = T,  row_split = row_sel$.id, \n",
    "        show_row_dend = F, top_annotation = column_ha, #left_annotation = column_ra, \n",
    "        column_split = factor(dsn_dt2$group, levels = c('Control', 'DBA')))  "
   ]
  },
  {
   "cell_type": "code",
   "execution_count": null,
   "id": "bac55272-e3c1-4151-8388-67bf240467d2",
   "metadata": {},
   "outputs": [],
   "source": []
  },
  {
   "cell_type": "markdown",
   "id": "d9822ba7-4aff-43cc-8129-7ca8b8f88544",
   "metadata": {},
   "source": [
    "# TEcount DEG"
   ]
  },
  {
   "cell_type": "code",
   "execution_count": null,
   "id": "8af6b491-ef3c-45ca-acb5-f067e51ecef6",
   "metadata": {},
   "outputs": [],
   "source": [
    "deg_coding_list = lapply(cell_types, function(cc){\n",
    "    dsn_all_df$ctype = 'Other'\n",
    "    dsn_all_df$ctype[dsn_all_df$cell_type == cc] = cc\n",
    "    dsn_all_df$ctype = factor(dsn_all_df$ctype, levels = c('Other', cc))\n",
    "\n",
    "    subtype = factor(dsn_all_df$ctype, levels = c('Other', cc))\n",
    "\n",
    "    mtx_ranged = mtx_coding_df[, rownames(dsn_all_df)]\n",
    "\n",
    "    dge = DGEList(counts=mtx_ranged, group = subtype)\n",
    "    dge <- calcNormFactors(dge)\n",
    "\n",
    "    keep = filterByExpr(dge)\n",
    "    dge = dge[keep, , keep.lib.sizes=FALSE]\n",
    "    dge = normLibSizes(dge)\n",
    "    design = model.matrix( ~ 0 + subtype)\n",
    "    dge = estimateDisp(dge, design)\n",
    "    et <- exactTest(dge)\n",
    "    deg = topTags(et, n = length(keep))\n",
    "    deg = as.data.table(deg$table, keep.rownames = T)\n",
    "    deg\n",
    "})\n"
   ]
  },
  {
   "cell_type": "code",
   "execution_count": null,
   "id": "e9dd828c-ccfb-46ab-a229-a4cc42e700a7",
   "metadata": {},
   "outputs": [],
   "source": [
    "# "
   ]
  },
  {
   "cell_type": "markdown",
   "id": "0465f4f6-18a2-43df-98be-8868cbf0a536",
   "metadata": {},
   "source": [
    "# TE DEG"
   ]
  },
  {
   "cell_type": "code",
   "execution_count": null,
   "id": "742fdc1f-c525-4193-ae50-d117fa41e7da",
   "metadata": {},
   "outputs": [],
   "source": [
    "deg_coding_list = lapply(cell_types, function(cc){\n",
    "    dsn_all_df$ctype = 'Other'\n",
    "    dsn_all_df$ctype[dsn_all_df$cell_type == cc] = cc\n",
    "    dsn_all_df$ctype = factor(dsn_all_df$ctype, levels = c('Other', cc))\n",
    "\n",
    "    subtype = factor(dsn_all_df$ctype, levels = c('Other', cc))\n",
    "\n",
    "    mtx_ranged = mtx_coding_df[, rownames(dsn_all_df)]\n",
    "\n",
    "    dge = DGEList(counts=mtx_ranged, group = subtype)\n",
    "    dge <- calcNormFactors(dge)\n",
    "\n",
    "    keep = filterByExpr(dge)\n",
    "    dge = dge[keep, , keep.lib.sizes=FALSE]\n",
    "    dge = normLibSizes(dge)\n",
    "    design = model.matrix( ~ 0 + subtype)\n",
    "    dge = estimateDisp(dge, design)\n",
    "    et <- exactTest(dge)\n",
    "    deg = topTags(et, n = length(keep))\n",
    "    deg = as.data.table(deg$table, keep.rownames = T)\n",
    "    deg\n",
    "})\n"
   ]
  },
  {
   "cell_type": "code",
   "execution_count": null,
   "id": "4f901464-1db4-4037-aa83-c15f4658d14b",
   "metadata": {},
   "outputs": [],
   "source": [
    "deg_te_list = lapply(cell_types, function(cc){\n",
    "    dsn_all_df$ctype = 'Other'\n",
    "    dsn_all_df$ctype[dsn_all_df$cell_type == cc] = cc\n",
    "    dsn_all_df$ctype = factor(dsn_all_df$ctype, levels = c('Other', cc))\n",
    "\n",
    "    subtype = factor(dsn_all_df$ctype, levels = c('Other', cc))\n",
    "    mtx_arranged = mtx_te_df[, rownames(dsn_all_df)]\n",
    "\n",
    "    dge = DGEList(counts=mtx_arranged, group = subtype)\n",
    "    dge <- calcNormFactors(dge)\n",
    "\n",
    "    keep = filterByExpr(dge)\n",
    "    dge = dge[keep, , keep.lib.sizes=FALSE]\n",
    "    dge = normLibSizes(dge)\n",
    "    design = model.matrix( ~ 0 + subtype)\n",
    "    dge = estimateDisp(dge, design)\n",
    "    et <- exactTest(dge)\n",
    "    deg = topTags(et, n = length(keep))\n",
    "    deg = as.data.table(deg$table, keep.rownames = T)\n",
    "    deg\n",
    "})\n",
    "\n"
   ]
  },
  {
   "cell_type": "markdown",
   "id": "f1d49129-439c-43c5-b517-3efc3d01f522",
   "metadata": {},
   "source": [
    "# export"
   ]
  },
  {
   "cell_type": "code",
   "execution_count": 165,
   "id": "51e8c9d9-8bc7-44be-b721-6f5b7fd3faac",
   "metadata": {},
   "outputs": [],
   "source": [
    "write.table(dsn_dt2, file = 'dsn_dt2.tsv')\n",
    "write.table(tecount_df, file = 'tecount_df.tsv')\n"
   ]
  },
  {
   "cell_type": "code",
   "execution_count": 164,
   "id": "465fdbec-02d6-49b9-a990-a2ee1383675d",
   "metadata": {},
   "outputs": [],
   "source": [
    "write.table(deg_te_dt, file = 'deg_te_dt.tsv')\n",
    "write.table(deg_coding_dt, file = 'deg_coding_dt.tsv')\n"
   ]
  },
  {
   "cell_type": "code",
   "execution_count": 162,
   "id": "7e4e66b2-9832-4328-828b-58ac46e2cd93",
   "metadata": {},
   "outputs": [],
   "source": [
    "write.table(logcpm_coding_df, file = 'logcpm_coding_df.tsv')\n",
    "write.table(logcpm_coding_dt, file = 'logcpm_coding_dt.tsv')\n",
    "\n",
    "write.table(logcpm_te_df, file = 'logcpm_te_df.tsv')\n",
    "write.table(logcpm_te_dt, file = 'logcpm_te_dt.tsv')\n"
   ]
  }
 ],
 "metadata": {
  "kernelspec": {
   "display_name": "feb24R",
   "language": "R",
   "name": "feb24r"
  },
  "language_info": {
   "codemirror_mode": "r",
   "file_extension": ".r",
   "mimetype": "text/x-r-source",
   "name": "R",
   "pygments_lexer": "r",
   "version": "4.3.3"
  }
 },
 "nbformat": 4,
 "nbformat_minor": 5
}
