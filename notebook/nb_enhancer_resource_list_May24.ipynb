{
 "cells": [
  {
   "cell_type": "markdown",
   "id": "b10f9e73-ecea-4825-a979-27358d13d1c4",
   "metadata": {
    "jp-MarkdownHeadingCollapsed": true
   },
   "source": [
    "# import pacakges"
   ]
  },
  {
   "cell_type": "raw",
   "id": "7ec814d9-b13d-4e00-a50f-ca824a0a2181",
   "metadata": {},
   "source": [
    "import os\n",
    "import pandas as pd\n",
    "import re\n",
    "#from muon import atac as ac\n",
    "import numpy as np\n",
    "import scanpy as sc\n",
    "import anndata as ad\n",
    "import muon as mu\n",
    "import scipy\n",
    "from scipy import sparse\n",
    "import copy\n",
    "\n",
    "import seaborn as sns\n",
    "import pickle\n",
    "import scvi\n",
    "import scrublet as scr\n",
    "\n",
    "import matplotlib.pyplot as plt\n",
    "import seaborn as sns\n",
    "import matplotlib.colors as mcolors\n",
    "import bbknn\n",
    "\n",
    "import celltypist\n",
    "from celltypist import models\n",
    "\n",
    "# Inital setting for plot size\n",
    "from matplotlib import rcParams\n",
    "\n",
    "FIGSIZE = (3, 3)\n",
    "plt.rcParams[\"figure.figsize\"] = FIGSIZE\n",
    "\n",
    "from IPython.display import display, HTML\n",
    "display(HTML(\"<style>.container { width:100% !important; }</style>\"))\n",
    "display(HTML(\"<style>.output_result { max-width:100% !important; }</style>\")) \n",
    "\n",
    "os.environ[\"PATH\"] = os.environ[\"PATH\"] + ':' + '/home/whu78/conda3/envs/feb24/bin:/home/whu78/conda3/envs/feb24/condabin:/hpcf/user_commands:/usr/NX/bin:/cm/local/apps/environment-modules/4.5.3/bin:/hpcf/lsf/lsf_prod/10.1/linux3.10-glibc2.17-x86_64/etc:/hpcf/lsf/lsf_prod/10.1/linux3.10-glibc2.17-x86_64/bin:/usr/lpp/mmfs/bin:/usr/lpp/mmfs/lib:/usr/local/bin:/usr/bin:/usr/local/sbin:/usr/sbin:/sbin:/usr/sbin:/cm/local/apps/environment-modules/4.5.3/bin:/usr/sbin:/sbin:/bin:/usr/bin:/etc:/usr/ucb:/usr/local/bin:/usr/local/local_dfs/bin:/usr/bin/X11:/usr/local/sas:/home/whu78/.local/bin:/home/whu78/bin'\n",
    "\n",
    "import rpy2.robjects as ro\n",
    "from rpy2.robjects.packages import importr\n",
    "from rpy2.robjects import pandas2ri\n",
    "%load_ext rpy2.ipython \n",
    "\n",
    "from itables import init_notebook_mode\n",
    "init_notebook_mode(all_interactive=True)\n",
    "%matplotlib inline\n",
    "\n",
    "import warnings\n",
    "warnings.simplefilter(action='ignore', category=FutureWarning)\n",
    "warnings.filterwarnings(\"ignore\", category=DeprecationWarning)\n",
    "warnings.filterwarnings(\"ignore\", category = UserWarning)\n",
    "warnings.filterwarnings(\"ignore\", category = RuntimeWarning)\n",
    "\n",
    "os.chdir(base_dir)"
   ]
  },
  {
   "cell_type": "code",
   "execution_count": 5,
   "id": "ca6f7ecc-0ba7-476e-92ff-e162969bf585",
   "metadata": {},
   "outputs": [],
   "source": [
    "base_dir = '/research_jude/rgs01_jude/groups/jxugrp/home/common/Lab_Members/WenhuoHu/TE/enhancer/'\n",
    "library(data.table)\n",
    "library(dplyr)\n",
    "library(ChIPseeker)\n",
    "library(TxDb.Hsapiens.UCSC.hg38.knownGene)\n",
    "library(EnsDb.Hsapiens.v75)\n",
    "library(clusterProfiler)\n",
    "library(AnnotationDbi)\n",
    "library(org.Hs.eg.db)\n",
    "library(ggplot2)\n",
    "library(gridExtra)\n",
    "library(IRdisplay)\n",
    "library(ChIPpeakAnno)\n",
    "library(StructuralVariantAnnotation)\n",
    "library(SingleCellExperiment)\n",
    "library(anndata)\n",
    "library(scDblFinder)\n",
    "\n",
    "txdb <- TxDb.Hsapiens.UCSC.hg38.knownGene\n",
    "\n",
    "setwd(base_dir)\n",
    "\n",
    "options(width = 188)"
   ]
  },
  {
   "cell_type": "code",
   "execution_count": 91,
   "id": "9aad47d4-c629-4a47-90eb-ac4c502ad4ee",
   "metadata": {},
   "outputs": [],
   "source": [
    "data_dir = '/research_jude/rgs01_jude/groups/jxugrp/home/common/Data_Public/ATAC-seq/Hematopoietic_lineages_batch3/'\n"
   ]
  },
  {
   "cell_type": "code",
   "execution_count": 27,
   "id": "78be8000-56d6-4a2d-b2bc-ef8f7a4dadc3",
   "metadata": {},
   "outputs": [],
   "source": [
    "path = paste0(Sys.getenv('PATH'), ':', '/home/whu78/conda3/envs/feb24/bin:/home/whu78/conda3/envs/feb24/condabin:/hpcf/user_commands:/usr/NX/bin:/cm/local/apps/environment-modules/4.5.3/bin:/hpcf/lsf/lsf_prod/10.1/linux3.10-glibc2.17-x86_64/etc:/hpcf/lsf/lsf_prod/10.1/linux3.10-glibc2.17-x86_64/bin:/usr/lpp/mmfs/bin:/usr/lpp/mmfs/lib:/usr/local/bin:/usr/bin:/usr/local/sbin:/usr/sbin:/sbin:/usr/sbin:/cm/local/apps/environment-modules/4.5.3/bin:/usr/sbin:/sbin:/bin:/usr/bin:/etc:/usr/ucb:/usr/local/bin:/usr/local/local_dfs/bin:/usr/bin/X11:/usr/local/sas:/home/whu78/.local/bin:/home/whu78/bin')\n",
    "path = unique(unlist(strsplit(path, ':')))\n",
    "path = c(path, '/home/whu78/edirect/')\n",
    "path = paste(path, collapse = ':')\n",
    "Sys.setenv('PATH' = path)\n"
   ]
  },
  {
   "cell_type": "code",
   "execution_count": 23,
   "id": "e9f534ec-756c-4ad4-8905-4f32128b2c3a",
   "metadata": {},
   "outputs": [
    {
     "data": {
      "text/html": [
       "'/research_jude/rgs01_jude/groups/jxugrp/home/common/Lab_Members/WenhuoHu/conda3/envs/mar24/bin:/condabin:/home/whu78/conda3/bin:/home/whu78/conda3/envs/feb24/bin:/home/whu78/conda3/envs/feb24/condabin:/hpcf/user_commands:/usr/NX/bin:/cm/local/apps/environment-modules/4.5.3/bin:/hpcf/lsf/lsf_prod/10.1/linux3.10-glibc2.17-x86_64/etc:/hpcf/lsf/lsf_prod/10.1/linux3.10-glibc2.17-x86_64/bin:/usr/lpp/mmfs/bin:/usr/lpp/mmfs/lib:/usr/local/bin:/usr/bin:/usr/local/sbin:/usr/sbin:/sbin:/bin:/etc:/usr/ucb:/usr/local/local_dfs/bin:/usr/bin/X11:/usr/local/sas:/home/whu78/.local/bin:/home/whu78/bin'"
      ],
      "text/latex": [
       "'/research\\_jude/rgs01\\_jude/groups/jxugrp/home/common/Lab\\_Members/WenhuoHu/conda3/envs/mar24/bin:/condabin:/home/whu78/conda3/bin:/home/whu78/conda3/envs/feb24/bin:/home/whu78/conda3/envs/feb24/condabin:/hpcf/user\\_commands:/usr/NX/bin:/cm/local/apps/environment-modules/4.5.3/bin:/hpcf/lsf/lsf\\_prod/10.1/linux3.10-glibc2.17-x86\\_64/etc:/hpcf/lsf/lsf\\_prod/10.1/linux3.10-glibc2.17-x86\\_64/bin:/usr/lpp/mmfs/bin:/usr/lpp/mmfs/lib:/usr/local/bin:/usr/bin:/usr/local/sbin:/usr/sbin:/sbin:/bin:/etc:/usr/ucb:/usr/local/local\\_dfs/bin:/usr/bin/X11:/usr/local/sas:/home/whu78/.local/bin:/home/whu78/bin'"
      ],
      "text/markdown": [
       "'/research_jude/rgs01_jude/groups/jxugrp/home/common/Lab_Members/WenhuoHu/conda3/envs/mar24/bin:/condabin:/home/whu78/conda3/bin:/home/whu78/conda3/envs/feb24/bin:/home/whu78/conda3/envs/feb24/condabin:/hpcf/user_commands:/usr/NX/bin:/cm/local/apps/environment-modules/4.5.3/bin:/hpcf/lsf/lsf_prod/10.1/linux3.10-glibc2.17-x86_64/etc:/hpcf/lsf/lsf_prod/10.1/linux3.10-glibc2.17-x86_64/bin:/usr/lpp/mmfs/bin:/usr/lpp/mmfs/lib:/usr/local/bin:/usr/bin:/usr/local/sbin:/usr/sbin:/sbin:/bin:/etc:/usr/ucb:/usr/local/local_dfs/bin:/usr/bin/X11:/usr/local/sas:/home/whu78/.local/bin:/home/whu78/bin'"
      ],
      "text/plain": [
       "[1] \"/research_jude/rgs01_jude/groups/jxugrp/home/common/Lab_Members/WenhuoHu/conda3/envs/mar24/bin:/condabin:/home/whu78/conda3/bin:/home/whu78/conda3/envs/feb24/bin:/home/whu78/conda3/envs/feb24/condabin:/hpcf/user_commands:/usr/NX/bin:/cm/local/apps/environment-modules/4.5.3/bin:/hpcf/lsf/lsf_prod/10.1/linux3.10-glibc2.17-x86_64/etc:/hpcf/lsf/lsf_prod/10.1/linux3.10-glibc2.17-x86_64/bin:/usr/lpp/mmfs/bin:/usr/lpp/mmfs/lib:/usr/local/bin:/usr/bin:/usr/local/sbin:/usr/sbin:/sbin:/bin:/etc:/usr/ucb:/usr/local/local_dfs/bin:/usr/bin/X11:/usr/local/sas:/home/whu78/.local/bin:/home/whu78/bin\""
      ]
     },
     "metadata": {},
     "output_type": "display_data"
    }
   ],
   "source": [
    "path"
   ]
  },
  {
   "cell_type": "markdown",
   "id": "e847ceaf-badc-466e-a6db-a724a48cd514",
   "metadata": {
    "jp-MarkdownHeadingCollapsed": true
   },
   "source": [
    "# import atac-seq design table\n",
    "samples has been processed here: nb_TE_HSC_ATAC"
   ]
  },
  {
   "cell_type": "code",
   "execution_count": 20,
   "id": "bba84f20-48fa-41e7-9416-f6a31514c899",
   "metadata": {},
   "outputs": [
    {
     "data": {
      "text/html": [
       "<table class=\"dataframe\">\n",
       "<caption>A data.table: 6 × 3</caption>\n",
       "<thead>\n",
       "\t<tr><th scope=col>sample_name_manual</th><th scope=col>srr_id</th><th scope=col>gsm_id</th></tr>\n",
       "\t<tr><th scope=col>&lt;chr&gt;</th><th scope=col>&lt;chr&gt;</th><th scope=col>&lt;chr&gt;</th></tr>\n",
       "</thead>\n",
       "<tbody>\n",
       "\t<tr><td>D4983_HSC_1</td><td>SRR2920466</td><td>GSM1937376</td></tr>\n",
       "\t<tr><td>D4983_HSC_1</td><td>SRR2920467</td><td>GSM1937377</td></tr>\n",
       "\t<tr><td>D4983_HSC_1</td><td>SRR2920468</td><td>GSM1937378</td></tr>\n",
       "\t<tr><td>D4983_HSC_1</td><td>SRR2920469</td><td>GSM1937379</td></tr>\n",
       "\t<tr><td>D4983_HSC_1</td><td>SRR2920470</td><td>GSM1937380</td></tr>\n",
       "\t<tr><td>D4983_HSC_1</td><td>SRR2920471</td><td>GSM1937381</td></tr>\n",
       "</tbody>\n",
       "</table>\n"
      ],
      "text/latex": [
       "A data.table: 6 × 3\n",
       "\\begin{tabular}{lll}\n",
       " sample\\_name\\_manual & srr\\_id & gsm\\_id\\\\\n",
       " <chr> & <chr> & <chr>\\\\\n",
       "\\hline\n",
       "\t D4983\\_HSC\\_1 & SRR2920466 & GSM1937376\\\\\n",
       "\t D4983\\_HSC\\_1 & SRR2920467 & GSM1937377\\\\\n",
       "\t D4983\\_HSC\\_1 & SRR2920468 & GSM1937378\\\\\n",
       "\t D4983\\_HSC\\_1 & SRR2920469 & GSM1937379\\\\\n",
       "\t D4983\\_HSC\\_1 & SRR2920470 & GSM1937380\\\\\n",
       "\t D4983\\_HSC\\_1 & SRR2920471 & GSM1937381\\\\\n",
       "\\end{tabular}\n"
      ],
      "text/markdown": [
       "\n",
       "A data.table: 6 × 3\n",
       "\n",
       "| sample_name_manual &lt;chr&gt; | srr_id &lt;chr&gt; | gsm_id &lt;chr&gt; |\n",
       "|---|---|---|\n",
       "| D4983_HSC_1 | SRR2920466 | GSM1937376 |\n",
       "| D4983_HSC_1 | SRR2920467 | GSM1937377 |\n",
       "| D4983_HSC_1 | SRR2920468 | GSM1937378 |\n",
       "| D4983_HSC_1 | SRR2920469 | GSM1937379 |\n",
       "| D4983_HSC_1 | SRR2920470 | GSM1937380 |\n",
       "| D4983_HSC_1 | SRR2920471 | GSM1937381 |\n",
       "\n"
      ],
      "text/plain": [
       "  sample_name_manual srr_id     gsm_id    \n",
       "1 D4983_HSC_1        SRR2920466 GSM1937376\n",
       "2 D4983_HSC_1        SRR2920467 GSM1937377\n",
       "3 D4983_HSC_1        SRR2920468 GSM1937378\n",
       "4 D4983_HSC_1        SRR2920469 GSM1937379\n",
       "5 D4983_HSC_1        SRR2920470 GSM1937380\n",
       "6 D4983_HSC_1        SRR2920471 GSM1937381"
      ]
     },
     "metadata": {},
     "output_type": "display_data"
    }
   ],
   "source": [
    "dsn_atac = fread('../../collab_Farhan/data/dsn_te_atac_merged_bak.txt')\n",
    "head(dsn_atac[, .(sample_name_manual, srr_id, gsm_id)])"
   ]
  },
  {
   "cell_type": "markdown",
   "id": "e2404336-bfca-46f7-b01d-f5801136230c",
   "metadata": {
    "jp-MarkdownHeadingCollapsed": true
   },
   "source": [
    "# import GSE231486 ChIPSeq sample information\n",
    "ChIP-Seq and HI-C seq, no atac-seq\n"
   ]
  },
  {
   "cell_type": "code",
   "execution_count": 39,
   "id": "6a3310b9-99af-4e69-899f-8f5e5b9e1400",
   "metadata": {},
   "outputs": [
    {
     "data": {
      "text/html": [
       "<style>\n",
       ".list-inline {list-style: none; margin:0; padding: 0}\n",
       ".list-inline>li {display: inline-block}\n",
       ".list-inline>li:not(:last-child)::after {content: \"\\00b7\"; padding: 0 .5ex}\n",
       "</style>\n",
       "<ol class=list-inline><li>156</li><li>7</li></ol>\n"
      ],
      "text/latex": [
       "\\begin{enumerate*}\n",
       "\\item 156\n",
       "\\item 7\n",
       "\\end{enumerate*}\n"
      ],
      "text/markdown": [
       "1. 156\n",
       "2. 7\n",
       "\n",
       "\n"
      ],
      "text/plain": [
       "[1] 156   7"
      ]
     },
     "metadata": {},
     "output_type": "display_data"
    }
   ],
   "source": [
    "dsn_gse231486 = fread('/research_jude/rgs01_jude/groups/jxugrp/home/common/Lab_Members/WenhuoHu/TE/enhancer/gse231486_table') \n",
    "dsn_gse231486[, assay := sub(\"(.*)_(.*)_(.*)_(.*)\", \"\\\\1\", tag)]\n",
    "dsn_gse231486[, cell_type := sub(\"(.*)_(.*)_(.*)_(.*)\", \"\\\\2\", tag)]\n",
    "dsn_gse231486[, antibody := sub(\"(.*)_(.*)_(.*)_(.*)\", \"\\\\3\", tag)]\n",
    "dsn_gse231486[, rep := sub(\"(.*)_(.*)_(.*)_(.*)\", \"\\\\4\", tag)]\n",
    "dsn_gse231486[, sample_name := paste0(cell_type, '_', antibody, '_', rep)]\n",
    "\n",
    "dim(dsn_gse231486)\n"
   ]
  },
  {
   "cell_type": "code",
   "execution_count": 40,
   "id": "7546de48-01fa-416a-a929-774934ab962c",
   "metadata": {},
   "outputs": [
    {
     "data": {
      "text/html": [
       "<table class=\"dataframe\">\n",
       "<caption>A data.table: 6 × 8</caption>\n",
       "<thead>\n",
       "\t<tr><th scope=col>gsm_id</th><th scope=col>tag</th><th scope=col>assay</th><th scope=col>cell_type</th><th scope=col>antibody</th><th scope=col>rep</th><th scope=col>sample_name</th><th scope=col>srr_id</th></tr>\n",
       "\t<tr><th scope=col>&lt;chr&gt;</th><th scope=col>&lt;chr&gt;</th><th scope=col>&lt;chr&gt;</th><th scope=col>&lt;chr&gt;</th><th scope=col>&lt;chr&gt;</th><th scope=col>&lt;chr&gt;</th><th scope=col>&lt;chr&gt;</th><th scope=col>&lt;chr&gt;</th></tr>\n",
       "</thead>\n",
       "<tbody>\n",
       "\t<tr><td>GSM7277346</td><td>ChIPmentation_CMP_ERG_rep1 </td><td>ChIPmentation</td><td>CMP</td><td>ERG </td><td>rep1</td><td>CMP_ERG_rep1 </td><td>SRR24388802,</td></tr>\n",
       "\t<tr><td>GSM7277347</td><td>ChIPmentation_CMP_ERG_rep2 </td><td>ChIPmentation</td><td>CMP</td><td>ERG </td><td>rep2</td><td>CMP_ERG_rep2 </td><td>SRR24388801,</td></tr>\n",
       "\t<tr><td>GSM7277348</td><td>ChIPmentation_CMP_ERG_rep3 </td><td>ChIPmentation</td><td>CMP</td><td>ERG </td><td>rep3</td><td>CMP_ERG_rep3 </td><td>SRR24388800,</td></tr>\n",
       "\t<tr><td>GSM7277349</td><td>ChIPmentation_CMP_FLI1_rep1</td><td>ChIPmentation</td><td>CMP</td><td>FLI1</td><td>rep1</td><td>CMP_FLI1_rep1</td><td>SRR24388799,</td></tr>\n",
       "\t<tr><td>GSM7277350</td><td>ChIPmentation_CMP_FLI1_rep2</td><td>ChIPmentation</td><td>CMP</td><td>FLI1</td><td>rep2</td><td>CMP_FLI1_rep2</td><td>SRR24388798,</td></tr>\n",
       "\t<tr><td>GSM7277351</td><td>ChIPmentation_CMP_FLI1_rep3</td><td>ChIPmentation</td><td>CMP</td><td>FLI1</td><td>rep3</td><td>CMP_FLI1_rep3</td><td>SRR24388797,</td></tr>\n",
       "</tbody>\n",
       "</table>\n"
      ],
      "text/latex": [
       "A data.table: 6 × 8\n",
       "\\begin{tabular}{llllllll}\n",
       " gsm\\_id & tag & assay & cell\\_type & antibody & rep & sample\\_name & srr\\_id\\\\\n",
       " <chr> & <chr> & <chr> & <chr> & <chr> & <chr> & <chr> & <chr>\\\\\n",
       "\\hline\n",
       "\t GSM7277346 & ChIPmentation\\_CMP\\_ERG\\_rep1  & ChIPmentation & CMP & ERG  & rep1 & CMP\\_ERG\\_rep1  & SRR24388802,\\\\\n",
       "\t GSM7277347 & ChIPmentation\\_CMP\\_ERG\\_rep2  & ChIPmentation & CMP & ERG  & rep2 & CMP\\_ERG\\_rep2  & SRR24388801,\\\\\n",
       "\t GSM7277348 & ChIPmentation\\_CMP\\_ERG\\_rep3  & ChIPmentation & CMP & ERG  & rep3 & CMP\\_ERG\\_rep3  & SRR24388800,\\\\\n",
       "\t GSM7277349 & ChIPmentation\\_CMP\\_FLI1\\_rep1 & ChIPmentation & CMP & FLI1 & rep1 & CMP\\_FLI1\\_rep1 & SRR24388799,\\\\\n",
       "\t GSM7277350 & ChIPmentation\\_CMP\\_FLI1\\_rep2 & ChIPmentation & CMP & FLI1 & rep2 & CMP\\_FLI1\\_rep2 & SRR24388798,\\\\\n",
       "\t GSM7277351 & ChIPmentation\\_CMP\\_FLI1\\_rep3 & ChIPmentation & CMP & FLI1 & rep3 & CMP\\_FLI1\\_rep3 & SRR24388797,\\\\\n",
       "\\end{tabular}\n"
      ],
      "text/markdown": [
       "\n",
       "A data.table: 6 × 8\n",
       "\n",
       "| gsm_id &lt;chr&gt; | tag &lt;chr&gt; | assay &lt;chr&gt; | cell_type &lt;chr&gt; | antibody &lt;chr&gt; | rep &lt;chr&gt; | sample_name &lt;chr&gt; | srr_id &lt;chr&gt; |\n",
       "|---|---|---|---|---|---|---|---|\n",
       "| GSM7277346 | ChIPmentation_CMP_ERG_rep1  | ChIPmentation | CMP | ERG  | rep1 | CMP_ERG_rep1  | SRR24388802, |\n",
       "| GSM7277347 | ChIPmentation_CMP_ERG_rep2  | ChIPmentation | CMP | ERG  | rep2 | CMP_ERG_rep2  | SRR24388801, |\n",
       "| GSM7277348 | ChIPmentation_CMP_ERG_rep3  | ChIPmentation | CMP | ERG  | rep3 | CMP_ERG_rep3  | SRR24388800, |\n",
       "| GSM7277349 | ChIPmentation_CMP_FLI1_rep1 | ChIPmentation | CMP | FLI1 | rep1 | CMP_FLI1_rep1 | SRR24388799, |\n",
       "| GSM7277350 | ChIPmentation_CMP_FLI1_rep2 | ChIPmentation | CMP | FLI1 | rep2 | CMP_FLI1_rep2 | SRR24388798, |\n",
       "| GSM7277351 | ChIPmentation_CMP_FLI1_rep3 | ChIPmentation | CMP | FLI1 | rep3 | CMP_FLI1_rep3 | SRR24388797, |\n",
       "\n"
      ],
      "text/plain": [
       "  gsm_id     tag                         assay         cell_type antibody rep  sample_name   srr_id      \n",
       "1 GSM7277346 ChIPmentation_CMP_ERG_rep1  ChIPmentation CMP       ERG      rep1 CMP_ERG_rep1  SRR24388802,\n",
       "2 GSM7277347 ChIPmentation_CMP_ERG_rep2  ChIPmentation CMP       ERG      rep2 CMP_ERG_rep2  SRR24388801,\n",
       "3 GSM7277348 ChIPmentation_CMP_ERG_rep3  ChIPmentation CMP       ERG      rep3 CMP_ERG_rep3  SRR24388800,\n",
       "4 GSM7277349 ChIPmentation_CMP_FLI1_rep1 ChIPmentation CMP       FLI1     rep1 CMP_FLI1_rep1 SRR24388799,\n",
       "5 GSM7277350 ChIPmentation_CMP_FLI1_rep2 ChIPmentation CMP       FLI1     rep2 CMP_FLI1_rep2 SRR24388798,\n",
       "6 GSM7277351 ChIPmentation_CMP_FLI1_rep3 ChIPmentation CMP       FLI1     rep3 CMP_FLI1_rep3 SRR24388797,"
      ]
     },
     "metadata": {},
     "output_type": "display_data"
    }
   ],
   "source": [
    "dsn_gse231486[, srr_id := {system(paste0('~/edirect/esearch -db sra -query \"', gsm_id, '\" | efetch -format docsum | accn-at-a-time | grep -i srr | tr [:lower:] [:upper:] | tr \"\\n\" \",\" '), \n",
    "                                   intern = T)}, by = 1:nrow(dsn_gse231486)]\n",
    "head(dsn_gse231486)\n",
    "#fwrite(dsn_gse231486, file = 'dsn_gse231486.tsv')\n"
   ]
  },
  {
   "cell_type": "code",
   "execution_count": 83,
   "id": "16d7b1b2-3b8e-4a46-9287-9e2fc948a709",
   "metadata": {},
   "outputs": [
    {
     "data": {
      "text/html": [
       "<table class=\"dataframe\">\n",
       "<caption>A data.table: 6 × 9</caption>\n",
       "<thead>\n",
       "\t<tr><th scope=col>gsm_id</th><th scope=col>tag</th><th scope=col>assay</th><th scope=col>cell_type</th><th scope=col>antibody</th><th scope=col>rep</th><th scope=col>sample_name</th><th scope=col>srr_id</th><th scope=col>srr_ids</th></tr>\n",
       "\t<tr><th scope=col>&lt;chr&gt;</th><th scope=col>&lt;chr&gt;</th><th scope=col>&lt;chr&gt;</th><th scope=col>&lt;chr&gt;</th><th scope=col>&lt;chr&gt;</th><th scope=col>&lt;chr&gt;</th><th scope=col>&lt;chr&gt;</th><th scope=col>&lt;chr&gt;</th><th scope=col>&lt;chr&gt;</th></tr>\n",
       "</thead>\n",
       "<tbody>\n",
       "\t<tr><td>GSM7277346</td><td>ChIPmentation_CMP_ERG_rep1 </td><td>ChIPmentation</td><td>CMP</td><td>ERG </td><td>rep1</td><td>CMP_ERG_rep1 </td><td>SRR24388802,</td><td>SRR24388802</td></tr>\n",
       "\t<tr><td>GSM7277347</td><td>ChIPmentation_CMP_ERG_rep2 </td><td>ChIPmentation</td><td>CMP</td><td>ERG </td><td>rep2</td><td>CMP_ERG_rep2 </td><td>SRR24388801,</td><td>SRR24388801</td></tr>\n",
       "\t<tr><td>GSM7277348</td><td>ChIPmentation_CMP_ERG_rep3 </td><td>ChIPmentation</td><td>CMP</td><td>ERG </td><td>rep3</td><td>CMP_ERG_rep3 </td><td>SRR24388800,</td><td>SRR24388800</td></tr>\n",
       "\t<tr><td>GSM7277349</td><td>ChIPmentation_CMP_FLI1_rep1</td><td>ChIPmentation</td><td>CMP</td><td>FLI1</td><td>rep1</td><td>CMP_FLI1_rep1</td><td>SRR24388799,</td><td>SRR24388799</td></tr>\n",
       "\t<tr><td>GSM7277350</td><td>ChIPmentation_CMP_FLI1_rep2</td><td>ChIPmentation</td><td>CMP</td><td>FLI1</td><td>rep2</td><td>CMP_FLI1_rep2</td><td>SRR24388798,</td><td>SRR24388798</td></tr>\n",
       "\t<tr><td>GSM7277351</td><td>ChIPmentation_CMP_FLI1_rep3</td><td>ChIPmentation</td><td>CMP</td><td>FLI1</td><td>rep3</td><td>CMP_FLI1_rep3</td><td>SRR24388797,</td><td>SRR24388797</td></tr>\n",
       "</tbody>\n",
       "</table>\n"
      ],
      "text/latex": [
       "A data.table: 6 × 9\n",
       "\\begin{tabular}{lllllllll}\n",
       " gsm\\_id & tag & assay & cell\\_type & antibody & rep & sample\\_name & srr\\_id & srr\\_ids\\\\\n",
       " <chr> & <chr> & <chr> & <chr> & <chr> & <chr> & <chr> & <chr> & <chr>\\\\\n",
       "\\hline\n",
       "\t GSM7277346 & ChIPmentation\\_CMP\\_ERG\\_rep1  & ChIPmentation & CMP & ERG  & rep1 & CMP\\_ERG\\_rep1  & SRR24388802, & SRR24388802\\\\\n",
       "\t GSM7277347 & ChIPmentation\\_CMP\\_ERG\\_rep2  & ChIPmentation & CMP & ERG  & rep2 & CMP\\_ERG\\_rep2  & SRR24388801, & SRR24388801\\\\\n",
       "\t GSM7277348 & ChIPmentation\\_CMP\\_ERG\\_rep3  & ChIPmentation & CMP & ERG  & rep3 & CMP\\_ERG\\_rep3  & SRR24388800, & SRR24388800\\\\\n",
       "\t GSM7277349 & ChIPmentation\\_CMP\\_FLI1\\_rep1 & ChIPmentation & CMP & FLI1 & rep1 & CMP\\_FLI1\\_rep1 & SRR24388799, & SRR24388799\\\\\n",
       "\t GSM7277350 & ChIPmentation\\_CMP\\_FLI1\\_rep2 & ChIPmentation & CMP & FLI1 & rep2 & CMP\\_FLI1\\_rep2 & SRR24388798, & SRR24388798\\\\\n",
       "\t GSM7277351 & ChIPmentation\\_CMP\\_FLI1\\_rep3 & ChIPmentation & CMP & FLI1 & rep3 & CMP\\_FLI1\\_rep3 & SRR24388797, & SRR24388797\\\\\n",
       "\\end{tabular}\n"
      ],
      "text/markdown": [
       "\n",
       "A data.table: 6 × 9\n",
       "\n",
       "| gsm_id &lt;chr&gt; | tag &lt;chr&gt; | assay &lt;chr&gt; | cell_type &lt;chr&gt; | antibody &lt;chr&gt; | rep &lt;chr&gt; | sample_name &lt;chr&gt; | srr_id &lt;chr&gt; | srr_ids &lt;chr&gt; |\n",
       "|---|---|---|---|---|---|---|---|---|\n",
       "| GSM7277346 | ChIPmentation_CMP_ERG_rep1  | ChIPmentation | CMP | ERG  | rep1 | CMP_ERG_rep1  | SRR24388802, | SRR24388802 |\n",
       "| GSM7277347 | ChIPmentation_CMP_ERG_rep2  | ChIPmentation | CMP | ERG  | rep2 | CMP_ERG_rep2  | SRR24388801, | SRR24388801 |\n",
       "| GSM7277348 | ChIPmentation_CMP_ERG_rep3  | ChIPmentation | CMP | ERG  | rep3 | CMP_ERG_rep3  | SRR24388800, | SRR24388800 |\n",
       "| GSM7277349 | ChIPmentation_CMP_FLI1_rep1 | ChIPmentation | CMP | FLI1 | rep1 | CMP_FLI1_rep1 | SRR24388799, | SRR24388799 |\n",
       "| GSM7277350 | ChIPmentation_CMP_FLI1_rep2 | ChIPmentation | CMP | FLI1 | rep2 | CMP_FLI1_rep2 | SRR24388798, | SRR24388798 |\n",
       "| GSM7277351 | ChIPmentation_CMP_FLI1_rep3 | ChIPmentation | CMP | FLI1 | rep3 | CMP_FLI1_rep3 | SRR24388797, | SRR24388797 |\n",
       "\n"
      ],
      "text/plain": [
       "  gsm_id     tag                         assay         cell_type antibody rep  sample_name   srr_id       srr_ids    \n",
       "1 GSM7277346 ChIPmentation_CMP_ERG_rep1  ChIPmentation CMP       ERG      rep1 CMP_ERG_rep1  SRR24388802, SRR24388802\n",
       "2 GSM7277347 ChIPmentation_CMP_ERG_rep2  ChIPmentation CMP       ERG      rep2 CMP_ERG_rep2  SRR24388801, SRR24388801\n",
       "3 GSM7277348 ChIPmentation_CMP_ERG_rep3  ChIPmentation CMP       ERG      rep3 CMP_ERG_rep3  SRR24388800, SRR24388800\n",
       "4 GSM7277349 ChIPmentation_CMP_FLI1_rep1 ChIPmentation CMP       FLI1     rep1 CMP_FLI1_rep1 SRR24388799, SRR24388799\n",
       "5 GSM7277350 ChIPmentation_CMP_FLI1_rep2 ChIPmentation CMP       FLI1     rep2 CMP_FLI1_rep2 SRR24388798, SRR24388798\n",
       "6 GSM7277351 ChIPmentation_CMP_FLI1_rep3 ChIPmentation CMP       FLI1     rep3 CMP_FLI1_rep3 SRR24388797, SRR24388797"
      ]
     },
     "metadata": {},
     "output_type": "display_data"
    }
   ],
   "source": [
    "dsn_gse231486 = fread('dsn_gse231486.tsv')\n",
    "dsn_gse231486[, srr_ids := sub(',$', '', srr_id)]\n",
    "#dsn_gse231486 = dsn_gse231486[, .(srr_id = unlist(tstrsplit(sra_id, '_', type.convert = TRUE))), by = 'sample_name']\n",
    "dsn_gse231486 = dsn_gse231486 %>% \n",
    "group_by(sample_name) %>% \n",
    "separate_rows(srr_ids, sep = \",\") %>% \n",
    "filter(!is.na(srr_ids))\n",
    "dsn_gse231486 = as.data.table(dsn_gse231486)\n",
    "#dsn_gse231486 = dsn_gse231486[!is.na(srr_id), ]\n",
    "head(dsn_gse231486)\n"
   ]
  },
  {
   "cell_type": "code",
   "execution_count": 84,
   "id": "c4430259-a9d3-41a0-a095-f3888aa81b37",
   "metadata": {},
   "outputs": [
    {
     "data": {
      "text/plain": [
       "\n",
       "    CTCF      ERG     FLI1    GATA2  H3K27ac H3K27me3  H3K4me3      HiC   HIChIP      IgG     LMO2     LYL1     Pol2      PU1    RUNX1    STAG2     TAL1 \n",
       "      14       14       14       14        4        4        4       16       10        4       14       14       10       14       14       12       14 "
      ]
     },
     "metadata": {},
     "output_type": "display_data"
    }
   ],
   "source": [
    "table(dsn_gse231486$antibody)"
   ]
  },
  {
   "cell_type": "markdown",
   "id": "dd6897b5-41cf-44d4-9593-89f3a308b81e",
   "metadata": {},
   "source": [
    "# bloodChIP extra\n",
    "for cell lines chip-seq and atac-seq"
   ]
  },
  {
   "cell_type": "code",
   "execution_count": 85,
   "id": "e31036fd-a2b3-478e-9665-999e96ae97f4",
   "metadata": {},
   "outputs": [
    {
     "data": {
      "text/html": [
       "<table class=\"dataframe\">\n",
       "<caption>A data.table: 6 × 8</caption>\n",
       "<thead>\n",
       "\t<tr><th scope=col>index</th><th scope=col>cell_type</th><th scope=col>antibody</th><th scope=col>pmid</th><th scope=col>accession</th><th scope=col>sra_id</th><th scope=col>tag</th><th scope=col>sample_name</th></tr>\n",
       "\t<tr><th scope=col>&lt;int&gt;</th><th scope=col>&lt;chr&gt;</th><th scope=col>&lt;chr&gt;</th><th scope=col>&lt;int&gt;</th><th scope=col>&lt;chr&gt;</th><th scope=col>&lt;chr&gt;</th><th scope=col>&lt;chr&gt;</th><th scope=col>&lt;chr&gt;</th></tr>\n",
       "</thead>\n",
       "<tbody>\n",
       "\t<tr><td>1</td><td>Kasumi1</td><td>ATAC </td><td>34010414</td><td>E-MTAB-9021</td><td>ERR4084850</td><td>Kasumi1_ATAC </td><td>Kasumi1_ATAC_rep1 </td></tr>\n",
       "\t<tr><td>1</td><td>Kasumi1</td><td>ATAC </td><td>34010414</td><td>E-MTAB-9021</td><td>ERR4084851</td><td>Kasumi1_ATAC </td><td>Kasumi1_ATAC_rep1 </td></tr>\n",
       "\t<tr><td>1</td><td>Kasumi1</td><td>ATAC </td><td>34010414</td><td>E-MTAB-9021</td><td>ERR4084852</td><td>Kasumi1_ATAC </td><td>Kasumi1_ATAC_rep1 </td></tr>\n",
       "\t<tr><td>2</td><td>Kasumi1</td><td>ERG  </td><td>27851970</td><td>GSM2026052 </td><td>SRR3082396</td><td>Kasumi1_ERG  </td><td>Kasumi1_ERG_rep1  </td></tr>\n",
       "\t<tr><td>3</td><td>Kasumi1</td><td>FLI1 </td><td>27851970</td><td>GSM2026051 </td><td>SRR3082395</td><td>Kasumi1_FLI1 </td><td>Kasumi1_FLI1_rep1 </td></tr>\n",
       "\t<tr><td>4</td><td>Kasumi1</td><td>GATA2</td><td>27851970</td><td>GSM2026054 </td><td>SRR3082398</td><td>Kasumi1_GATA2</td><td>Kasumi1_GATA2_rep1</td></tr>\n",
       "</tbody>\n",
       "</table>\n"
      ],
      "text/latex": [
       "A data.table: 6 × 8\n",
       "\\begin{tabular}{llllllll}\n",
       " index & cell\\_type & antibody & pmid & accession & sra\\_id & tag & sample\\_name\\\\\n",
       " <int> & <chr> & <chr> & <int> & <chr> & <chr> & <chr> & <chr>\\\\\n",
       "\\hline\n",
       "\t 1 & Kasumi1 & ATAC  & 34010414 & E-MTAB-9021 & ERR4084850 & Kasumi1\\_ATAC  & Kasumi1\\_ATAC\\_rep1 \\\\\n",
       "\t 1 & Kasumi1 & ATAC  & 34010414 & E-MTAB-9021 & ERR4084851 & Kasumi1\\_ATAC  & Kasumi1\\_ATAC\\_rep1 \\\\\n",
       "\t 1 & Kasumi1 & ATAC  & 34010414 & E-MTAB-9021 & ERR4084852 & Kasumi1\\_ATAC  & Kasumi1\\_ATAC\\_rep1 \\\\\n",
       "\t 2 & Kasumi1 & ERG   & 27851970 & GSM2026052  & SRR3082396 & Kasumi1\\_ERG   & Kasumi1\\_ERG\\_rep1  \\\\\n",
       "\t 3 & Kasumi1 & FLI1  & 27851970 & GSM2026051  & SRR3082395 & Kasumi1\\_FLI1  & Kasumi1\\_FLI1\\_rep1 \\\\\n",
       "\t 4 & Kasumi1 & GATA2 & 27851970 & GSM2026054  & SRR3082398 & Kasumi1\\_GATA2 & Kasumi1\\_GATA2\\_rep1\\\\\n",
       "\\end{tabular}\n"
      ],
      "text/markdown": [
       "\n",
       "A data.table: 6 × 8\n",
       "\n",
       "| index &lt;int&gt; | cell_type &lt;chr&gt; | antibody &lt;chr&gt; | pmid &lt;int&gt; | accession &lt;chr&gt; | sra_id &lt;chr&gt; | tag &lt;chr&gt; | sample_name &lt;chr&gt; |\n",
       "|---|---|---|---|---|---|---|---|\n",
       "| 1 | Kasumi1 | ATAC  | 34010414 | E-MTAB-9021 | ERR4084850 | Kasumi1_ATAC  | Kasumi1_ATAC_rep1  |\n",
       "| 1 | Kasumi1 | ATAC  | 34010414 | E-MTAB-9021 | ERR4084851 | Kasumi1_ATAC  | Kasumi1_ATAC_rep1  |\n",
       "| 1 | Kasumi1 | ATAC  | 34010414 | E-MTAB-9021 | ERR4084852 | Kasumi1_ATAC  | Kasumi1_ATAC_rep1  |\n",
       "| 2 | Kasumi1 | ERG   | 27851970 | GSM2026052  | SRR3082396 | Kasumi1_ERG   | Kasumi1_ERG_rep1   |\n",
       "| 3 | Kasumi1 | FLI1  | 27851970 | GSM2026051  | SRR3082395 | Kasumi1_FLI1  | Kasumi1_FLI1_rep1  |\n",
       "| 4 | Kasumi1 | GATA2 | 27851970 | GSM2026054  | SRR3082398 | Kasumi1_GATA2 | Kasumi1_GATA2_rep1 |\n",
       "\n"
      ],
      "text/plain": [
       "  index cell_type antibody pmid     accession   sra_id     tag           sample_name       \n",
       "1 1     Kasumi1   ATAC     34010414 E-MTAB-9021 ERR4084850 Kasumi1_ATAC  Kasumi1_ATAC_rep1 \n",
       "2 1     Kasumi1   ATAC     34010414 E-MTAB-9021 ERR4084851 Kasumi1_ATAC  Kasumi1_ATAC_rep1 \n",
       "3 1     Kasumi1   ATAC     34010414 E-MTAB-9021 ERR4084852 Kasumi1_ATAC  Kasumi1_ATAC_rep1 \n",
       "4 2     Kasumi1   ERG      27851970 GSM2026052  SRR3082396 Kasumi1_ERG   Kasumi1_ERG_rep1  \n",
       "5 3     Kasumi1   FLI1     27851970 GSM2026051  SRR3082395 Kasumi1_FLI1  Kasumi1_FLI1_rep1 \n",
       "6 4     Kasumi1   GATA2    27851970 GSM2026054  SRR3082398 Kasumi1_GATA2 Kasumi1_GATA2_rep1"
      ]
     },
     "metadata": {},
     "output_type": "display_data"
    }
   ],
   "source": [
    "dsn = fread('/research_jude/rgs01_jude/groups/jxugrp/home/common/Lab_Members/WenhuoHu/TE/enhancer/table2')\n",
    "setnames(dsn, c('cell_type', 'antibody', 'pmid', 'accession', 'sra_id'))\n",
    "dsn[, tag := paste0(cell_type, '_', antibody)]\n",
    "dsn[, index := 1:nrow(dsn)]\n",
    "dsn = relocate(dsn, 'index')\n",
    "\n",
    "cell_lines = c('Kasumi1', 'KG1', 'ME1', 'TSU1621MT')\n",
    "dsn = dsn[cell_type %in% cell_lines, ]\n",
    "dsn[, sample_name := paste0(cell_type, '_', antibody, '_rep1')]\n",
    "#dsn = dsn[, .(srr_id = unlist(tstrsplit(sra_id, '_', type.convert = TRUE))), by = 'sample_name']\n",
    "\n",
    "#dsn[, cell_type := sub('(.*)_(.*)_(.*)', '\\\\1', sample_name)]\n",
    "#dsn[, antibody := sub('(.*)_(.*)_(.*)', '\\\\2', sample_name)]\n",
    "#dsn[, rep := sub('(.*)_(.*)_(.*)', '\\\\3', sample_name)]\n",
    "dsn = dsn %>% group_by(sample_name) %>% separate_rows(sra_id, sep = '_') %>% filter(!is.na(sra_id)) \n",
    "dsn = as.data.table(dsn)\n",
    "head(dsn)\n"
   ]
  },
  {
   "cell_type": "code",
   "execution_count": null,
   "id": "653f95a4-9363-4b78-8659-5493ab9bc7d7",
   "metadata": {},
   "outputs": [],
   "source": []
  },
  {
   "cell_type": "code",
   "execution_count": 97,
   "id": "414758bc-8b51-4b34-a5f8-400365c50348",
   "metadata": {},
   "outputs": [
    {
     "data": {
      "text/html": [
       "<table class=\"dataframe\">\n",
       "<caption>A data.table: 6 × 4</caption>\n",
       "<thead>\n",
       "\t<tr><th scope=col>sample_name</th><th scope=col>cell_type</th><th scope=col>antibody</th><th scope=col>srr_id</th></tr>\n",
       "\t<tr><th scope=col>&lt;chr&gt;</th><th scope=col>&lt;chr&gt;</th><th scope=col>&lt;chr&gt;</th><th scope=col>&lt;chr&gt;</th></tr>\n",
       "</thead>\n",
       "<tbody>\n",
       "\t<tr><td>Kasumi1_ATAC_rep1 </td><td>Kasumi1</td><td>ATAC </td><td>ERR4084850</td></tr>\n",
       "\t<tr><td>Kasumi1_ATAC_rep1 </td><td>Kasumi1</td><td>ATAC </td><td>ERR4084851</td></tr>\n",
       "\t<tr><td>Kasumi1_ATAC_rep1 </td><td>Kasumi1</td><td>ATAC </td><td>ERR4084852</td></tr>\n",
       "\t<tr><td>Kasumi1_ERG_rep1  </td><td>Kasumi1</td><td>ERG  </td><td>SRR3082396</td></tr>\n",
       "\t<tr><td>Kasumi1_FLI1_rep1 </td><td>Kasumi1</td><td>FLI1 </td><td>SRR3082395</td></tr>\n",
       "\t<tr><td>Kasumi1_GATA2_rep1</td><td>Kasumi1</td><td>GATA2</td><td>SRR3082398</td></tr>\n",
       "</tbody>\n",
       "</table>\n"
      ],
      "text/latex": [
       "A data.table: 6 × 4\n",
       "\\begin{tabular}{llll}\n",
       " sample\\_name & cell\\_type & antibody & srr\\_id\\\\\n",
       " <chr> & <chr> & <chr> & <chr>\\\\\n",
       "\\hline\n",
       "\t Kasumi1\\_ATAC\\_rep1  & Kasumi1 & ATAC  & ERR4084850\\\\\n",
       "\t Kasumi1\\_ATAC\\_rep1  & Kasumi1 & ATAC  & ERR4084851\\\\\n",
       "\t Kasumi1\\_ATAC\\_rep1  & Kasumi1 & ATAC  & ERR4084852\\\\\n",
       "\t Kasumi1\\_ERG\\_rep1   & Kasumi1 & ERG   & SRR3082396\\\\\n",
       "\t Kasumi1\\_FLI1\\_rep1  & Kasumi1 & FLI1  & SRR3082395\\\\\n",
       "\t Kasumi1\\_GATA2\\_rep1 & Kasumi1 & GATA2 & SRR3082398\\\\\n",
       "\\end{tabular}\n"
      ],
      "text/markdown": [
       "\n",
       "A data.table: 6 × 4\n",
       "\n",
       "| sample_name &lt;chr&gt; | cell_type &lt;chr&gt; | antibody &lt;chr&gt; | srr_id &lt;chr&gt; |\n",
       "|---|---|---|---|\n",
       "| Kasumi1_ATAC_rep1  | Kasumi1 | ATAC  | ERR4084850 |\n",
       "| Kasumi1_ATAC_rep1  | Kasumi1 | ATAC  | ERR4084851 |\n",
       "| Kasumi1_ATAC_rep1  | Kasumi1 | ATAC  | ERR4084852 |\n",
       "| Kasumi1_ERG_rep1   | Kasumi1 | ERG   | SRR3082396 |\n",
       "| Kasumi1_FLI1_rep1  | Kasumi1 | FLI1  | SRR3082395 |\n",
       "| Kasumi1_GATA2_rep1 | Kasumi1 | GATA2 | SRR3082398 |\n",
       "\n"
      ],
      "text/plain": [
       "  sample_name        cell_type antibody srr_id    \n",
       "1 Kasumi1_ATAC_rep1  Kasumi1   ATAC     ERR4084850\n",
       "2 Kasumi1_ATAC_rep1  Kasumi1   ATAC     ERR4084851\n",
       "3 Kasumi1_ATAC_rep1  Kasumi1   ATAC     ERR4084852\n",
       "4 Kasumi1_ERG_rep1   Kasumi1   ERG      SRR3082396\n",
       "5 Kasumi1_FLI1_rep1  Kasumi1   FLI1     SRR3082395\n",
       "6 Kasumi1_GATA2_rep1 Kasumi1   GATA2    SRR3082398"
      ]
     },
     "metadata": {},
     "output_type": "display_data"
    }
   ],
   "source": [
    "dsn = rbind(dsn[, .(sample_name, cell_type, antibody, sra_id)], dsn_gse231486[, .(sample_name, cell_type, antibody, srr_ids)], use.names = F)\n",
    "setnames(dsn, 'sra_id', 'srr_id')\n",
    "head(dsn)\n"
   ]
  },
  {
   "cell_type": "code",
   "execution_count": 87,
   "id": "e42ff65a-446f-476b-b0ca-806069eed2b3",
   "metadata": {},
   "outputs": [],
   "source": [
    "fwrite(dsn, file = 'dsn_step2.tsv')"
   ]
  },
  {
   "cell_type": "code",
   "execution_count": 88,
   "id": "990334a6-1bba-4fb7-be36-573224998669",
   "metadata": {},
   "outputs": [
    {
     "data": {
      "text/plain": [
       "\n",
       "    ATAC     CTCF      ERG     FLI1    GATA2  H3K27ac  H3K27Ac H3K27me3  H3K4me3      HiC   HIChIP      IgG     LMO2     LYL1     Pol2     PU.1      PU1   RNAseq    RUNX1    STAG2 \n",
       "       7       14       18       18       18        4        3        4        4       16       10        6       18       18       10        4       14        2       18       12 \n",
       "    TAL1 \n",
       "      18 "
      ]
     },
     "metadata": {},
     "output_type": "display_data"
    }
   ],
   "source": [
    "table(dsn$antibody)"
   ]
  },
  {
   "cell_type": "code",
   "execution_count": 152,
   "id": "16fb114f-15c7-4ddb-aa52-e7a87bdb490e",
   "metadata": {},
   "outputs": [
    {
     "data": {
      "text/html": [
       "<table class=\"dataframe\">\n",
       "<caption>A data.table: 6 × 5</caption>\n",
       "<thead>\n",
       "\t<tr><th scope=col>sample_name</th><th scope=col>cell_type</th><th scope=col>antibody</th><th scope=col>sra_id</th><th scope=col>srr_id</th></tr>\n",
       "\t<tr><th scope=col>&lt;chr&gt;</th><th scope=col>&lt;chr&gt;</th><th scope=col>&lt;chr&gt;</th><th scope=col>&lt;chr&gt;</th><th scope=col>&lt;chr&gt;</th></tr>\n",
       "</thead>\n",
       "<tbody>\n",
       "\t<tr><td>Kasumi1_ATAC_rep1 </td><td>Kasumi1</td><td>ATAC </td><td>ERR4084850</td><td>ERR4084850</td></tr>\n",
       "\t<tr><td>Kasumi1_ATAC_rep1 </td><td>Kasumi1</td><td>ATAC </td><td>ERR4084851</td><td>ERR4084851</td></tr>\n",
       "\t<tr><td>Kasumi1_ATAC_rep1 </td><td>Kasumi1</td><td>ATAC </td><td>ERR4084852</td><td>ERR4084852</td></tr>\n",
       "\t<tr><td>Kasumi1_ERG_rep1  </td><td>Kasumi1</td><td>ERG  </td><td>SRR3082396</td><td>SRR3082396</td></tr>\n",
       "\t<tr><td>Kasumi1_FLI1_rep1 </td><td>Kasumi1</td><td>FLI1 </td><td>SRR3082395</td><td>SRR3082395</td></tr>\n",
       "\t<tr><td>Kasumi1_GATA2_rep1</td><td>Kasumi1</td><td>GATA2</td><td>SRR3082398</td><td>SRR3082398</td></tr>\n",
       "</tbody>\n",
       "</table>\n"
      ],
      "text/latex": [
       "A data.table: 6 × 5\n",
       "\\begin{tabular}{lllll}\n",
       " sample\\_name & cell\\_type & antibody & sra\\_id & srr\\_id\\\\\n",
       " <chr> & <chr> & <chr> & <chr> & <chr>\\\\\n",
       "\\hline\n",
       "\t Kasumi1\\_ATAC\\_rep1  & Kasumi1 & ATAC  & ERR4084850 & ERR4084850\\\\\n",
       "\t Kasumi1\\_ATAC\\_rep1  & Kasumi1 & ATAC  & ERR4084851 & ERR4084851\\\\\n",
       "\t Kasumi1\\_ATAC\\_rep1  & Kasumi1 & ATAC  & ERR4084852 & ERR4084852\\\\\n",
       "\t Kasumi1\\_ERG\\_rep1   & Kasumi1 & ERG   & SRR3082396 & SRR3082396\\\\\n",
       "\t Kasumi1\\_FLI1\\_rep1  & Kasumi1 & FLI1  & SRR3082395 & SRR3082395\\\\\n",
       "\t Kasumi1\\_GATA2\\_rep1 & Kasumi1 & GATA2 & SRR3082398 & SRR3082398\\\\\n",
       "\\end{tabular}\n"
      ],
      "text/markdown": [
       "\n",
       "A data.table: 6 × 5\n",
       "\n",
       "| sample_name &lt;chr&gt; | cell_type &lt;chr&gt; | antibody &lt;chr&gt; | sra_id &lt;chr&gt; | srr_id &lt;chr&gt; |\n",
       "|---|---|---|---|---|\n",
       "| Kasumi1_ATAC_rep1  | Kasumi1 | ATAC  | ERR4084850 | ERR4084850 |\n",
       "| Kasumi1_ATAC_rep1  | Kasumi1 | ATAC  | ERR4084851 | ERR4084851 |\n",
       "| Kasumi1_ATAC_rep1  | Kasumi1 | ATAC  | ERR4084852 | ERR4084852 |\n",
       "| Kasumi1_ERG_rep1   | Kasumi1 | ERG   | SRR3082396 | SRR3082396 |\n",
       "| Kasumi1_FLI1_rep1  | Kasumi1 | FLI1  | SRR3082395 | SRR3082395 |\n",
       "| Kasumi1_GATA2_rep1 | Kasumi1 | GATA2 | SRR3082398 | SRR3082398 |\n",
       "\n"
      ],
      "text/plain": [
       "  sample_name        cell_type antibody sra_id     srr_id    \n",
       "1 Kasumi1_ATAC_rep1  Kasumi1   ATAC     ERR4084850 ERR4084850\n",
       "2 Kasumi1_ATAC_rep1  Kasumi1   ATAC     ERR4084851 ERR4084851\n",
       "3 Kasumi1_ATAC_rep1  Kasumi1   ATAC     ERR4084852 ERR4084852\n",
       "4 Kasumi1_ERG_rep1   Kasumi1   ERG      SRR3082396 SRR3082396\n",
       "5 Kasumi1_FLI1_rep1  Kasumi1   FLI1     SRR3082395 SRR3082395\n",
       "6 Kasumi1_GATA2_rep1 Kasumi1   GATA2    SRR3082398 SRR3082398"
      ]
     },
     "metadata": {},
     "output_type": "display_data"
    }
   ],
   "source": [
    "dsn = fread('dsn_step2.tsv')\n",
    "dsn[, srr_id := sra_id]\n",
    "head(dsn)\n"
   ]
  },
  {
   "cell_type": "code",
   "execution_count": 154,
   "id": "a66af4d6-fa1e-47b2-ac5b-b05db1cc39ad",
   "metadata": {},
   "outputs": [
    {
     "data": {
      "text/html": [
       "'/research_jude/rgs01_jude/groups/jxugrp/home/common/Data_Public/ATAC-seq/Hematopoietic_lineages_batch3/'"
      ],
      "text/latex": [
       "'/research\\_jude/rgs01\\_jude/groups/jxugrp/home/common/Data\\_Public/ATAC-seq/Hematopoietic\\_lineages\\_batch3/'"
      ],
      "text/markdown": [
       "'/research_jude/rgs01_jude/groups/jxugrp/home/common/Data_Public/ATAC-seq/Hematopoietic_lineages_batch3/'"
      ],
      "text/plain": [
       "[1] \"/research_jude/rgs01_jude/groups/jxugrp/home/common/Data_Public/ATAC-seq/Hematopoietic_lineages_batch3/\""
      ]
     },
     "metadata": {},
     "output_type": "display_data"
    }
   ],
   "source": [
    "data_dir"
   ]
  },
  {
   "cell_type": "markdown",
   "id": "f8ddfb18-8b19-42d8-afaa-b5e8fe9b68e8",
   "metadata": {},
   "source": [
    "# download fastq files"
   ]
  },
  {
   "cell_type": "code",
   "execution_count": 161,
   "id": "39720e8c-9a97-40d8-903b-6e31e7b9f787",
   "metadata": {},
   "outputs": [],
   "source": [
    "dsn[, sample_dir := paste0(data_dir, sample_name, '/')]\n",
    "dsn[, sra_file := paste0(sample_dir, srr_id, '/', srr_id, '.sra')]  \n"
   ]
  },
  {
   "cell_type": "code",
   "execution_count": 155,
   "id": "fa8f18c5-59b1-4e32-a7ce-a20f3cdf24c3",
   "metadata": {},
   "outputs": [],
   "source": [
    "dsn[, prefetch_cmd := paste0('prefetch ',     srr_id, ' -O ', sample_dir, ' --max-size 40g')]\n",
    "dsn[, fastqdump_cmd:= paste0('cd ', sample_dir, ' && fasterq-dump ', srr_id, ' --outdir ', sample_dir)]\n",
    "\n",
    "# if single end seq\n",
    "dsn[, dump_r := paste0(sample_dir,  '/', srr_id, '.fastq')]\n",
    "# if double end seq\n",
    "dsn[, dump_r1 := paste0(sample_dir, '/', srr_id, '_1.fastq')] \n",
    "dsn[, dump_r2 := paste0(sample_dir, '/', srr_id, '_2.fastq')]\n",
    "\n",
    "dsn[, gz_r_cmd := paste0(' gzip ', dump_r)]\n",
    "dsn[, gz_r1_cmd := paste0(' gzip ', dump_r1)]\n",
    "dsn[, gz_r2_cmd := paste0(' gzip ', dump_r2)]\n"
   ]
  },
  {
   "cell_type": "code",
   "execution_count": 103,
   "id": "9f4d98fb-fab4-4cc6-80c5-11a4cfedab98",
   "metadata": {},
   "outputs": [
    {
     "data": {
      "text/html": [
       "'prefetch SRR3082396 -O /research_jude/rgs01_jude/groups/jxugrp/home/common/Data_Public/ATAC-seq/Hematopoietic_lineages_batch3/Kasumi1_ERG_rep1/ --max-size 40g'"
      ],
      "text/latex": [
       "'prefetch SRR3082396 -O /research\\_jude/rgs01\\_jude/groups/jxugrp/home/common/Data\\_Public/ATAC-seq/Hematopoietic\\_lineages\\_batch3/Kasumi1\\_ERG\\_rep1/ --max-size 40g'"
      ],
      "text/markdown": [
       "'prefetch SRR3082396 -O /research_jude/rgs01_jude/groups/jxugrp/home/common/Data_Public/ATAC-seq/Hematopoietic_lineages_batch3/Kasumi1_ERG_rep1/ --max-size 40g'"
      ],
      "text/plain": [
       "[1] \"prefetch SRR3082396 -O /research_jude/rgs01_jude/groups/jxugrp/home/common/Data_Public/ATAC-seq/Hematopoietic_lineages_batch3/Kasumi1_ERG_rep1/ --max-size 40g\""
      ]
     },
     "metadata": {},
     "output_type": "display_data"
    }
   ],
   "source": [
    "write(dsn[grep('SRR', srr_id), prefetch_cmd], file = 'run_batch3_prefetch.sh')\n",
    "dsn[grep('SRR', srr_id), prefetch_cmd][1]\n"
   ]
  },
  {
   "cell_type": "code",
   "execution_count": 133,
   "id": "2ddc10c6-9932-4170-bbf1-ce075ff91f6b",
   "metadata": {},
   "outputs": [],
   "source": [
    "write(dsn[, fastqdump_cmd], file = 'run_batch3_fastq_dump.sh')\n"
   ]
  },
  {
   "cell_type": "code",
   "execution_count": 156,
   "id": "c7066e99-d134-4e8e-b9ac-591eb296676c",
   "metadata": {},
   "outputs": [
    {
     "data": {
      "text/plain": [
       "\n",
       "FALSE  TRUE \n",
       "   64   172 "
      ]
     },
     "metadata": {},
     "output_type": "display_data"
    }
   ],
   "source": [
    "table(file.exists(dsn$dump_r1))"
   ]
  },
  {
   "cell_type": "code",
   "execution_count": 164,
   "id": "c4d90a24-1130-41a9-a60c-85fad8cba8ae",
   "metadata": {},
   "outputs": [
    {
     "data": {
      "text/html": [
       "<style>\n",
       ".list-inline {list-style: none; margin:0; padding: 0}\n",
       ".list-inline>li {display: inline-block}\n",
       ".list-inline>li:not(:last-child)::after {content: \"\\00b7\"; padding: 0 .5ex}\n",
       "</style>\n",
       "<ol class=list-inline><li>FALSE</li><li>FALSE</li><li>FALSE</li><li>TRUE</li><li>TRUE</li><li>TRUE</li><li>TRUE</li><li>TRUE</li><li>TRUE</li><li>TRUE</li><li>TRUE</li><li>TRUE</li><li>TRUE</li><li>TRUE</li><li>TRUE</li><li>TRUE</li><li>TRUE</li><li>TRUE</li><li>TRUE</li><li>TRUE</li><li>TRUE</li><li>TRUE</li><li>TRUE</li><li>TRUE</li><li>TRUE</li><li>TRUE</li><li>TRUE</li><li>TRUE</li><li>TRUE</li><li>TRUE</li><li>TRUE</li><li>TRUE</li><li>TRUE</li><li>TRUE</li><li>TRUE</li><li>TRUE</li><li>TRUE</li><li>TRUE</li><li>TRUE</li><li>TRUE</li><li>TRUE</li><li>TRUE</li><li>TRUE</li><li>TRUE</li><li>TRUE</li><li>TRUE</li><li>TRUE</li><li>TRUE</li><li>TRUE</li><li>TRUE</li><li>TRUE</li><li>TRUE</li><li>TRUE</li><li>TRUE</li><li>TRUE</li><li>TRUE</li><li>TRUE</li><li>TRUE</li><li>TRUE</li><li>TRUE</li><li>TRUE</li><li>TRUE</li><li>TRUE</li><li>TRUE</li><li>TRUE</li><li>TRUE</li><li>TRUE</li><li>TRUE</li><li>TRUE</li><li>TRUE</li><li>TRUE</li><li>TRUE</li><li>TRUE</li><li>TRUE</li><li>TRUE</li><li>TRUE</li><li>TRUE</li><li>TRUE</li><li>TRUE</li><li>TRUE</li><li>TRUE</li><li>TRUE</li><li>TRUE</li><li>TRUE</li><li>TRUE</li><li>TRUE</li><li>TRUE</li><li>TRUE</li><li>TRUE</li><li>TRUE</li><li>TRUE</li><li>TRUE</li><li>TRUE</li><li>TRUE</li><li>TRUE</li><li>TRUE</li><li>TRUE</li><li>TRUE</li><li>TRUE</li><li>TRUE</li><li>TRUE</li><li>TRUE</li><li>TRUE</li><li>TRUE</li><li>TRUE</li><li>TRUE</li><li>TRUE</li><li>TRUE</li><li>TRUE</li><li>TRUE</li><li>TRUE</li><li>TRUE</li><li>TRUE</li><li>TRUE</li><li>TRUE</li><li>TRUE</li><li>TRUE</li><li>TRUE</li><li>TRUE</li><li>TRUE</li><li>TRUE</li><li>TRUE</li><li>TRUE</li><li>TRUE</li><li>TRUE</li><li>TRUE</li><li>TRUE</li><li>TRUE</li><li>TRUE</li><li>TRUE</li><li>TRUE</li><li>TRUE</li><li>TRUE</li><li>TRUE</li><li>TRUE</li><li>TRUE</li><li>TRUE</li><li>TRUE</li><li>TRUE</li><li>TRUE</li><li>TRUE</li><li>TRUE</li><li>TRUE</li><li>TRUE</li><li>TRUE</li><li>TRUE</li><li>TRUE</li><li>TRUE</li><li>TRUE</li><li>TRUE</li><li>TRUE</li><li>TRUE</li><li>TRUE</li><li>TRUE</li><li>TRUE</li><li>TRUE</li><li>TRUE</li><li>TRUE</li><li>TRUE</li><li>TRUE</li><li>TRUE</li><li>TRUE</li><li>TRUE</li><li>TRUE</li><li>TRUE</li><li>TRUE</li><li>TRUE</li><li>TRUE</li><li>TRUE</li><li>TRUE</li><li>TRUE</li><li>TRUE</li><li>TRUE</li><li>TRUE</li><li>TRUE</li><li>TRUE</li><li>TRUE</li><li>TRUE</li><li>TRUE</li><li>TRUE</li><li>TRUE</li><li>TRUE</li><li>TRUE</li><li>TRUE</li><li>TRUE</li><li>TRUE</li><li>TRUE</li><li>TRUE</li><li>TRUE</li><li>TRUE</li><li>TRUE</li><li>TRUE</li><li>TRUE</li><li>TRUE</li><li>TRUE</li><li>TRUE</li><li>TRUE</li><li>TRUE</li><li>TRUE</li><li>TRUE</li><li>TRUE</li><li>TRUE</li><li>TRUE</li><li>TRUE</li><li>TRUE</li><li>TRUE</li><li>TRUE</li><li>TRUE</li><li>TRUE</li><li>TRUE</li><li>TRUE</li><li>TRUE</li><li>TRUE</li><li>TRUE</li><li>TRUE</li><li>TRUE</li><li>TRUE</li><li>TRUE</li><li>TRUE</li><li>TRUE</li><li>TRUE</li><li>TRUE</li><li>TRUE</li><li>TRUE</li><li>TRUE</li><li>TRUE</li><li>TRUE</li><li>TRUE</li><li>TRUE</li><li>TRUE</li><li>TRUE</li><li>TRUE</li><li>TRUE</li><li>TRUE</li><li>TRUE</li><li>TRUE</li></ol>\n"
      ],
      "text/latex": [
       "\\begin{enumerate*}\n",
       "\\item FALSE\n",
       "\\item FALSE\n",
       "\\item FALSE\n",
       "\\item TRUE\n",
       "\\item TRUE\n",
       "\\item TRUE\n",
       "\\item TRUE\n",
       "\\item TRUE\n",
       "\\item TRUE\n",
       "\\item TRUE\n",
       "\\item TRUE\n",
       "\\item TRUE\n",
       "\\item TRUE\n",
       "\\item TRUE\n",
       "\\item TRUE\n",
       "\\item TRUE\n",
       "\\item TRUE\n",
       "\\item TRUE\n",
       "\\item TRUE\n",
       "\\item TRUE\n",
       "\\item TRUE\n",
       "\\item TRUE\n",
       "\\item TRUE\n",
       "\\item TRUE\n",
       "\\item TRUE\n",
       "\\item TRUE\n",
       "\\item TRUE\n",
       "\\item TRUE\n",
       "\\item TRUE\n",
       "\\item TRUE\n",
       "\\item TRUE\n",
       "\\item TRUE\n",
       "\\item TRUE\n",
       "\\item TRUE\n",
       "\\item TRUE\n",
       "\\item TRUE\n",
       "\\item TRUE\n",
       "\\item TRUE\n",
       "\\item TRUE\n",
       "\\item TRUE\n",
       "\\item TRUE\n",
       "\\item TRUE\n",
       "\\item TRUE\n",
       "\\item TRUE\n",
       "\\item TRUE\n",
       "\\item TRUE\n",
       "\\item TRUE\n",
       "\\item TRUE\n",
       "\\item TRUE\n",
       "\\item TRUE\n",
       "\\item TRUE\n",
       "\\item TRUE\n",
       "\\item TRUE\n",
       "\\item TRUE\n",
       "\\item TRUE\n",
       "\\item TRUE\n",
       "\\item TRUE\n",
       "\\item TRUE\n",
       "\\item TRUE\n",
       "\\item TRUE\n",
       "\\item TRUE\n",
       "\\item TRUE\n",
       "\\item TRUE\n",
       "\\item TRUE\n",
       "\\item TRUE\n",
       "\\item TRUE\n",
       "\\item TRUE\n",
       "\\item TRUE\n",
       "\\item TRUE\n",
       "\\item TRUE\n",
       "\\item TRUE\n",
       "\\item TRUE\n",
       "\\item TRUE\n",
       "\\item TRUE\n",
       "\\item TRUE\n",
       "\\item TRUE\n",
       "\\item TRUE\n",
       "\\item TRUE\n",
       "\\item TRUE\n",
       "\\item TRUE\n",
       "\\item TRUE\n",
       "\\item TRUE\n",
       "\\item TRUE\n",
       "\\item TRUE\n",
       "\\item TRUE\n",
       "\\item TRUE\n",
       "\\item TRUE\n",
       "\\item TRUE\n",
       "\\item TRUE\n",
       "\\item TRUE\n",
       "\\item TRUE\n",
       "\\item TRUE\n",
       "\\item TRUE\n",
       "\\item TRUE\n",
       "\\item TRUE\n",
       "\\item TRUE\n",
       "\\item TRUE\n",
       "\\item TRUE\n",
       "\\item TRUE\n",
       "\\item TRUE\n",
       "\\item TRUE\n",
       "\\item TRUE\n",
       "\\item TRUE\n",
       "\\item TRUE\n",
       "\\item TRUE\n",
       "\\item TRUE\n",
       "\\item TRUE\n",
       "\\item TRUE\n",
       "\\item TRUE\n",
       "\\item TRUE\n",
       "\\item TRUE\n",
       "\\item TRUE\n",
       "\\item TRUE\n",
       "\\item TRUE\n",
       "\\item TRUE\n",
       "\\item TRUE\n",
       "\\item TRUE\n",
       "\\item TRUE\n",
       "\\item TRUE\n",
       "\\item TRUE\n",
       "\\item TRUE\n",
       "\\item TRUE\n",
       "\\item TRUE\n",
       "\\item TRUE\n",
       "\\item TRUE\n",
       "\\item TRUE\n",
       "\\item TRUE\n",
       "\\item TRUE\n",
       "\\item TRUE\n",
       "\\item TRUE\n",
       "\\item TRUE\n",
       "\\item TRUE\n",
       "\\item TRUE\n",
       "\\item TRUE\n",
       "\\item TRUE\n",
       "\\item TRUE\n",
       "\\item TRUE\n",
       "\\item TRUE\n",
       "\\item TRUE\n",
       "\\item TRUE\n",
       "\\item TRUE\n",
       "\\item TRUE\n",
       "\\item TRUE\n",
       "\\item TRUE\n",
       "\\item TRUE\n",
       "\\item TRUE\n",
       "\\item TRUE\n",
       "\\item TRUE\n",
       "\\item TRUE\n",
       "\\item TRUE\n",
       "\\item TRUE\n",
       "\\item TRUE\n",
       "\\item TRUE\n",
       "\\item TRUE\n",
       "\\item TRUE\n",
       "\\item TRUE\n",
       "\\item TRUE\n",
       "\\item TRUE\n",
       "\\item TRUE\n",
       "\\item TRUE\n",
       "\\item TRUE\n",
       "\\item TRUE\n",
       "\\item TRUE\n",
       "\\item TRUE\n",
       "\\item TRUE\n",
       "\\item TRUE\n",
       "\\item TRUE\n",
       "\\item TRUE\n",
       "\\item TRUE\n",
       "\\item TRUE\n",
       "\\item TRUE\n",
       "\\item TRUE\n",
       "\\item TRUE\n",
       "\\item TRUE\n",
       "\\item TRUE\n",
       "\\item TRUE\n",
       "\\item TRUE\n",
       "\\item TRUE\n",
       "\\item TRUE\n",
       "\\item TRUE\n",
       "\\item TRUE\n",
       "\\item TRUE\n",
       "\\item TRUE\n",
       "\\item TRUE\n",
       "\\item TRUE\n",
       "\\item TRUE\n",
       "\\item TRUE\n",
       "\\item TRUE\n",
       "\\item TRUE\n",
       "\\item TRUE\n",
       "\\item TRUE\n",
       "\\item TRUE\n",
       "\\item TRUE\n",
       "\\item TRUE\n",
       "\\item TRUE\n",
       "\\item TRUE\n",
       "\\item TRUE\n",
       "\\item TRUE\n",
       "\\item TRUE\n",
       "\\item TRUE\n",
       "\\item TRUE\n",
       "\\item TRUE\n",
       "\\item TRUE\n",
       "\\item TRUE\n",
       "\\item TRUE\n",
       "\\item TRUE\n",
       "\\item TRUE\n",
       "\\item TRUE\n",
       "\\item TRUE\n",
       "\\item TRUE\n",
       "\\item TRUE\n",
       "\\item TRUE\n",
       "\\item TRUE\n",
       "\\item TRUE\n",
       "\\item TRUE\n",
       "\\item TRUE\n",
       "\\item TRUE\n",
       "\\item TRUE\n",
       "\\item TRUE\n",
       "\\item TRUE\n",
       "\\item TRUE\n",
       "\\item TRUE\n",
       "\\item TRUE\n",
       "\\item TRUE\n",
       "\\item TRUE\n",
       "\\item TRUE\n",
       "\\item TRUE\n",
       "\\item TRUE\n",
       "\\item TRUE\n",
       "\\item TRUE\n",
       "\\item TRUE\n",
       "\\item TRUE\n",
       "\\item TRUE\n",
       "\\item TRUE\n",
       "\\item TRUE\n",
       "\\item TRUE\n",
       "\\end{enumerate*}\n"
      ],
      "text/markdown": [
       "1. FALSE\n",
       "2. FALSE\n",
       "3. FALSE\n",
       "4. TRUE\n",
       "5. TRUE\n",
       "6. TRUE\n",
       "7. TRUE\n",
       "8. TRUE\n",
       "9. TRUE\n",
       "10. TRUE\n",
       "11. TRUE\n",
       "12. TRUE\n",
       "13. TRUE\n",
       "14. TRUE\n",
       "15. TRUE\n",
       "16. TRUE\n",
       "17. TRUE\n",
       "18. TRUE\n",
       "19. TRUE\n",
       "20. TRUE\n",
       "21. TRUE\n",
       "22. TRUE\n",
       "23. TRUE\n",
       "24. TRUE\n",
       "25. TRUE\n",
       "26. TRUE\n",
       "27. TRUE\n",
       "28. TRUE\n",
       "29. TRUE\n",
       "30. TRUE\n",
       "31. TRUE\n",
       "32. TRUE\n",
       "33. TRUE\n",
       "34. TRUE\n",
       "35. TRUE\n",
       "36. TRUE\n",
       "37. TRUE\n",
       "38. TRUE\n",
       "39. TRUE\n",
       "40. TRUE\n",
       "41. TRUE\n",
       "42. TRUE\n",
       "43. TRUE\n",
       "44. TRUE\n",
       "45. TRUE\n",
       "46. TRUE\n",
       "47. TRUE\n",
       "48. TRUE\n",
       "49. TRUE\n",
       "50. TRUE\n",
       "51. TRUE\n",
       "52. TRUE\n",
       "53. TRUE\n",
       "54. TRUE\n",
       "55. TRUE\n",
       "56. TRUE\n",
       "57. TRUE\n",
       "58. TRUE\n",
       "59. TRUE\n",
       "60. TRUE\n",
       "61. TRUE\n",
       "62. TRUE\n",
       "63. TRUE\n",
       "64. TRUE\n",
       "65. TRUE\n",
       "66. TRUE\n",
       "67. TRUE\n",
       "68. TRUE\n",
       "69. TRUE\n",
       "70. TRUE\n",
       "71. TRUE\n",
       "72. TRUE\n",
       "73. TRUE\n",
       "74. TRUE\n",
       "75. TRUE\n",
       "76. TRUE\n",
       "77. TRUE\n",
       "78. TRUE\n",
       "79. TRUE\n",
       "80. TRUE\n",
       "81. TRUE\n",
       "82. TRUE\n",
       "83. TRUE\n",
       "84. TRUE\n",
       "85. TRUE\n",
       "86. TRUE\n",
       "87. TRUE\n",
       "88. TRUE\n",
       "89. TRUE\n",
       "90. TRUE\n",
       "91. TRUE\n",
       "92. TRUE\n",
       "93. TRUE\n",
       "94. TRUE\n",
       "95. TRUE\n",
       "96. TRUE\n",
       "97. TRUE\n",
       "98. TRUE\n",
       "99. TRUE\n",
       "100. TRUE\n",
       "101. TRUE\n",
       "102. TRUE\n",
       "103. TRUE\n",
       "104. TRUE\n",
       "105. TRUE\n",
       "106. TRUE\n",
       "107. TRUE\n",
       "108. TRUE\n",
       "109. TRUE\n",
       "110. TRUE\n",
       "111. TRUE\n",
       "112. TRUE\n",
       "113. TRUE\n",
       "114. TRUE\n",
       "115. TRUE\n",
       "116. TRUE\n",
       "117. TRUE\n",
       "118. TRUE\n",
       "119. TRUE\n",
       "120. TRUE\n",
       "121. TRUE\n",
       "122. TRUE\n",
       "123. TRUE\n",
       "124. TRUE\n",
       "125. TRUE\n",
       "126. TRUE\n",
       "127. TRUE\n",
       "128. TRUE\n",
       "129. TRUE\n",
       "130. TRUE\n",
       "131. TRUE\n",
       "132. TRUE\n",
       "133. TRUE\n",
       "134. TRUE\n",
       "135. TRUE\n",
       "136. TRUE\n",
       "137. TRUE\n",
       "138. TRUE\n",
       "139. TRUE\n",
       "140. TRUE\n",
       "141. TRUE\n",
       "142. TRUE\n",
       "143. TRUE\n",
       "144. TRUE\n",
       "145. TRUE\n",
       "146. TRUE\n",
       "147. TRUE\n",
       "148. TRUE\n",
       "149. TRUE\n",
       "150. TRUE\n",
       "151. TRUE\n",
       "152. TRUE\n",
       "153. TRUE\n",
       "154. TRUE\n",
       "155. TRUE\n",
       "156. TRUE\n",
       "157. TRUE\n",
       "158. TRUE\n",
       "159. TRUE\n",
       "160. TRUE\n",
       "161. TRUE\n",
       "162. TRUE\n",
       "163. TRUE\n",
       "164. TRUE\n",
       "165. TRUE\n",
       "166. TRUE\n",
       "167. TRUE\n",
       "168. TRUE\n",
       "169. TRUE\n",
       "170. TRUE\n",
       "171. TRUE\n",
       "172. TRUE\n",
       "173. TRUE\n",
       "174. TRUE\n",
       "175. TRUE\n",
       "176. TRUE\n",
       "177. TRUE\n",
       "178. TRUE\n",
       "179. TRUE\n",
       "180. TRUE\n",
       "181. TRUE\n",
       "182. TRUE\n",
       "183. TRUE\n",
       "184. TRUE\n",
       "185. TRUE\n",
       "186. TRUE\n",
       "187. TRUE\n",
       "188. TRUE\n",
       "189. TRUE\n",
       "190. TRUE\n",
       "191. TRUE\n",
       "192. TRUE\n",
       "193. TRUE\n",
       "194. TRUE\n",
       "195. TRUE\n",
       "196. TRUE\n",
       "197. TRUE\n",
       "198. TRUE\n",
       "199. TRUE\n",
       "200. TRUE\n",
       "201. TRUE\n",
       "202. TRUE\n",
       "203. TRUE\n",
       "204. TRUE\n",
       "205. TRUE\n",
       "206. TRUE\n",
       "207. TRUE\n",
       "208. TRUE\n",
       "209. TRUE\n",
       "210. TRUE\n",
       "211. TRUE\n",
       "212. TRUE\n",
       "213. TRUE\n",
       "214. TRUE\n",
       "215. TRUE\n",
       "216. TRUE\n",
       "217. TRUE\n",
       "218. TRUE\n",
       "219. TRUE\n",
       "220. TRUE\n",
       "221. TRUE\n",
       "222. TRUE\n",
       "223. TRUE\n",
       "224. TRUE\n",
       "225. TRUE\n",
       "226. TRUE\n",
       "227. TRUE\n",
       "228. TRUE\n",
       "229. TRUE\n",
       "230. TRUE\n",
       "231. TRUE\n",
       "232. TRUE\n",
       "233. TRUE\n",
       "234. TRUE\n",
       "235. TRUE\n",
       "236. TRUE\n",
       "\n",
       "\n"
      ],
      "text/plain": [
       "  [1] FALSE FALSE FALSE  TRUE  TRUE  TRUE  TRUE  TRUE  TRUE  TRUE  TRUE  TRUE  TRUE  TRUE  TRUE  TRUE  TRUE  TRUE  TRUE  TRUE  TRUE  TRUE  TRUE  TRUE  TRUE  TRUE  TRUE  TRUE  TRUE  TRUE\n",
       " [31]  TRUE  TRUE  TRUE  TRUE  TRUE  TRUE  TRUE  TRUE  TRUE  TRUE  TRUE  TRUE  TRUE  TRUE  TRUE  TRUE  TRUE  TRUE  TRUE  TRUE  TRUE  TRUE  TRUE  TRUE  TRUE  TRUE  TRUE  TRUE  TRUE  TRUE\n",
       " [61]  TRUE  TRUE  TRUE  TRUE  TRUE  TRUE  TRUE  TRUE  TRUE  TRUE  TRUE  TRUE  TRUE  TRUE  TRUE  TRUE  TRUE  TRUE  TRUE  TRUE  TRUE  TRUE  TRUE  TRUE  TRUE  TRUE  TRUE  TRUE  TRUE  TRUE\n",
       " [91]  TRUE  TRUE  TRUE  TRUE  TRUE  TRUE  TRUE  TRUE  TRUE  TRUE  TRUE  TRUE  TRUE  TRUE  TRUE  TRUE  TRUE  TRUE  TRUE  TRUE  TRUE  TRUE  TRUE  TRUE  TRUE  TRUE  TRUE  TRUE  TRUE  TRUE\n",
       "[121]  TRUE  TRUE  TRUE  TRUE  TRUE  TRUE  TRUE  TRUE  TRUE  TRUE  TRUE  TRUE  TRUE  TRUE  TRUE  TRUE  TRUE  TRUE  TRUE  TRUE  TRUE  TRUE  TRUE  TRUE  TRUE  TRUE  TRUE  TRUE  TRUE  TRUE\n",
       "[151]  TRUE  TRUE  TRUE  TRUE  TRUE  TRUE  TRUE  TRUE  TRUE  TRUE  TRUE  TRUE  TRUE  TRUE  TRUE  TRUE  TRUE  TRUE  TRUE  TRUE  TRUE  TRUE  TRUE  TRUE  TRUE  TRUE  TRUE  TRUE  TRUE  TRUE\n",
       "[181]  TRUE  TRUE  TRUE  TRUE  TRUE  TRUE  TRUE  TRUE  TRUE  TRUE  TRUE  TRUE  TRUE  TRUE  TRUE  TRUE  TRUE  TRUE  TRUE  TRUE  TRUE  TRUE  TRUE  TRUE  TRUE  TRUE  TRUE  TRUE  TRUE  TRUE\n",
       "[211]  TRUE  TRUE  TRUE  TRUE  TRUE  TRUE  TRUE  TRUE  TRUE  TRUE  TRUE  TRUE  TRUE  TRUE  TRUE  TRUE  TRUE  TRUE  TRUE  TRUE  TRUE  TRUE  TRUE  TRUE  TRUE  TRUE"
      ]
     },
     "metadata": {},
     "output_type": "display_data"
    }
   ],
   "source": [
    "#\n",
    "(file.exists(dsn$dump_r1) | file.exists(dsn$dump_r))\n"
   ]
  },
  {
   "cell_type": "code",
   "execution_count": null,
   "id": "06614dce-c342-457d-a661-91c3ab8a849d",
   "metadata": {},
   "outputs": [],
   "source": [
    "# Single End sequenceing or Double end sequencing\n",
    "dsn[, sede := 'de'] \n",
    "dsn[file.exists(dumpr), sede := 'se']\n",
    "dsn[1:3, sede := 'se']\n"
   ]
  },
  {
   "cell_type": "code",
   "execution_count": 135,
   "id": "19e0f221-56b2-4c38-a610-84cc82cea450",
   "metadata": {},
   "outputs": [],
   "source": [
    "write(dsn[grepl('SRR', srr_id) & !file.exists(dsn$sra_file), prefetch_cmd], file = 'run_batch3_prefetch.sh')\n",
    "write(dsn[grepl('SRR', srr_id), fastqdump_cmd], file = 'run_batch3_fastq.sh')\n"
   ]
  },
  {
   "cell_type": "code",
   "execution_count": 162,
   "id": "3cbb5e8d-1480-4f5d-b19c-3d3e9c350d03",
   "metadata": {},
   "outputs": [
    {
     "data": {
      "text/html": [
       "TRUE"
      ],
      "text/latex": [
       "TRUE"
      ],
      "text/markdown": [
       "TRUE"
      ],
      "text/plain": [
       "[1] TRUE"
      ]
     },
     "metadata": {},
     "output_type": "display_data"
    }
   ],
   "source": [
    "all(file.exists(dsn$sra_file[4:length(dsn$sra_file)]))"
   ]
  },
  {
   "cell_type": "raw",
   "id": "239b0ca1-23a1-4d98-9e17-565fe3f93e8b",
   "metadata": {},
   "source": [
    "# these are not from sra\n",
    "wget -O /research_jude/rgs01_jude/groups/jxugrp/home/common/Data_Public/ATAC-seq/Hematopoietic_lineages_batch3/Kasumi1_ATAC_rep1/ERR4084850.fastq.gz ftp://ftp.sra.ebi.ac.uk/vol1/fastq/ERR408/000/ERR4084850/ERR4084850.fastq.gz\n",
    "wget -O /research_jude/rgs01_jude/groups/jxugrp/home/common/Data_Public/ATAC-seq/Hematopoietic_lineages_batch3/Kasumi1_ATAC_rep2/ERR4084851.fastq.gz ftp://ftp.sra.ebi.ac.uk/vol1/fastq/ERR408/001/ERR4084851/ERR4084851.fastq.gz\n",
    "wget -O /research_jude/rgs01_jude/groups/jxugrp/home/common/Data_Public/ATAC-seq/Hematopoietic_lineages_batch3/Kasumi1_ATAC_rep3/ERR4084852.fastq.gz ftp://ftp.sra.ebi.ac.uk/vol1/fastq/ERR408/002/ERR4084852/ERR4084852.fastq.gz\n"
   ]
  },
  {
   "cell_type": "code",
   "execution_count": null,
   "id": "9bdbcc7c-33c4-403a-bd79-0cb1ad50d44d",
   "metadata": {},
   "outputs": [],
   "source": [
    "prefetch SRR24401764 -O /research_jude/rgs01_jude/groups/jxugrp/home/common/Data_Public/ATAC-seq/Hematopoietic_lineages_batch3/HiC_HSC_rep2_HiC_HSC_rep2_HiC_HSC_rep2/ --max-size 40g\n"
   ]
  },
  {
   "cell_type": "markdown",
   "id": "fe10038f-8017-45e9-814f-2f098e9d08d8",
   "metadata": {},
   "source": [
    "# cutadapt"
   ]
  },
  {
   "cell_type": "code",
   "execution_count": null,
   "id": "6f34b4d0-4738-4753-b173-c448389b4fda",
   "metadata": {},
   "outputs": [],
   "source": [
    "# module load cutadapt/4.4\n",
    "\n",
    "dsn[, r1_trimmed := paste0(sample_dir, sample_name, '_R1_trimmed.fa.gz')]\n",
    "dsn[, r2_trimmed := paste0(sample_dir, sample_name, '_R2_trimmed.fa.gz')]\n",
    "dsn[, cutadapt_jobname := paste0('cuta_', sample_name)]\n",
    "dsn[, cutadapt_oo := paste0(sample_dir, sample_name, '_', cutadapt_jobname, '_out')]\n",
    "dsn[, cutadapt_eo := paste0(sample_dir, sample_name, '_', cutadapt_jobname, '_err')]\n",
    "dsn[, cutadapt_cmd := paste0('bsub -J ', cutadapt_jobname, ' -n 10 -o ', cutadapt_oo, ' -e ', cutadapt_eo)]\n",
    "dsn[file.exists(RR2),  cutadapt_cmd := paste0(cutadapt_cmd, ' \" cutadapt -o ', fastq_r1_trimmed, ' -p ', fastq_r2_trimmed, ' ', RR1, ' ', RR2, '\"')]\n",
    "dsn[!file.exists(RR2), cutadapt_cmd := paste0(cutadapt_cmd, ' \" cutadapt -o ', fastq_r1_trimmed, ' ', RR1, '\"')]\n",
    "head(dsn[!file.exists(fastq_r1_trimmed) | file.size(fastq_r1_trimmed) < 500000, cutadapt_cmd], 1)\n",
    "#write(dsn[count_file == 'No', cutadapt_cmd], file = paste0(base_dir, 'run_cutadapt.sh'))\n",
    "write(dsn[!file.exists(fastq_r1_trimmed) | file.size(fastq_r1_trimmed) < 500000, cutadapt_cmd], file = paste0(wk_dir, 'run_', PP, '_cutadapt.sh'))\n"
   ]
  },
  {
   "cell_type": "code",
   "execution_count": 143,
   "id": "d9513b6f-ac4e-4836-b061-7a749030e886",
   "metadata": {},
   "outputs": [
    {
     "ename": "ERROR",
     "evalue": "Error in file.exists(dsn$r1_trimmed): invalid 'file' argument\n",
     "output_type": "error",
     "traceback": [
      "Error in file.exists(dsn$r1_trimmed): invalid 'file' argument\nTraceback:\n",
      "1. file.exists(dsn$r1_trimmed)"
     ]
    }
   ],
   "source": [
    "file.exists(dsn$r1_trimmed)"
   ]
  }
 ],
 "metadata": {
  "kernelspec": {
   "display_name": "Python 3 (ipykernel)",
   "language": "python",
   "name": "python3"
  },
  "language_info": {
   "codemirror_mode": {
    "name": "ipython",
    "version": 3
   },
   "file_extension": ".py",
   "mimetype": "text/x-python",
   "name": "python",
   "nbconvert_exporter": "python",
   "pygments_lexer": "ipython3",
   "version": "3.12.2"
  }
 },
 "nbformat": 4,
 "nbformat_minor": 5
}
