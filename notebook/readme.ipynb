{
 "cells": [
  {
   "cell_type": "code",
   "execution_count": 1,
   "id": "eceece64-c03a-492e-b856-8639d1b28fa1",
   "metadata": {},
   "outputs": [],
   "source": [
    "import os\n"
   ]
  },
  {
   "cell_type": "markdown",
   "id": "0057e995-3e10-42e9-9149-05ea0f297dcf",
   "metadata": {},
   "source": [
    "# Blueprint stem cell RNASeq\n",
    "- nb_TE_blueprint_HSPC_Apr23-checkpoint.ipynb,\n",
    "- nb_TE_blueprint_HSPC_May29.ipynb,\n",
    "# ATAC-Seq for stem cell, and some mature cells\n",
    "- nb_TE_HSC_ATAC.ipynb,\n",
    "# additional ChIP-Seq and cell lines ATAC-Seq\n",
    "- nb_enhancer_resource_list.ipynb,\n",
    "# additional RNA-Seq, big part from the same source of the ATAC-Seq\n",
    "- nb_ranseq_resource_list.ipynb,\n",
    "# some backup code for ega data downloading\n",
    "- nb_TE_ega_list.ipynb\n"
   ]
  },
  {
   "cell_type": "markdown",
   "id": "81dd2cf0-0480-438b-aa2b-e8e94c7ea6ad",
   "metadata": {
    "jp-MarkdownHeadingCollapsed": true
   },
   "source": [
    "# raw and processed data location \n",
    "- RNA_seq/Blueprint_EGA_Data_EGAD00001000745_Transcriptional_Diversity_Human_Blood_progenitors_Chen_etal_Science_2014/\n",
    "- ATAC-seq/Hematopoietic_lineages downloaded and shared by Kaili, ATAC-Seq of HSPC and erythrocyte, et al.\n",
    "- ATAC-seq/Hematopoietic_lineages_batch2: additional raw data for ATAC-Seq of HSPC and erythorcyte\n",
    "- ATAC-seq/Hematopoietic_lineages_batch3: ChIP-Seq of HSPC and cell line, cell line ATAC-Seq and ChIP-Seq\n",
    "- RNA_seq/GSE74246: RNA-Seq of stem cell, mature cells"
   ]
  },
  {
   "cell_type": "markdown",
   "id": "e5d6f416-0ef8-49d9-b997-8db98a8c9ae5",
   "metadata": {},
   "source": [
    "# downloaded data \n"
   ]
  },
  {
   "cell_type": "markdown",
   "id": "f079571f-0532-4fbc-b376-942407f4d312",
   "metadata": {},
   "source": [
    "- For TCGA, BeatAML, and target\n",
    "- Jin, bcat_TCGA_AML.ipynb"
   ]
  }
 ],
 "metadata": {
  "kernelspec": {
   "display_name": "snapPy",
   "language": "python",
   "name": "snappy"
  },
  "language_info": {
   "codemirror_mode": {
    "name": "ipython",
    "version": 3
   },
   "file_extension": ".py",
   "mimetype": "text/x-python",
   "name": "python",
   "nbconvert_exporter": "python",
   "pygments_lexer": "ipython3",
   "version": "3.10.14"
  }
 },
 "nbformat": 4,
 "nbformat_minor": 5
}
